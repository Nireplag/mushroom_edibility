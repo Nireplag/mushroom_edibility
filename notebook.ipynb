{
  "nbformat": 4,
  "nbformat_minor": 0,
  "metadata": {
    "colab": {
      "provenance": [],
      "authorship_tag": "ABX9TyPYINcegZJz07utK/PD9+AP",
      "include_colab_link": true
    },
    "kernelspec": {
      "name": "python3",
      "display_name": "Python 3"
    },
    "language_info": {
      "name": "python"
    }
  },
  "cells": [
    {
      "cell_type": "markdown",
      "metadata": {
        "id": "view-in-github",
        "colab_type": "text"
      },
      "source": [
        "<a href=\"https://colab.research.google.com/github/Nireplag/mushroom_edibility/blob/main/notebook.ipynb\" target=\"_parent\"><img src=\"https://colab.research.google.com/assets/colab-badge.svg\" alt=\"Open In Colab\"/></a>"
      ]
    },
    {
      "cell_type": "code",
      "execution_count": 47,
      "metadata": {
        "id": "0IYjh5ZD5NC7"
      },
      "outputs": [],
      "source": [
        "# import libraries\n",
        "\n",
        "import numpy as np\n",
        "import pandas as pd\n",
        "import matplotlib.pyplot as plt\n",
        "from sklearn.model_selection import train_test_split\n",
        "from sklearn.metrics import mutual_info_score"
      ]
    },
    {
      "cell_type": "code",
      "source": [
        "# import data\n",
        "\n",
        "df = pd.read_csv('https://raw.githubusercontent.com/Nireplag/mushroom_edibility/main/mushrooms.csv')"
      ],
      "metadata": {
        "id": "CGQQU6fL5rv1"
      },
      "execution_count": 48,
      "outputs": []
    },
    {
      "cell_type": "markdown",
      "source": [
        "EDA"
      ],
      "metadata": {
        "id": "VL779o7XrtCg"
      }
    },
    {
      "cell_type": "code",
      "source": [
        "# make all columns lowercase and check for null values\n",
        "df.columns = df.columns.str.replace(' ', '_').str.lower()\n",
        "df.columns = df.columns.str.replace('-', '_').str.lower()\n",
        "df.isnull().sum()"
      ],
      "metadata": {
        "colab": {
          "base_uri": "https://localhost:8080/"
        },
        "id": "ecoQVEB884XJ",
        "outputId": "a5213f84-3baf-40d4-eff4-40578ca04466"
      },
      "execution_count": 49,
      "outputs": [
        {
          "output_type": "execute_result",
          "data": {
            "text/plain": [
              "class                       0\n",
              "cap_shape                   0\n",
              "cap_surface                 0\n",
              "cap_color                   0\n",
              "bruises                     0\n",
              "odor                        0\n",
              "gill_attachment             0\n",
              "gill_spacing                0\n",
              "gill_size                   0\n",
              "gill_color                  0\n",
              "stalk_shape                 0\n",
              "stalk_root                  0\n",
              "stalk_surface_above_ring    0\n",
              "stalk_surface_below_ring    0\n",
              "stalk_color_above_ring      0\n",
              "stalk_color_below_ring      0\n",
              "veil_type                   0\n",
              "veil_color                  0\n",
              "ring_number                 0\n",
              "ring_type                   0\n",
              "spore_print_color           0\n",
              "population                  0\n",
              "habitat                     0\n",
              "dtype: int64"
            ]
          },
          "metadata": {},
          "execution_count": 49
        }
      ]
    },
    {
      "cell_type": "code",
      "source": [
        "# check for variables descriptive statistics\n",
        "df.describe()"
      ],
      "metadata": {
        "colab": {
          "base_uri": "https://localhost:8080/",
          "height": 224
        },
        "id": "3HiixAEe9LNN",
        "outputId": "fc921755-1e97-4448-b484-e15dc7795c0b"
      },
      "execution_count": 50,
      "outputs": [
        {
          "output_type": "execute_result",
          "data": {
            "text/plain": [
              "       class cap_shape cap_surface cap_color bruises  odor gill_attachment  \\\n",
              "count   8124      8124        8124      8124    8124  8124            8124   \n",
              "unique     2         6           4        10       2     9               2   \n",
              "top        e         x           y         n       f     n               f   \n",
              "freq    4208      3656        3244      2284    4748  3528            7914   \n",
              "\n",
              "       gill_spacing gill_size gill_color  ... stalk_surface_below_ring  \\\n",
              "count          8124      8124       8124  ...                     8124   \n",
              "unique            2         2         12  ...                        4   \n",
              "top               c         b          b  ...                        s   \n",
              "freq           6812      5612       1728  ...                     4936   \n",
              "\n",
              "       stalk_color_above_ring stalk_color_below_ring veil_type veil_color  \\\n",
              "count                    8124                   8124      8124       8124   \n",
              "unique                      9                      9         1          4   \n",
              "top                         w                      w         p          w   \n",
              "freq                     4464                   4384      8124       7924   \n",
              "\n",
              "       ring_number ring_type spore_print_color population habitat  \n",
              "count         8124      8124              8124       8124    8124  \n",
              "unique           3         5                 9          6       7  \n",
              "top              o         p                 w          v       d  \n",
              "freq          7488      3968              2388       4040    3148  \n",
              "\n",
              "[4 rows x 23 columns]"
            ],
            "text/html": [
              "\n",
              "  <div id=\"df-8ab6ea1d-e6a2-4ff2-82b9-02b0f493c130\" class=\"colab-df-container\">\n",
              "    <div>\n",
              "<style scoped>\n",
              "    .dataframe tbody tr th:only-of-type {\n",
              "        vertical-align: middle;\n",
              "    }\n",
              "\n",
              "    .dataframe tbody tr th {\n",
              "        vertical-align: top;\n",
              "    }\n",
              "\n",
              "    .dataframe thead th {\n",
              "        text-align: right;\n",
              "    }\n",
              "</style>\n",
              "<table border=\"1\" class=\"dataframe\">\n",
              "  <thead>\n",
              "    <tr style=\"text-align: right;\">\n",
              "      <th></th>\n",
              "      <th>class</th>\n",
              "      <th>cap_shape</th>\n",
              "      <th>cap_surface</th>\n",
              "      <th>cap_color</th>\n",
              "      <th>bruises</th>\n",
              "      <th>odor</th>\n",
              "      <th>gill_attachment</th>\n",
              "      <th>gill_spacing</th>\n",
              "      <th>gill_size</th>\n",
              "      <th>gill_color</th>\n",
              "      <th>...</th>\n",
              "      <th>stalk_surface_below_ring</th>\n",
              "      <th>stalk_color_above_ring</th>\n",
              "      <th>stalk_color_below_ring</th>\n",
              "      <th>veil_type</th>\n",
              "      <th>veil_color</th>\n",
              "      <th>ring_number</th>\n",
              "      <th>ring_type</th>\n",
              "      <th>spore_print_color</th>\n",
              "      <th>population</th>\n",
              "      <th>habitat</th>\n",
              "    </tr>\n",
              "  </thead>\n",
              "  <tbody>\n",
              "    <tr>\n",
              "      <th>count</th>\n",
              "      <td>8124</td>\n",
              "      <td>8124</td>\n",
              "      <td>8124</td>\n",
              "      <td>8124</td>\n",
              "      <td>8124</td>\n",
              "      <td>8124</td>\n",
              "      <td>8124</td>\n",
              "      <td>8124</td>\n",
              "      <td>8124</td>\n",
              "      <td>8124</td>\n",
              "      <td>...</td>\n",
              "      <td>8124</td>\n",
              "      <td>8124</td>\n",
              "      <td>8124</td>\n",
              "      <td>8124</td>\n",
              "      <td>8124</td>\n",
              "      <td>8124</td>\n",
              "      <td>8124</td>\n",
              "      <td>8124</td>\n",
              "      <td>8124</td>\n",
              "      <td>8124</td>\n",
              "    </tr>\n",
              "    <tr>\n",
              "      <th>unique</th>\n",
              "      <td>2</td>\n",
              "      <td>6</td>\n",
              "      <td>4</td>\n",
              "      <td>10</td>\n",
              "      <td>2</td>\n",
              "      <td>9</td>\n",
              "      <td>2</td>\n",
              "      <td>2</td>\n",
              "      <td>2</td>\n",
              "      <td>12</td>\n",
              "      <td>...</td>\n",
              "      <td>4</td>\n",
              "      <td>9</td>\n",
              "      <td>9</td>\n",
              "      <td>1</td>\n",
              "      <td>4</td>\n",
              "      <td>3</td>\n",
              "      <td>5</td>\n",
              "      <td>9</td>\n",
              "      <td>6</td>\n",
              "      <td>7</td>\n",
              "    </tr>\n",
              "    <tr>\n",
              "      <th>top</th>\n",
              "      <td>e</td>\n",
              "      <td>x</td>\n",
              "      <td>y</td>\n",
              "      <td>n</td>\n",
              "      <td>f</td>\n",
              "      <td>n</td>\n",
              "      <td>f</td>\n",
              "      <td>c</td>\n",
              "      <td>b</td>\n",
              "      <td>b</td>\n",
              "      <td>...</td>\n",
              "      <td>s</td>\n",
              "      <td>w</td>\n",
              "      <td>w</td>\n",
              "      <td>p</td>\n",
              "      <td>w</td>\n",
              "      <td>o</td>\n",
              "      <td>p</td>\n",
              "      <td>w</td>\n",
              "      <td>v</td>\n",
              "      <td>d</td>\n",
              "    </tr>\n",
              "    <tr>\n",
              "      <th>freq</th>\n",
              "      <td>4208</td>\n",
              "      <td>3656</td>\n",
              "      <td>3244</td>\n",
              "      <td>2284</td>\n",
              "      <td>4748</td>\n",
              "      <td>3528</td>\n",
              "      <td>7914</td>\n",
              "      <td>6812</td>\n",
              "      <td>5612</td>\n",
              "      <td>1728</td>\n",
              "      <td>...</td>\n",
              "      <td>4936</td>\n",
              "      <td>4464</td>\n",
              "      <td>4384</td>\n",
              "      <td>8124</td>\n",
              "      <td>7924</td>\n",
              "      <td>7488</td>\n",
              "      <td>3968</td>\n",
              "      <td>2388</td>\n",
              "      <td>4040</td>\n",
              "      <td>3148</td>\n",
              "    </tr>\n",
              "  </tbody>\n",
              "</table>\n",
              "<p>4 rows × 23 columns</p>\n",
              "</div>\n",
              "    <div class=\"colab-df-buttons\">\n",
              "\n",
              "  <div class=\"colab-df-container\">\n",
              "    <button class=\"colab-df-convert\" onclick=\"convertToInteractive('df-8ab6ea1d-e6a2-4ff2-82b9-02b0f493c130')\"\n",
              "            title=\"Convert this dataframe to an interactive table.\"\n",
              "            style=\"display:none;\">\n",
              "\n",
              "  <svg xmlns=\"http://www.w3.org/2000/svg\" height=\"24px\" viewBox=\"0 -960 960 960\">\n",
              "    <path d=\"M120-120v-720h720v720H120Zm60-500h600v-160H180v160Zm220 220h160v-160H400v160Zm0 220h160v-160H400v160ZM180-400h160v-160H180v160Zm440 0h160v-160H620v160ZM180-180h160v-160H180v160Zm440 0h160v-160H620v160Z\"/>\n",
              "  </svg>\n",
              "    </button>\n",
              "\n",
              "  <style>\n",
              "    .colab-df-container {\n",
              "      display:flex;\n",
              "      gap: 12px;\n",
              "    }\n",
              "\n",
              "    .colab-df-convert {\n",
              "      background-color: #E8F0FE;\n",
              "      border: none;\n",
              "      border-radius: 50%;\n",
              "      cursor: pointer;\n",
              "      display: none;\n",
              "      fill: #1967D2;\n",
              "      height: 32px;\n",
              "      padding: 0 0 0 0;\n",
              "      width: 32px;\n",
              "    }\n",
              "\n",
              "    .colab-df-convert:hover {\n",
              "      background-color: #E2EBFA;\n",
              "      box-shadow: 0px 1px 2px rgba(60, 64, 67, 0.3), 0px 1px 3px 1px rgba(60, 64, 67, 0.15);\n",
              "      fill: #174EA6;\n",
              "    }\n",
              "\n",
              "    .colab-df-buttons div {\n",
              "      margin-bottom: 4px;\n",
              "    }\n",
              "\n",
              "    [theme=dark] .colab-df-convert {\n",
              "      background-color: #3B4455;\n",
              "      fill: #D2E3FC;\n",
              "    }\n",
              "\n",
              "    [theme=dark] .colab-df-convert:hover {\n",
              "      background-color: #434B5C;\n",
              "      box-shadow: 0px 1px 3px 1px rgba(0, 0, 0, 0.15);\n",
              "      filter: drop-shadow(0px 1px 2px rgba(0, 0, 0, 0.3));\n",
              "      fill: #FFFFFF;\n",
              "    }\n",
              "  </style>\n",
              "\n",
              "    <script>\n",
              "      const buttonEl =\n",
              "        document.querySelector('#df-8ab6ea1d-e6a2-4ff2-82b9-02b0f493c130 button.colab-df-convert');\n",
              "      buttonEl.style.display =\n",
              "        google.colab.kernel.accessAllowed ? 'block' : 'none';\n",
              "\n",
              "      async function convertToInteractive(key) {\n",
              "        const element = document.querySelector('#df-8ab6ea1d-e6a2-4ff2-82b9-02b0f493c130');\n",
              "        const dataTable =\n",
              "          await google.colab.kernel.invokeFunction('convertToInteractive',\n",
              "                                                    [key], {});\n",
              "        if (!dataTable) return;\n",
              "\n",
              "        const docLinkHtml = 'Like what you see? Visit the ' +\n",
              "          '<a target=\"_blank\" href=https://colab.research.google.com/notebooks/data_table.ipynb>data table notebook</a>'\n",
              "          + ' to learn more about interactive tables.';\n",
              "        element.innerHTML = '';\n",
              "        dataTable['output_type'] = 'display_data';\n",
              "        await google.colab.output.renderOutput(dataTable, element);\n",
              "        const docLink = document.createElement('div');\n",
              "        docLink.innerHTML = docLinkHtml;\n",
              "        element.appendChild(docLink);\n",
              "      }\n",
              "    </script>\n",
              "  </div>\n",
              "\n",
              "\n",
              "<div id=\"df-9006bbd1-fcee-414b-a85d-9430ef85fff2\">\n",
              "  <button class=\"colab-df-quickchart\" onclick=\"quickchart('df-9006bbd1-fcee-414b-a85d-9430ef85fff2')\"\n",
              "            title=\"Suggest charts\"\n",
              "            style=\"display:none;\">\n",
              "\n",
              "<svg xmlns=\"http://www.w3.org/2000/svg\" height=\"24px\"viewBox=\"0 0 24 24\"\n",
              "     width=\"24px\">\n",
              "    <g>\n",
              "        <path d=\"M19 3H5c-1.1 0-2 .9-2 2v14c0 1.1.9 2 2 2h14c1.1 0 2-.9 2-2V5c0-1.1-.9-2-2-2zM9 17H7v-7h2v7zm4 0h-2V7h2v10zm4 0h-2v-4h2v4z\"/>\n",
              "    </g>\n",
              "</svg>\n",
              "  </button>\n",
              "\n",
              "<style>\n",
              "  .colab-df-quickchart {\n",
              "      --bg-color: #E8F0FE;\n",
              "      --fill-color: #1967D2;\n",
              "      --hover-bg-color: #E2EBFA;\n",
              "      --hover-fill-color: #174EA6;\n",
              "      --disabled-fill-color: #AAA;\n",
              "      --disabled-bg-color: #DDD;\n",
              "  }\n",
              "\n",
              "  [theme=dark] .colab-df-quickchart {\n",
              "      --bg-color: #3B4455;\n",
              "      --fill-color: #D2E3FC;\n",
              "      --hover-bg-color: #434B5C;\n",
              "      --hover-fill-color: #FFFFFF;\n",
              "      --disabled-bg-color: #3B4455;\n",
              "      --disabled-fill-color: #666;\n",
              "  }\n",
              "\n",
              "  .colab-df-quickchart {\n",
              "    background-color: var(--bg-color);\n",
              "    border: none;\n",
              "    border-radius: 50%;\n",
              "    cursor: pointer;\n",
              "    display: none;\n",
              "    fill: var(--fill-color);\n",
              "    height: 32px;\n",
              "    padding: 0;\n",
              "    width: 32px;\n",
              "  }\n",
              "\n",
              "  .colab-df-quickchart:hover {\n",
              "    background-color: var(--hover-bg-color);\n",
              "    box-shadow: 0 1px 2px rgba(60, 64, 67, 0.3), 0 1px 3px 1px rgba(60, 64, 67, 0.15);\n",
              "    fill: var(--button-hover-fill-color);\n",
              "  }\n",
              "\n",
              "  .colab-df-quickchart-complete:disabled,\n",
              "  .colab-df-quickchart-complete:disabled:hover {\n",
              "    background-color: var(--disabled-bg-color);\n",
              "    fill: var(--disabled-fill-color);\n",
              "    box-shadow: none;\n",
              "  }\n",
              "\n",
              "  .colab-df-spinner {\n",
              "    border: 2px solid var(--fill-color);\n",
              "    border-color: transparent;\n",
              "    border-bottom-color: var(--fill-color);\n",
              "    animation:\n",
              "      spin 1s steps(1) infinite;\n",
              "  }\n",
              "\n",
              "  @keyframes spin {\n",
              "    0% {\n",
              "      border-color: transparent;\n",
              "      border-bottom-color: var(--fill-color);\n",
              "      border-left-color: var(--fill-color);\n",
              "    }\n",
              "    20% {\n",
              "      border-color: transparent;\n",
              "      border-left-color: var(--fill-color);\n",
              "      border-top-color: var(--fill-color);\n",
              "    }\n",
              "    30% {\n",
              "      border-color: transparent;\n",
              "      border-left-color: var(--fill-color);\n",
              "      border-top-color: var(--fill-color);\n",
              "      border-right-color: var(--fill-color);\n",
              "    }\n",
              "    40% {\n",
              "      border-color: transparent;\n",
              "      border-right-color: var(--fill-color);\n",
              "      border-top-color: var(--fill-color);\n",
              "    }\n",
              "    60% {\n",
              "      border-color: transparent;\n",
              "      border-right-color: var(--fill-color);\n",
              "    }\n",
              "    80% {\n",
              "      border-color: transparent;\n",
              "      border-right-color: var(--fill-color);\n",
              "      border-bottom-color: var(--fill-color);\n",
              "    }\n",
              "    90% {\n",
              "      border-color: transparent;\n",
              "      border-bottom-color: var(--fill-color);\n",
              "    }\n",
              "  }\n",
              "</style>\n",
              "\n",
              "  <script>\n",
              "    async function quickchart(key) {\n",
              "      const quickchartButtonEl =\n",
              "        document.querySelector('#' + key + ' button');\n",
              "      quickchartButtonEl.disabled = true;  // To prevent multiple clicks.\n",
              "      quickchartButtonEl.classList.add('colab-df-spinner');\n",
              "      try {\n",
              "        const charts = await google.colab.kernel.invokeFunction(\n",
              "            'suggestCharts', [key], {});\n",
              "      } catch (error) {\n",
              "        console.error('Error during call to suggestCharts:', error);\n",
              "      }\n",
              "      quickchartButtonEl.classList.remove('colab-df-spinner');\n",
              "      quickchartButtonEl.classList.add('colab-df-quickchart-complete');\n",
              "    }\n",
              "    (() => {\n",
              "      let quickchartButtonEl =\n",
              "        document.querySelector('#df-9006bbd1-fcee-414b-a85d-9430ef85fff2 button');\n",
              "      quickchartButtonEl.style.display =\n",
              "        google.colab.kernel.accessAllowed ? 'block' : 'none';\n",
              "    })();\n",
              "  </script>\n",
              "</div>\n",
              "\n",
              "    </div>\n",
              "  </div>\n"
            ]
          },
          "metadata": {},
          "execution_count": 50
        }
      ]
    },
    {
      "cell_type": "code",
      "source": [
        "#check for categorical values -> all categorical\n",
        "df.dtypes"
      ],
      "metadata": {
        "colab": {
          "base_uri": "https://localhost:8080/"
        },
        "id": "KXhQfVTj9XId",
        "outputId": "1559e632-41c7-4b41-f660-223e09499471"
      },
      "execution_count": 51,
      "outputs": [
        {
          "output_type": "execute_result",
          "data": {
            "text/plain": [
              "class                       object\n",
              "cap_shape                   object\n",
              "cap_surface                 object\n",
              "cap_color                   object\n",
              "bruises                     object\n",
              "odor                        object\n",
              "gill_attachment             object\n",
              "gill_spacing                object\n",
              "gill_size                   object\n",
              "gill_color                  object\n",
              "stalk_shape                 object\n",
              "stalk_root                  object\n",
              "stalk_surface_above_ring    object\n",
              "stalk_surface_below_ring    object\n",
              "stalk_color_above_ring      object\n",
              "stalk_color_below_ring      object\n",
              "veil_type                   object\n",
              "veil_color                  object\n",
              "ring_number                 object\n",
              "ring_type                   object\n",
              "spore_print_color           object\n",
              "population                  object\n",
              "habitat                     object\n",
              "dtype: object"
            ]
          },
          "metadata": {},
          "execution_count": 51
        }
      ]
    },
    {
      "cell_type": "code",
      "source": [
        "# check data distribution for each feature\n",
        "df.cap_shape.hist()"
      ],
      "metadata": {
        "colab": {
          "base_uri": "https://localhost:8080/",
          "height": 447
        },
        "id": "b7c8VMN-9psX",
        "outputId": "d8018c29-3c55-4926-ba4f-21de560cfb41"
      },
      "execution_count": 52,
      "outputs": [
        {
          "output_type": "execute_result",
          "data": {
            "text/plain": [
              "<Axes: >"
            ]
          },
          "metadata": {},
          "execution_count": 52
        },
        {
          "output_type": "display_data",
          "data": {
            "text/plain": [
              "<Figure size 640x480 with 1 Axes>"
            ],
            "image/png": "[encoded data removed]"
          },
          "metadata": {}
        }
      ]
    },
    {
      "cell_type": "code",
      "source": [
        "df.cap_surface.hist()"
      ],
      "metadata": {
        "colab": {
          "base_uri": "https://localhost:8080/",
          "height": 447
        },
        "id": "HirwD7RVkri3",
        "outputId": "b6efa250-93f2-4699-c587-4d9cbfffe30e"
      },
      "execution_count": 53,
      "outputs": [
        {
          "output_type": "execute_result",
          "data": {
            "text/plain": [
              "<Axes: >"
            ]
          },
          "metadata": {},
          "execution_count": 53
        },
        {
          "output_type": "display_data",
          "data": {
            "text/plain": [
              "<Figure size 640x480 with 1 Axes>"
            ],
            "image/png": "[encoded data removed]"
          },
          "metadata": {}
        }
      ]
    },
    {
      "cell_type": "code",
      "source": [
        "df.cap_color.hist()"
      ],
      "metadata": {
        "colab": {
          "base_uri": "https://localhost:8080/",
          "height": 447
        },
        "id": "kepECGmEkzut",
        "outputId": "cb63f3e5-42b1-448b-a9fe-c6b58fbd4779"
      },
      "execution_count": 54,
      "outputs": [
        {
          "output_type": "execute_result",
          "data": {
            "text/plain": [
              "<Axes: >"
            ]
          },
          "metadata": {},
          "execution_count": 54
        },
        {
          "output_type": "display_data",
          "data": {
            "text/plain": [
              "<Figure size 640x480 with 1 Axes>"
            ],
            "image/png": "[encoded data removed]"
          },
          "metadata": {}
        }
      ]
    },
    {
      "cell_type": "code",
      "source": [
        "df.bruises.hist()"
      ],
      "metadata": {
        "colab": {
          "base_uri": "https://localhost:8080/",
          "height": 447
        },
        "id": "mGcJpMZek-OP",
        "outputId": "808c613a-19b8-4409-9908-e1c5f6cbec54"
      },
      "execution_count": 55,
      "outputs": [
        {
          "output_type": "execute_result",
          "data": {
            "text/plain": [
              "<Axes: >"
            ]
          },
          "metadata": {},
          "execution_count": 55
        },
        {
          "output_type": "display_data",
          "data": {
            "text/plain": [
              "<Figure size 640x480 with 1 Axes>"
            ],
            "image/png": "[encoded data removed]"
          },
          "metadata": {}
        }
      ]
    },
    {
      "cell_type": "code",
      "source": [
        "df.odor.hist()"
      ],
      "metadata": {
        "colab": {
          "base_uri": "https://localhost:8080/",
          "height": 447
        },
        "id": "48Wq0ISdlF-6",
        "outputId": "b701b669-7dcf-4b3e-d048-16bab9f8f259"
      },
      "execution_count": 56,
      "outputs": [
        {
          "output_type": "execute_result",
          "data": {
            "text/plain": [
              "<Axes: >"
            ]
          },
          "metadata": {},
          "execution_count": 56
        },
        {
          "output_type": "display_data",
          "data": {
            "text/plain": [
              "<Figure size 640x480 with 1 Axes>"
            ],
            "image/png": "[encoded data removed]"
          },
          "metadata": {}
        }
      ]
    },
    {
      "cell_type": "code",
      "source": [
        "df.gill_attachment.hist()"
      ],
      "metadata": {
        "colab": {
          "base_uri": "https://localhost:8080/",
          "height": 447
        },
        "id": "F5KxAA5_pLWr",
        "outputId": "a7899301-728a-44ac-bd71-40e25006557a"
      },
      "execution_count": 57,
      "outputs": [
        {
          "output_type": "execute_result",
          "data": {
            "text/plain": [
              "<Axes: >"
            ]
          },
          "metadata": {},
          "execution_count": 57
        },
        {
          "output_type": "display_data",
          "data": {
            "text/plain": [
              "<Figure size 640x480 with 1 Axes>"
            ],
            "image/png": "[encoded data removed]"
          },
          "metadata": {}
        }
      ]
    },
    {
      "cell_type": "code",
      "source": [
        "df.gill_spacing.hist()"
      ],
      "metadata": {
        "colab": {
          "base_uri": "https://localhost:8080/",
          "height": 447
        },
        "id": "sFNX1-ufpklO",
        "outputId": "acf42385-565e-430d-cb5a-a460524f552b"
      },
      "execution_count": 58,
      "outputs": [
        {
          "output_type": "execute_result",
          "data": {
            "text/plain": [
              "<Axes: >"
            ]
          },
          "metadata": {},
          "execution_count": 58
        },
        {
          "output_type": "display_data",
          "data": {
            "text/plain": [
              "<Figure size 640x480 with 1 Axes>"
            ],
            "image/png": "[encoded data removed]"
          },
          "metadata": {}
        }
      ]
    },
    {
      "cell_type": "code",
      "source": [
        "df.gill_size.hist()"
      ],
      "metadata": {
        "colab": {
          "base_uri": "https://localhost:8080/",
          "height": 447
        },
        "id": "29KRqqOappw-",
        "outputId": "e7f11bf6-7bef-4edf-a6f6-4c812602238f"
      },
      "execution_count": 59,
      "outputs": [
        {
          "output_type": "execute_result",
          "data": {
            "text/plain": [
              "<Axes: >"
            ]
          },
          "metadata": {},
          "execution_count": 59
        },
        {
          "output_type": "display_data",
          "data": {
            "text/plain": [
              "<Figure size 640x480 with 1 Axes>"
            ],
            "image/png": "[encoded data removed]"
          },
          "metadata": {}
        }
      ]
    },
    {
      "cell_type": "code",
      "source": [
        "df.gill_color.hist()"
      ],
      "metadata": {
        "colab": {
          "base_uri": "https://localhost:8080/",
          "height": 447
        },
        "id": "ruJAJX92pxL4",
        "outputId": "3ca1657f-c2d9-4486-f2c6-b2e00b25882e"
      },
      "execution_count": 60,
      "outputs": [
        {
          "output_type": "execute_result",
          "data": {
            "text/plain": [
              "<Axes: >"
            ]
          },
          "metadata": {},
          "execution_count": 60
        },
        {
          "output_type": "display_data",
          "data": {
            "text/plain": [
              "<Figure size 640x480 with 1 Axes>"
            ],
            "image/png": "[encoded data removed]"
          },
          "metadata": {}
        }
      ]
    },
    {
      "cell_type": "code",
      "source": [
        "df.stalk_shape.hist()"
      ],
      "metadata": {
        "colab": {
          "base_uri": "https://localhost:8080/",
          "height": 447
        },
        "id": "aV4qfSsSp7VZ",
        "outputId": "e3f1ac21-3123-42b5-9daf-493ace8782f2"
      },
      "execution_count": 61,
      "outputs": [
        {
          "output_type": "execute_result",
          "data": {
            "text/plain": [
              "<Axes: >"
            ]
          },
          "metadata": {},
          "execution_count": 61
        },
        {
          "output_type": "display_data",
          "data": {
            "text/plain": [
              "<Figure size 640x480 with 1 Axes>"
            ],
            "image/png": "[encoded data removed]"
          },
          "metadata": {}
        }
      ]
    },
    {
      "cell_type": "code",
      "source": [
        "df.stalk_root.hist()"
      ],
      "metadata": {
        "colab": {
          "base_uri": "https://localhost:8080/",
          "height": 447
        },
        "id": "FRTJAr53qAq4",
        "outputId": "5862fe42-a128-486e-f7dc-7bcfb8c30737"
      },
      "execution_count": 62,
      "outputs": [
        {
          "output_type": "execute_result",
          "data": {
            "text/plain": [
              "<Axes: >"
            ]
          },
          "metadata": {},
          "execution_count": 62
        },
        {
          "output_type": "display_data",
          "data": {
            "text/plain": [
              "<Figure size 640x480 with 1 Axes>"
            ],
            "image/png": "[encoded data removed]"
          },
          "metadata": {}
        }
      ]
    },
    {
      "cell_type": "code",
      "source": [
        "df.stalk_surface_above_ring.hist()"
      ],
      "metadata": {
        "colab": {
          "base_uri": "https://localhost:8080/",
          "height": 447
        },
        "id": "htGdVRcsqK0w",
        "outputId": "70fe9338-9898-40be-b587-3682bd8588ec"
      },
      "execution_count": 63,
      "outputs": [
        {
          "output_type": "execute_result",
          "data": {
            "text/plain": [
              "<Axes: >"
            ]
          },
          "metadata": {},
          "execution_count": 63
        },
        {
          "output_type": "display_data",
          "data": {
            "text/plain": [
              "<Figure size 640x480 with 1 Axes>"
            ],
            "image/png": "[encoded data removed]"
          },
          "metadata": {}
        }
      ]
    },
    {
      "cell_type": "code",
      "source": [
        "df.stalk_surface_below_ring.hist()"
      ],
      "metadata": {
        "colab": {
          "base_uri": "https://localhost:8080/",
          "height": 447
        },
        "id": "Fq8HAt9KrCK6",
        "outputId": "36233ed7-faa4-40dc-93ce-504605eec664"
      },
      "execution_count": 64,
      "outputs": [
        {
          "output_type": "execute_result",
          "data": {
            "text/plain": [
              "<Axes: >"
            ]
          },
          "metadata": {},
          "execution_count": 64
        },
        {
          "output_type": "display_data",
          "data": {
            "text/plain": [
              "<Figure size 640x480 with 1 Axes>"
            ],
            "image/png": "[encoded data removed]"
          },
          "metadata": {}
        }
      ]
    },
    {
      "cell_type": "code",
      "source": [
        "df.stalk_color_above_ring.hist()"
      ],
      "metadata": {
        "colab": {
          "base_uri": "https://localhost:8080/",
          "height": 447
        },
        "id": "8qtS8Lj1rKCe",
        "outputId": "dbbc13a0-baf0-470d-b42e-9e1087a8c4c7"
      },
      "execution_count": 65,
      "outputs": [
        {
          "output_type": "execute_result",
          "data": {
            "text/plain": [
              "<Axes: >"
            ]
          },
          "metadata": {},
          "execution_count": 65
        },
        {
          "output_type": "display_data",
          "data": {
            "text/plain": [
              "<Figure size 640x480 with 1 Axes>"
            ],
            "image/png": "[encoded data removed]"
          },
          "metadata": {}
        }
      ]
    },
    {
      "cell_type": "code",
      "source": [
        "df.stalk_color_below_ring.hist()"
      ],
      "metadata": {
        "colab": {
          "base_uri": "https://localhost:8080/",
          "height": 447
        },
        "id": "UJd7Lat4rPkH",
        "outputId": "63473be3-a3ad-4ae1-f5e5-6f6f1f3d0512"
      },
      "execution_count": 66,
      "outputs": [
        {
          "output_type": "execute_result",
          "data": {
            "text/plain": [
              "<Axes: >"
            ]
          },
          "metadata": {},
          "execution_count": 66
        },
        {
          "output_type": "display_data",
          "data": {
            "text/plain": [
              "<Figure size 640x480 with 1 Axes>"
            ],
            "image/png": "[encoded data removed]"
          },
          "metadata": {}
        }
      ]
    },
    {
      "cell_type": "code",
      "source": [
        "df.veil_type.hist()"
      ],
      "metadata": {
        "colab": {
          "base_uri": "https://localhost:8080/",
          "height": 447
        },
        "id": "m4pk5vb5rXXN",
        "outputId": "61926754-69c1-4f57-d2d3-ebe5a92be690"
      },
      "execution_count": 67,
      "outputs": [
        {
          "output_type": "execute_result",
          "data": {
            "text/plain": [
              "<Axes: >"
            ]
          },
          "metadata": {},
          "execution_count": 67
        },
        {
          "output_type": "display_data",
          "data": {
            "text/plain": [
              "<Figure size 640x480 with 1 Axes>"
            ],
            "image/png": "[encoded data removed]"
          },
          "metadata": {}
        }
      ]
    },
    {
      "cell_type": "code",
      "source": [
        "df.veil_color.hist()"
      ],
      "metadata": {
        "colab": {
          "base_uri": "https://localhost:8080/",
          "height": 447
        },
        "id": "XR8YAga9rcL3",
        "outputId": "3a685d49-30ee-4db8-f1ed-1537f059795a"
      },
      "execution_count": 68,
      "outputs": [
        {
          "output_type": "execute_result",
          "data": {
            "text/plain": [
              "<Axes: >"
            ]
          },
          "metadata": {},
          "execution_count": 68
        },
        {
          "output_type": "display_data",
          "data": {
            "text/plain": [
              "<Figure size 640x480 with 1 Axes>"
            ],
            "image/png": "[encoded data removed]"
          },
          "metadata": {}
        }
      ]
    },
    {
      "cell_type": "code",
      "source": [
        "df.ring_number.hist()"
      ],
      "metadata": {
        "colab": {
          "base_uri": "https://localhost:8080/",
          "height": 447
        },
        "id": "YKn_AOVCrkrv",
        "outputId": "fffcabf2-fc69-4c82-f853-2ce32c14dbba"
      },
      "execution_count": 69,
      "outputs": [
        {
          "output_type": "execute_result",
          "data": {
            "text/plain": [
              "<Axes: >"
            ]
          },
          "metadata": {},
          "execution_count": 69
        },
        {
          "output_type": "display_data",
          "data": {
            "text/plain": [
              "<Figure size 640x480 with 1 Axes>"
            ],
            "image/png": "[encoded data removed]"
          },
          "metadata": {}
        }
      ]
    },
    {
      "cell_type": "code",
      "source": [
        "df.ring_type.hist()"
      ],
      "metadata": {
        "colab": {
          "base_uri": "https://localhost:8080/",
          "height": 447
        },
        "id": "9ujQX9ThrrNn",
        "outputId": "063dbe54-f9a8-4b33-aecd-7a1a67583d05"
      },
      "execution_count": 70,
      "outputs": [
        {
          "output_type": "execute_result",
          "data": {
            "text/plain": [
              "<Axes: >"
            ]
          },
          "metadata": {},
          "execution_count": 70
        },
        {
          "output_type": "display_data",
          "data": {
            "text/plain": [
              "<Figure size 640x480 with 1 Axes>"
            ],
            "image/png": "[encoded data removed]"
          },
          "metadata": {}
        }
      ]
    },
    {
      "cell_type": "code",
      "source": [
        "df.spore_print_color.hist()"
      ],
      "metadata": {
        "colab": {
          "base_uri": "https://localhost:8080/",
          "height": 451
        },
        "id": "smiezBWtrxto",
        "outputId": "bc380c7c-5350-41b0-bdaf-946751eeda6d"
      },
      "execution_count": 71,
      "outputs": [
        {
          "output_type": "execute_result",
          "data": {
            "text/plain": [
              "<Axes: >"
            ]
          },
          "metadata": {},
          "execution_count": 71
        },
        {
          "output_type": "display_data",
          "data": {
            "text/plain": [
              "<Figure size 640x480 with 1 Axes>"
            ],
            "image/png": "[encoded data removed]"
          },
          "metadata": {}
        }
      ]
    },
    {
      "cell_type": "code",
      "source": [
        "df.population.hist()"
      ],
      "metadata": {
        "colab": {
          "base_uri": "https://localhost:8080/",
          "height": 447
        },
        "id": "AyoDzmYlr7O_",
        "outputId": "a571e7e9-35d9-4136-a4d4-84e7a8d0b417"
      },
      "execution_count": 72,
      "outputs": [
        {
          "output_type": "execute_result",
          "data": {
            "text/plain": [
              "<Axes: >"
            ]
          },
          "metadata": {},
          "execution_count": 72
        },
        {
          "output_type": "display_data",
          "data": {
            "text/plain": [
              "<Figure size 640x480 with 1 Axes>"
            ],
            "image/png": "[encoded data removed]"
          },
          "metadata": {}
        }
      ]
    },
    {
      "cell_type": "code",
      "source": [
        "df.habitat.hist()"
      ],
      "metadata": {
        "colab": {
          "base_uri": "https://localhost:8080/",
          "height": 447
        },
        "id": "pkvLcLfQsDHm",
        "outputId": "5bb0b41e-48e8-4f9f-ccc8-049b6360e7a2"
      },
      "execution_count": 73,
      "outputs": [
        {
          "output_type": "execute_result",
          "data": {
            "text/plain": [
              "<Axes: >"
            ]
          },
          "metadata": {},
          "execution_count": 73
        },
        {
          "output_type": "display_data",
          "data": {
            "text/plain": [
              "<Figure size 640x480 with 1 Axes>"
            ],
            "image/png": "[encoded data removed]"
          },
          "metadata": {}
        }
      ]
    },
    {
      "cell_type": "markdown",
      "source": [
        "Since all data is categorical, we do not have normal distributions"
      ],
      "metadata": {
        "id": "zP-Kn7HpxYa7"
      }
    },
    {
      "cell_type": "code",
      "source": [
        "# split dataset into test and train\n",
        "\n",
        "# test data will be 15% of the total\n",
        "\n",
        "df_train, df_test = train_test_split(df,test_size=0.15, shuffle=True, random_state=7, stratify=df['class'])\n",
        "\n",
        "x_train = df_train.drop(['class'], axis = 1)\n",
        "y_train = df_train['class']\n",
        "\n",
        "x_test = df_test.drop(['class'], axis = 1)\n",
        "y_test = df_test['class']"
      ],
      "metadata": {
        "id": "yTW8DYVyxkoJ",
        "colab": {
          "base_uri": "https://localhost:8080/",
          "height": 247
        },
        "outputId": "00d4d805-4cda-4db4-f106-aaebfafb9bf4"
      },
      "execution_count": 12,
      "outputs": [
        {
          "output_type": "error",
          "ename": "NameError",
          "evalue": "ignored",
          "traceback": [
            "\u001b[0;31m---------------------------------------------------------------------------\u001b[0m",
            "\u001b[0;31mNameError\u001b[0m                                 Traceback (most recent call last)",
            "\u001b[0;32m<ipython-input-12-57478cdd977b>\u001b[0m in \u001b[0;36m<cell line: 5>\u001b[0;34m()\u001b[0m\n\u001b[1;32m      3\u001b[0m \u001b[0;31m# test data will be 15% of the total\u001b[0m\u001b[0;34m\u001b[0m\u001b[0;34m\u001b[0m\u001b[0m\n\u001b[1;32m      4\u001b[0m \u001b[0;34m\u001b[0m\u001b[0m\n\u001b[0;32m----> 5\u001b[0;31m \u001b[0mdf_train\u001b[0m\u001b[0;34m,\u001b[0m \u001b[0mdf_test\u001b[0m \u001b[0;34m=\u001b[0m \u001b[0mtrain_test_split\u001b[0m\u001b[0;34m(\u001b[0m\u001b[0mdf\u001b[0m\u001b[0;34m,\u001b[0m\u001b[0mtest_size\u001b[0m\u001b[0;34m=\u001b[0m\u001b[0;36m0.15\u001b[0m\u001b[0;34m,\u001b[0m \u001b[0mshuffle\u001b[0m\u001b[0;34m=\u001b[0m\u001b[0;32mTrue\u001b[0m\u001b[0;34m,\u001b[0m \u001b[0mrandom_state\u001b[0m\u001b[0;34m=\u001b[0m\u001b[0;36m7\u001b[0m\u001b[0;34m,\u001b[0m \u001b[0mstratify\u001b[0m\u001b[0;34m=\u001b[0m\u001b[0mdf\u001b[0m\u001b[0;34m[\u001b[0m\u001b[0;34m'class'\u001b[0m\u001b[0;34m]\u001b[0m\u001b[0;34m)\u001b[0m\u001b[0;34m\u001b[0m\u001b[0;34m\u001b[0m\u001b[0m\n\u001b[0m\u001b[1;32m      6\u001b[0m \u001b[0;34m\u001b[0m\u001b[0m\n\u001b[1;32m      7\u001b[0m \u001b[0mx_train\u001b[0m \u001b[0;34m=\u001b[0m \u001b[0mdf_train\u001b[0m\u001b[0;34m.\u001b[0m\u001b[0mdrop\u001b[0m\u001b[0;34m(\u001b[0m\u001b[0;34m[\u001b[0m\u001b[0;34m'class'\u001b[0m\u001b[0;34m]\u001b[0m\u001b[0;34m,\u001b[0m \u001b[0maxis\u001b[0m \u001b[0;34m=\u001b[0m \u001b[0;36m1\u001b[0m\u001b[0;34m)\u001b[0m\u001b[0;34m\u001b[0m\u001b[0;34m\u001b[0m\u001b[0m\n",
            "\u001b[0;31mNameError\u001b[0m: name 'train_test_split' is not defined"
          ]
        }
      ]
    },
    {
      "cell_type": "markdown",
      "source": [
        "Feature Importance Analysis"
      ],
      "metadata": {
        "id": "7JmliyyCv7R4"
      }
    },
    {
      "cell_type": "code",
      "source": [
        "x_train.apply(lambda x:mutual_info_score(y_train,x)).sort_values(ascending=False)"
      ],
      "metadata": {
        "colab": {
          "base_uri": "https://localhost:8080/"
        },
        "id": "PaMVZLrmu9z1",
        "outputId": "27a933bc-604c-4a1b-b73b-4a85bd5eae46"
      },
      "execution_count": 75,
      "outputs": [
        {
          "output_type": "execute_result",
          "data": {
            "text/plain": [
              "odor                        0.626097\n",
              "spore_print_color           0.333718\n",
              "gill_color                  0.287400\n",
              "ring_type                   0.220090\n",
              "stalk_surface_above_ring    0.197576\n",
              "stalk_surface_below_ring    0.189210\n",
              "stalk_color_above_ring      0.173976\n",
              "stalk_color_below_ring      0.164755\n",
              "gill_size                   0.156111\n",
              "population                  0.136274\n",
              "bruises                     0.130988\n",
              "habitat                     0.106849\n",
              "stalk_root                  0.093008\n",
              "gill_spacing                0.070435\n",
              "cap_shape                   0.032417\n",
              "ring_number                 0.025412\n",
              "cap_color                   0.024142\n",
              "cap_surface                 0.019497\n",
              "veil_color                  0.016905\n",
              "gill_attachment             0.009879\n",
              "stalk_shape                 0.005391\n",
              "veil_type                   0.000000\n",
              "dtype: float64"
            ]
          },
          "metadata": {},
          "execution_count": 75
        }
      ]
    },
    {
      "cell_type": "markdown",
      "source": [
        "Feature veil_type do no infuence into the determination of poisoness.\n",
        "\n",
        "Features gill_attachment and stalk_shape also have small influence.\n",
        "\n",
        "All those features will be dropped."
      ],
      "metadata": {
        "id": "XO5mcucnyldu"
      }
    },
    {
      "cell_type": "markdown",
      "source": [
        "Dependant variable will aso be tranformed to poisonous, so it can be predicted by binary classificators."
      ],
      "metadata": {
        "id": "JnWMO4tV1ygf"
      }
    },
    {
      "cell_type": "code",
      "source": [
        "x_train = x_train.drop(['veil_type'], axis = 1)\n",
        "x_train = x_train.drop(['stalk_shape'], axis = 1)\n",
        "x_train = x_train.drop(['gill_attachment'], axis = 1)\n",
        "\n",
        "x_test = x_test.drop(['veil_type'], axis = 1)\n",
        "x_test = x_test.drop(['stalk_shape'], axis = 1)\n",
        "x_test = x_test.drop(['gill_attachment'], axis = 1)\n",
        "\n",
        "y_train = (y_train == 'p').astype('int')\n",
        "y_test = (y_test == 'p').astype('int')"
      ],
      "metadata": {
        "id": "V2RxmWXp2M--"
      },
      "execution_count": 76,
      "outputs": []
    },
    {
      "cell_type": "markdown",
      "source": [
        "Transform data with dictVectorizer encoder"
      ],
      "metadata": {
        "id": "k07ZZAo8-BTd"
      }
    },
    {
      "cell_type": "code",
      "source": [
        "from sklearn.feature_extraction import DictVectorizer"
      ],
      "metadata": {
        "id": "V2NfpCGC-KAr"
      },
      "execution_count": 77,
      "outputs": []
    },
    {
      "cell_type": "code",
      "source": [
        "dv = DictVectorizer(sparse=False)\n",
        "\n",
        "x_train = dv.fit_transform(x_train.to_dict(orient='records'))\n",
        "x_test = dv.transform(x_test.to_dict(orient='records'))"
      ],
      "metadata": {
        "id": "s87aq8xzEPH_"
      },
      "execution_count": 78,
      "outputs": []
    },
    {
      "cell_type": "markdown",
      "source": [
        "\n",
        "\n",
        "Model selection\n",
        "\n",
        "We will use 4 different models for this classification problem:\n",
        "\n",
        "    Logistic Regression\n",
        "    RandomForestClassifier\n",
        "    XGBoost\n",
        "    MLPClassifier\n",
        "\n",
        "Considering that avoiding eating a edible mushroom is better than eating a poisonous one, we need to reduce the false negatives (poisonous classified as edibles), therefore using the metric of recall to determine the best model, plus accuracy score to fing a good balance between metrics.\n",
        "\n",
        "To avoid overfitting from data we will disconsider combinations that have recall and accuracy equals 1.0\n"
      ],
      "metadata": {
        "id": "a6X_FoWT7t86"
      }
    },
    {
      "cell_type": "code",
      "source": [
        "from sklearn.linear_model import LogisticRegression\n",
        "from sklearn.metrics import recall_score, accuracy_score"
      ],
      "metadata": {
        "id": "ozqhFvUt76S_"
      },
      "execution_count": 79,
      "outputs": []
    },
    {
      "cell_type": "code",
      "source": [
        "solvers = ['lbfgs', 'liblinear', 'newton-cg', 'newton-cholesky', 'sag', 'saga']\n",
        "Cs = np.linspace(0.1,1,11)\n",
        "iters = [50, 70, 100, 200]\n",
        "\n",
        "best = [0,0,0,0,0]\n",
        "\n",
        "for solv in solvers:\n",
        "  for C in Cs:\n",
        "    for iter in iters:\n",
        "      model = LogisticRegression(solver=solv, C=C, max_iter=iter, random_state=7)\n",
        "      model.fit(x_train, y_train)\n",
        "      y_pred = model.predict(x_test)\n",
        "\n",
        "      acc = accuracy_score(y_test, y_pred)\n",
        "      rec = recall_score(y_test, y_pred)\n",
        "      print(f'solver = {solv} C = {C} iterations = {iter} recall = {rec} Acc = {acc}')\n",
        "\n",
        "      if (rec > best[3] and rec != 1.0):\n",
        "        best = [solv, C, iter, rec, acc]\n",
        "      elif(rec == best[3] and (acc > best[4] and acc != 1.0)):\n",
        "        best = [solv, C, iter, rec, acc]\n",
        "\n",
        "print('Best model is: ', best)"
      ],
      "metadata": {
        "colab": {
          "base_uri": "https://localhost:8080/"
        },
        "id": "ICInY6af9In-",
        "outputId": "05130646-f749-46d3-e5a1-231dd9107386"
      },
      "execution_count": 83,
      "outputs": [
        {
          "output_type": "stream",
          "name": "stdout",
          "text": [
            "solver = lbfgs C = 0.1 iterations = 50 recall = 0.9965986394557823 Acc = 0.9983593109105825\n",
            "solver = lbfgs C = 0.1 iterations = 70 recall = 0.9965986394557823 Acc = 0.9983593109105825\n",
            "solver = lbfgs C = 0.1 iterations = 100 recall = 0.9965986394557823 Acc = 0.9983593109105825\n",
            "solver = lbfgs C = 0.1 iterations = 200 recall = 0.9965986394557823 Acc = 0.9983593109105825\n",
            "solver = lbfgs C = 0.19 iterations = 50 recall = 0.9965986394557823 Acc = 0.9983593109105825\n",
            "solver = lbfgs C = 0.19 iterations = 70 recall = 0.9965986394557823 Acc = 0.9983593109105825\n",
            "solver = lbfgs C = 0.19 iterations = 100 recall = 0.9965986394557823 Acc = 0.9983593109105825\n",
            "solver = lbfgs C = 0.19 iterations = 200 recall = 0.9965986394557823 Acc = 0.9983593109105825\n"
          ]
        },
        {
          "output_type": "stream",
          "name": "stderr",
          "text": [
            "/usr/local/lib/python3.10/dist-packages/sklearn/linear_model/_logistic.py:458: ConvergenceWarning: lbfgs failed to converge (status=1):\n",
            "STOP: TOTAL NO. of ITERATIONS REACHED LIMIT.\n",
            "\n",
            "Increase the number of iterations (max_iter) or scale the data as shown in:\n",
            "    https://scikit-learn.org/stable/modules/preprocessing.html\n",
            "Please also refer to the documentation for alternative solver options:\n",
            "    https://scikit-learn.org/stable/modules/linear_model.html#logistic-regression\n",
            "  n_iter_i = _check_optimize_result(\n"
          ]
        },
        {
          "output_type": "stream",
          "name": "stdout",
          "text": [
            "solver = lbfgs C = 0.28 iterations = 50 recall = 0.9965986394557823 Acc = 0.9983593109105825\n",
            "solver = lbfgs C = 0.28 iterations = 70 recall = 0.9965986394557823 Acc = 0.9983593109105825\n",
            "solver = lbfgs C = 0.28 iterations = 100 recall = 0.9965986394557823 Acc = 0.9983593109105825\n",
            "solver = lbfgs C = 0.28 iterations = 200 recall = 0.9965986394557823 Acc = 0.9983593109105825\n"
          ]
        },
        {
          "output_type": "stream",
          "name": "stderr",
          "text": [
            "/usr/local/lib/python3.10/dist-packages/sklearn/linear_model/_logistic.py:458: ConvergenceWarning: lbfgs failed to converge (status=1):\n",
            "STOP: TOTAL NO. of ITERATIONS REACHED LIMIT.\n",
            "\n",
            "Increase the number of iterations (max_iter) or scale the data as shown in:\n",
            "    https://scikit-learn.org/stable/modules/preprocessing.html\n",
            "Please also refer to the documentation for alternative solver options:\n",
            "    https://scikit-learn.org/stable/modules/linear_model.html#logistic-regression\n",
            "  n_iter_i = _check_optimize_result(\n"
          ]
        },
        {
          "output_type": "stream",
          "name": "stdout",
          "text": [
            "solver = lbfgs C = 0.37 iterations = 50 recall = 0.9965986394557823 Acc = 0.9983593109105825\n",
            "solver = lbfgs C = 0.37 iterations = 70 recall = 0.9965986394557823 Acc = 0.9983593109105825\n",
            "solver = lbfgs C = 0.37 iterations = 100 recall = 0.9965986394557823 Acc = 0.9983593109105825\n",
            "solver = lbfgs C = 0.37 iterations = 200 recall = 0.9965986394557823 Acc = 0.9983593109105825\n",
            "solver = lbfgs C = 0.45999999999999996 iterations = 50 recall = 0.9965986394557823 Acc = 0.9983593109105825\n",
            "solver = lbfgs C = 0.45999999999999996 iterations = 70 recall = 0.9965986394557823 Acc = 0.9983593109105825\n"
          ]
        },
        {
          "output_type": "stream",
          "name": "stderr",
          "text": [
            "/usr/local/lib/python3.10/dist-packages/sklearn/linear_model/_logistic.py:458: ConvergenceWarning: lbfgs failed to converge (status=1):\n",
            "STOP: TOTAL NO. of ITERATIONS REACHED LIMIT.\n",
            "\n",
            "Increase the number of iterations (max_iter) or scale the data as shown in:\n",
            "    https://scikit-learn.org/stable/modules/preprocessing.html\n",
            "Please also refer to the documentation for alternative solver options:\n",
            "    https://scikit-learn.org/stable/modules/linear_model.html#logistic-regression\n",
            "  n_iter_i = _check_optimize_result(\n"
          ]
        },
        {
          "output_type": "stream",
          "name": "stdout",
          "text": [
            "solver = lbfgs C = 0.45999999999999996 iterations = 100 recall = 0.9965986394557823 Acc = 0.9983593109105825\n",
            "solver = lbfgs C = 0.45999999999999996 iterations = 200 recall = 0.9965986394557823 Acc = 0.9983593109105825\n"
          ]
        },
        {
          "output_type": "stream",
          "name": "stderr",
          "text": [
            "/usr/local/lib/python3.10/dist-packages/sklearn/linear_model/_logistic.py:458: ConvergenceWarning: lbfgs failed to converge (status=1):\n",
            "STOP: TOTAL NO. of ITERATIONS REACHED LIMIT.\n",
            "\n",
            "Increase the number of iterations (max_iter) or scale the data as shown in:\n",
            "    https://scikit-learn.org/stable/modules/preprocessing.html\n",
            "Please also refer to the documentation for alternative solver options:\n",
            "    https://scikit-learn.org/stable/modules/linear_model.html#logistic-regression\n",
            "  n_iter_i = _check_optimize_result(\n"
          ]
        },
        {
          "output_type": "stream",
          "name": "stdout",
          "text": [
            "solver = lbfgs C = 0.5499999999999999 iterations = 50 recall = 1.0 Acc = 1.0\n",
            "solver = lbfgs C = 0.5499999999999999 iterations = 70 recall = 1.0 Acc = 1.0\n",
            "solver = lbfgs C = 0.5499999999999999 iterations = 100 recall = 1.0 Acc = 1.0\n",
            "solver = lbfgs C = 0.5499999999999999 iterations = 200 recall = 1.0 Acc = 1.0\n",
            "solver = lbfgs C = 0.64 iterations = 50 recall = 1.0 Acc = 1.0\n",
            "solver = lbfgs C = 0.64 iterations = 70 recall = 1.0 Acc = 1.0\n"
          ]
        },
        {
          "output_type": "stream",
          "name": "stderr",
          "text": [
            "/usr/local/lib/python3.10/dist-packages/sklearn/linear_model/_logistic.py:458: ConvergenceWarning: lbfgs failed to converge (status=1):\n",
            "STOP: TOTAL NO. of ITERATIONS REACHED LIMIT.\n",
            "\n",
            "Increase the number of iterations (max_iter) or scale the data as shown in:\n",
            "    https://scikit-learn.org/stable/modules/preprocessing.html\n",
            "Please also refer to the documentation for alternative solver options:\n",
            "    https://scikit-learn.org/stable/modules/linear_model.html#logistic-regression\n",
            "  n_iter_i = _check_optimize_result(\n"
          ]
        },
        {
          "output_type": "stream",
          "name": "stdout",
          "text": [
            "solver = lbfgs C = 0.64 iterations = 100 recall = 1.0 Acc = 1.0\n",
            "solver = lbfgs C = 0.64 iterations = 200 recall = 1.0 Acc = 1.0\n"
          ]
        },
        {
          "output_type": "stream",
          "name": "stderr",
          "text": [
            "/usr/local/lib/python3.10/dist-packages/sklearn/linear_model/_logistic.py:458: ConvergenceWarning: lbfgs failed to converge (status=1):\n",
            "STOP: TOTAL NO. of ITERATIONS REACHED LIMIT.\n",
            "\n",
            "Increase the number of iterations (max_iter) or scale the data as shown in:\n",
            "    https://scikit-learn.org/stable/modules/preprocessing.html\n",
            "Please also refer to the documentation for alternative solver options:\n",
            "    https://scikit-learn.org/stable/modules/linear_model.html#logistic-regression\n",
            "  n_iter_i = _check_optimize_result(\n"
          ]
        },
        {
          "output_type": "stream",
          "name": "stdout",
          "text": [
            "solver = lbfgs C = 0.73 iterations = 50 recall = 1.0 Acc = 1.0\n",
            "solver = lbfgs C = 0.73 iterations = 70 recall = 1.0 Acc = 1.0\n",
            "solver = lbfgs C = 0.73 iterations = 100 recall = 1.0 Acc = 1.0\n",
            "solver = lbfgs C = 0.73 iterations = 200 recall = 1.0 Acc = 1.0\n"
          ]
        },
        {
          "output_type": "stream",
          "name": "stderr",
          "text": [
            "/usr/local/lib/python3.10/dist-packages/sklearn/linear_model/_logistic.py:458: ConvergenceWarning: lbfgs failed to converge (status=1):\n",
            "STOP: TOTAL NO. of ITERATIONS REACHED LIMIT.\n",
            "\n",
            "Increase the number of iterations (max_iter) or scale the data as shown in:\n",
            "    https://scikit-learn.org/stable/modules/preprocessing.html\n",
            "Please also refer to the documentation for alternative solver options:\n",
            "    https://scikit-learn.org/stable/modules/linear_model.html#logistic-regression\n",
            "  n_iter_i = _check_optimize_result(\n"
          ]
        },
        {
          "output_type": "stream",
          "name": "stdout",
          "text": [
            "solver = lbfgs C = 0.82 iterations = 50 recall = 1.0 Acc = 1.0\n",
            "solver = lbfgs C = 0.82 iterations = 70 recall = 1.0 Acc = 1.0\n",
            "solver = lbfgs C = 0.82 iterations = 100 recall = 1.0 Acc = 1.0\n",
            "solver = lbfgs C = 0.82 iterations = 200 recall = 1.0 Acc = 1.0\n"
          ]
        },
        {
          "output_type": "stream",
          "name": "stderr",
          "text": [
            "/usr/local/lib/python3.10/dist-packages/sklearn/linear_model/_logistic.py:458: ConvergenceWarning: lbfgs failed to converge (status=1):\n",
            "STOP: TOTAL NO. of ITERATIONS REACHED LIMIT.\n",
            "\n",
            "Increase the number of iterations (max_iter) or scale the data as shown in:\n",
            "    https://scikit-learn.org/stable/modules/preprocessing.html\n",
            "Please also refer to the documentation for alternative solver options:\n",
            "    https://scikit-learn.org/stable/modules/linear_model.html#logistic-regression\n",
            "  n_iter_i = _check_optimize_result(\n"
          ]
        },
        {
          "output_type": "stream",
          "name": "stdout",
          "text": [
            "solver = lbfgs C = 0.9099999999999999 iterations = 50 recall = 1.0 Acc = 1.0\n",
            "solver = lbfgs C = 0.9099999999999999 iterations = 70 recall = 1.0 Acc = 1.0\n",
            "solver = lbfgs C = 0.9099999999999999 iterations = 100 recall = 1.0 Acc = 1.0\n",
            "solver = lbfgs C = 0.9099999999999999 iterations = 200 recall = 1.0 Acc = 1.0\n",
            "solver = lbfgs C = 1.0 iterations = 50 recall = 1.0 Acc = 1.0\n"
          ]
        },
        {
          "output_type": "stream",
          "name": "stderr",
          "text": [
            "/usr/local/lib/python3.10/dist-packages/sklearn/linear_model/_logistic.py:458: ConvergenceWarning: lbfgs failed to converge (status=1):\n",
            "STOP: TOTAL NO. of ITERATIONS REACHED LIMIT.\n",
            "\n",
            "Increase the number of iterations (max_iter) or scale the data as shown in:\n",
            "    https://scikit-learn.org/stable/modules/preprocessing.html\n",
            "Please also refer to the documentation for alternative solver options:\n",
            "    https://scikit-learn.org/stable/modules/linear_model.html#logistic-regression\n",
            "  n_iter_i = _check_optimize_result(\n"
          ]
        },
        {
          "output_type": "stream",
          "name": "stdout",
          "text": [
            "solver = lbfgs C = 1.0 iterations = 70 recall = 1.0 Acc = 1.0\n",
            "solver = lbfgs C = 1.0 iterations = 100 recall = 1.0 Acc = 1.0\n",
            "solver = lbfgs C = 1.0 iterations = 200 recall = 1.0 Acc = 1.0\n",
            "solver = liblinear C = 0.1 iterations = 50 recall = 0.9965986394557823 Acc = 0.9983593109105825\n",
            "solver = liblinear C = 0.1 iterations = 70 recall = 0.9965986394557823 Acc = 0.9983593109105825\n",
            "solver = liblinear C = 0.1 iterations = 100 recall = 0.9965986394557823 Acc = 0.9983593109105825\n",
            "solver = liblinear C = 0.1 iterations = 200 recall = 0.9965986394557823 Acc = 0.9983593109105825\n",
            "solver = liblinear C = 0.19 iterations = 50 recall = 0.9965986394557823 Acc = 0.9983593109105825\n",
            "solver = liblinear C = 0.19 iterations = 70 recall = 0.9965986394557823 Acc = 0.9983593109105825\n",
            "solver = liblinear C = 0.19 iterations = 100 recall = 0.9965986394557823 Acc = 0.9983593109105825\n",
            "solver = liblinear C = 0.19 iterations = 200 recall = 0.9965986394557823 Acc = 0.9983593109105825\n",
            "solver = liblinear C = 0.28 iterations = 50 recall = 0.9965986394557823 Acc = 0.9983593109105825\n",
            "solver = liblinear C = 0.28 iterations = 70 recall = 0.9965986394557823 Acc = 0.9983593109105825\n",
            "solver = liblinear C = 0.28 iterations = 100 recall = 0.9965986394557823 Acc = 0.9983593109105825\n",
            "solver = liblinear C = 0.28 iterations = 200 recall = 0.9965986394557823 Acc = 0.9983593109105825\n",
            "solver = liblinear C = 0.37 iterations = 50 recall = 0.9965986394557823 Acc = 0.9983593109105825\n",
            "solver = liblinear C = 0.37 iterations = 70 recall = 0.9965986394557823 Acc = 0.9983593109105825\n",
            "solver = liblinear C = 0.37 iterations = 100 recall = 0.9965986394557823 Acc = 0.9983593109105825\n",
            "solver = liblinear C = 0.37 iterations = 200 recall = 0.9965986394557823 Acc = 0.9983593109105825\n",
            "solver = liblinear C = 0.45999999999999996 iterations = 50 recall = 0.9965986394557823 Acc = 0.9983593109105825\n",
            "solver = liblinear C = 0.45999999999999996 iterations = 70 recall = 0.9965986394557823 Acc = 0.9983593109105825\n",
            "solver = liblinear C = 0.45999999999999996 iterations = 100 recall = 0.9965986394557823 Acc = 0.9983593109105825\n",
            "solver = liblinear C = 0.45999999999999996 iterations = 200 recall = 0.9965986394557823 Acc = 0.9983593109105825\n",
            "solver = liblinear C = 0.5499999999999999 iterations = 50 recall = 1.0 Acc = 1.0\n",
            "solver = liblinear C = 0.5499999999999999 iterations = 70 recall = 1.0 Acc = 1.0\n",
            "solver = liblinear C = 0.5499999999999999 iterations = 100 recall = 1.0 Acc = 1.0\n",
            "solver = liblinear C = 0.5499999999999999 iterations = 200 recall = 1.0 Acc = 1.0\n",
            "solver = liblinear C = 0.64 iterations = 50 recall = 1.0 Acc = 1.0\n",
            "solver = liblinear C = 0.64 iterations = 70 recall = 1.0 Acc = 1.0\n",
            "solver = liblinear C = 0.64 iterations = 100 recall = 1.0 Acc = 1.0\n",
            "solver = liblinear C = 0.64 iterations = 200 recall = 1.0 Acc = 1.0\n",
            "solver = liblinear C = 0.73 iterations = 50 recall = 1.0 Acc = 1.0\n",
            "solver = liblinear C = 0.73 iterations = 70 recall = 1.0 Acc = 1.0\n",
            "solver = liblinear C = 0.73 iterations = 100 recall = 1.0 Acc = 1.0\n",
            "solver = liblinear C = 0.73 iterations = 200 recall = 1.0 Acc = 1.0\n",
            "solver = liblinear C = 0.82 iterations = 50 recall = 1.0 Acc = 1.0\n",
            "solver = liblinear C = 0.82 iterations = 70 recall = 1.0 Acc = 1.0\n",
            "solver = liblinear C = 0.82 iterations = 100 recall = 1.0 Acc = 1.0\n",
            "solver = liblinear C = 0.82 iterations = 200 recall = 1.0 Acc = 1.0\n",
            "solver = liblinear C = 0.9099999999999999 iterations = 50 recall = 1.0 Acc = 1.0\n",
            "solver = liblinear C = 0.9099999999999999 iterations = 70 recall = 1.0 Acc = 1.0\n",
            "solver = liblinear C = 0.9099999999999999 iterations = 100 recall = 1.0 Acc = 1.0\n",
            "solver = liblinear C = 0.9099999999999999 iterations = 200 recall = 1.0 Acc = 1.0\n",
            "solver = liblinear C = 1.0 iterations = 50 recall = 1.0 Acc = 1.0\n",
            "solver = liblinear C = 1.0 iterations = 70 recall = 1.0 Acc = 1.0\n",
            "solver = liblinear C = 1.0 iterations = 100 recall = 1.0 Acc = 1.0\n",
            "solver = liblinear C = 1.0 iterations = 200 recall = 1.0 Acc = 1.0\n",
            "solver = newton-cg C = 0.1 iterations = 50 recall = 0.9965986394557823 Acc = 0.9983593109105825\n",
            "solver = newton-cg C = 0.1 iterations = 70 recall = 0.9965986394557823 Acc = 0.9983593109105825\n",
            "solver = newton-cg C = 0.1 iterations = 100 recall = 0.9965986394557823 Acc = 0.9983593109105825\n",
            "solver = newton-cg C = 0.1 iterations = 200 recall = 0.9965986394557823 Acc = 0.9983593109105825\n",
            "solver = newton-cg C = 0.19 iterations = 50 recall = 0.9965986394557823 Acc = 0.9983593109105825\n",
            "solver = newton-cg C = 0.19 iterations = 70 recall = 0.9965986394557823 Acc = 0.9983593109105825\n",
            "solver = newton-cg C = 0.19 iterations = 100 recall = 0.9965986394557823 Acc = 0.9983593109105825\n",
            "solver = newton-cg C = 0.19 iterations = 200 recall = 0.9965986394557823 Acc = 0.9983593109105825\n",
            "solver = newton-cg C = 0.28 iterations = 50 recall = 0.9965986394557823 Acc = 0.9983593109105825\n",
            "solver = newton-cg C = 0.28 iterations = 70 recall = 0.9965986394557823 Acc = 0.9983593109105825\n",
            "solver = newton-cg C = 0.28 iterations = 100 recall = 0.9965986394557823 Acc = 0.9983593109105825\n",
            "solver = newton-cg C = 0.28 iterations = 200 recall = 0.9965986394557823 Acc = 0.9983593109105825\n",
            "solver = newton-cg C = 0.37 iterations = 50 recall = 0.9965986394557823 Acc = 0.9983593109105825\n",
            "solver = newton-cg C = 0.37 iterations = 70 recall = 0.9965986394557823 Acc = 0.9983593109105825\n",
            "solver = newton-cg C = 0.37 iterations = 100 recall = 0.9965986394557823 Acc = 0.9983593109105825\n",
            "solver = newton-cg C = 0.37 iterations = 200 recall = 0.9965986394557823 Acc = 0.9983593109105825\n",
            "solver = newton-cg C = 0.45999999999999996 iterations = 50 recall = 0.9965986394557823 Acc = 0.9983593109105825\n",
            "solver = newton-cg C = 0.45999999999999996 iterations = 70 recall = 0.9965986394557823 Acc = 0.9983593109105825\n",
            "solver = newton-cg C = 0.45999999999999996 iterations = 100 recall = 0.9965986394557823 Acc = 0.9983593109105825\n",
            "solver = newton-cg C = 0.45999999999999996 iterations = 200 recall = 0.9965986394557823 Acc = 0.9983593109105825\n",
            "solver = newton-cg C = 0.5499999999999999 iterations = 50 recall = 1.0 Acc = 1.0\n",
            "solver = newton-cg C = 0.5499999999999999 iterations = 70 recall = 1.0 Acc = 1.0\n",
            "solver = newton-cg C = 0.5499999999999999 iterations = 100 recall = 1.0 Acc = 1.0\n",
            "solver = newton-cg C = 0.5499999999999999 iterations = 200 recall = 1.0 Acc = 1.0\n",
            "solver = newton-cg C = 0.64 iterations = 50 recall = 1.0 Acc = 1.0\n",
            "solver = newton-cg C = 0.64 iterations = 70 recall = 1.0 Acc = 1.0\n",
            "solver = newton-cg C = 0.64 iterations = 100 recall = 1.0 Acc = 1.0\n",
            "solver = newton-cg C = 0.64 iterations = 200 recall = 1.0 Acc = 1.0\n",
            "solver = newton-cg C = 0.73 iterations = 50 recall = 1.0 Acc = 1.0\n",
            "solver = newton-cg C = 0.73 iterations = 70 recall = 1.0 Acc = 1.0\n",
            "solver = newton-cg C = 0.73 iterations = 100 recall = 1.0 Acc = 1.0\n",
            "solver = newton-cg C = 0.73 iterations = 200 recall = 1.0 Acc = 1.0\n",
            "solver = newton-cg C = 0.82 iterations = 50 recall = 1.0 Acc = 1.0\n",
            "solver = newton-cg C = 0.82 iterations = 70 recall = 1.0 Acc = 1.0\n",
            "solver = newton-cg C = 0.82 iterations = 100 recall = 1.0 Acc = 1.0\n",
            "solver = newton-cg C = 0.82 iterations = 200 recall = 1.0 Acc = 1.0\n",
            "solver = newton-cg C = 0.9099999999999999 iterations = 50 recall = 1.0 Acc = 1.0\n",
            "solver = newton-cg C = 0.9099999999999999 iterations = 70 recall = 1.0 Acc = 1.0\n",
            "solver = newton-cg C = 0.9099999999999999 iterations = 100 recall = 1.0 Acc = 1.0\n",
            "solver = newton-cg C = 0.9099999999999999 iterations = 200 recall = 1.0 Acc = 1.0\n",
            "solver = newton-cg C = 1.0 iterations = 50 recall = 1.0 Acc = 1.0\n",
            "solver = newton-cg C = 1.0 iterations = 70 recall = 1.0 Acc = 1.0\n",
            "solver = newton-cg C = 1.0 iterations = 100 recall = 1.0 Acc = 1.0\n",
            "solver = newton-cg C = 1.0 iterations = 200 recall = 1.0 Acc = 1.0\n",
            "solver = newton-cholesky C = 0.1 iterations = 50 recall = 0.9965986394557823 Acc = 0.9983593109105825\n",
            "solver = newton-cholesky C = 0.1 iterations = 70 recall = 0.9965986394557823 Acc = 0.9983593109105825\n",
            "solver = newton-cholesky C = 0.1 iterations = 100 recall = 0.9965986394557823 Acc = 0.9983593109105825\n",
            "solver = newton-cholesky C = 0.1 iterations = 200 recall = 0.9965986394557823 Acc = 0.9983593109105825\n",
            "solver = newton-cholesky C = 0.19 iterations = 50 recall = 0.9965986394557823 Acc = 0.9983593109105825\n",
            "solver = newton-cholesky C = 0.19 iterations = 70 recall = 0.9965986394557823 Acc = 0.9983593109105825\n",
            "solver = newton-cholesky C = 0.19 iterations = 100 recall = 0.9965986394557823 Acc = 0.9983593109105825\n",
            "solver = newton-cholesky C = 0.19 iterations = 200 recall = 0.9965986394557823 Acc = 0.9983593109105825\n",
            "solver = newton-cholesky C = 0.28 iterations = 50 recall = 0.9965986394557823 Acc = 0.9983593109105825\n",
            "solver = newton-cholesky C = 0.28 iterations = 70 recall = 0.9965986394557823 Acc = 0.9983593109105825\n",
            "solver = newton-cholesky C = 0.28 iterations = 100 recall = 0.9965986394557823 Acc = 0.9983593109105825\n",
            "solver = newton-cholesky C = 0.28 iterations = 200 recall = 0.9965986394557823 Acc = 0.9983593109105825\n",
            "solver = newton-cholesky C = 0.37 iterations = 50 recall = 0.9965986394557823 Acc = 0.9983593109105825\n",
            "solver = newton-cholesky C = 0.37 iterations = 70 recall = 0.9965986394557823 Acc = 0.9983593109105825\n",
            "solver = newton-cholesky C = 0.37 iterations = 100 recall = 0.9965986394557823 Acc = 0.9983593109105825\n",
            "solver = newton-cholesky C = 0.37 iterations = 200 recall = 0.9965986394557823 Acc = 0.9983593109105825\n",
            "solver = newton-cholesky C = 0.45999999999999996 iterations = 50 recall = 0.9965986394557823 Acc = 0.9983593109105825\n",
            "solver = newton-cholesky C = 0.45999999999999996 iterations = 70 recall = 0.9965986394557823 Acc = 0.9983593109105825\n",
            "solver = newton-cholesky C = 0.45999999999999996 iterations = 100 recall = 0.9965986394557823 Acc = 0.9983593109105825\n",
            "solver = newton-cholesky C = 0.45999999999999996 iterations = 200 recall = 0.9965986394557823 Acc = 0.9983593109105825\n",
            "solver = newton-cholesky C = 0.5499999999999999 iterations = 50 recall = 1.0 Acc = 1.0\n",
            "solver = newton-cholesky C = 0.5499999999999999 iterations = 70 recall = 1.0 Acc = 1.0\n",
            "solver = newton-cholesky C = 0.5499999999999999 iterations = 100 recall = 1.0 Acc = 1.0\n",
            "solver = newton-cholesky C = 0.5499999999999999 iterations = 200 recall = 1.0 Acc = 1.0\n",
            "solver = newton-cholesky C = 0.64 iterations = 50 recall = 1.0 Acc = 1.0\n",
            "solver = newton-cholesky C = 0.64 iterations = 70 recall = 1.0 Acc = 1.0\n",
            "solver = newton-cholesky C = 0.64 iterations = 100 recall = 1.0 Acc = 1.0\n",
            "solver = newton-cholesky C = 0.64 iterations = 200 recall = 1.0 Acc = 1.0\n",
            "solver = newton-cholesky C = 0.73 iterations = 50 recall = 1.0 Acc = 1.0\n",
            "solver = newton-cholesky C = 0.73 iterations = 70 recall = 1.0 Acc = 1.0\n",
            "solver = newton-cholesky C = 0.73 iterations = 100 recall = 1.0 Acc = 1.0\n",
            "solver = newton-cholesky C = 0.73 iterations = 200 recall = 1.0 Acc = 1.0\n",
            "solver = newton-cholesky C = 0.82 iterations = 50 recall = 1.0 Acc = 1.0\n",
            "solver = newton-cholesky C = 0.82 iterations = 70 recall = 1.0 Acc = 1.0\n",
            "solver = newton-cholesky C = 0.82 iterations = 100 recall = 1.0 Acc = 1.0\n",
            "solver = newton-cholesky C = 0.82 iterations = 200 recall = 1.0 Acc = 1.0\n",
            "solver = newton-cholesky C = 0.9099999999999999 iterations = 50 recall = 1.0 Acc = 1.0\n",
            "solver = newton-cholesky C = 0.9099999999999999 iterations = 70 recall = 1.0 Acc = 1.0\n",
            "solver = newton-cholesky C = 0.9099999999999999 iterations = 100 recall = 1.0 Acc = 1.0\n",
            "solver = newton-cholesky C = 0.9099999999999999 iterations = 200 recall = 1.0 Acc = 1.0\n",
            "solver = newton-cholesky C = 1.0 iterations = 50 recall = 1.0 Acc = 1.0\n",
            "solver = newton-cholesky C = 1.0 iterations = 70 recall = 1.0 Acc = 1.0\n",
            "solver = newton-cholesky C = 1.0 iterations = 100 recall = 1.0 Acc = 1.0\n",
            "solver = newton-cholesky C = 1.0 iterations = 200 recall = 1.0 Acc = 1.0\n",
            "solver = sag C = 0.1 iterations = 50 recall = 0.9965986394557823 Acc = 0.9983593109105825\n",
            "solver = sag C = 0.1 iterations = 70 recall = 0.9965986394557823 Acc = 0.9983593109105825\n",
            "solver = sag C = 0.1 iterations = 100 recall = 0.9965986394557823 Acc = 0.9983593109105825\n",
            "solver = sag C = 0.1 iterations = 200 recall = 0.9965986394557823 Acc = 0.9983593109105825\n",
            "solver = sag C = 0.19 iterations = 50 recall = 0.9965986394557823 Acc = 0.9983593109105825\n",
            "solver = sag C = 0.19 iterations = 70 recall = 0.9965986394557823 Acc = 0.9983593109105825\n",
            "solver = sag C = 0.19 iterations = 100 recall = 0.9965986394557823 Acc = 0.9983593109105825\n",
            "solver = sag C = 0.19 iterations = 200 recall = 0.9965986394557823 Acc = 0.9983593109105825\n",
            "solver = sag C = 0.28 iterations = 50 recall = 0.9965986394557823 Acc = 0.9983593109105825\n",
            "solver = sag C = 0.28 iterations = 70 recall = 0.9965986394557823 Acc = 0.9983593109105825\n",
            "solver = sag C = 0.28 iterations = 100 recall = 0.9965986394557823 Acc = 0.9983593109105825\n",
            "solver = sag C = 0.28 iterations = 200 recall = 0.9965986394557823 Acc = 0.9983593109105825\n",
            "solver = sag C = 0.37 iterations = 50 recall = 0.9965986394557823 Acc = 0.9983593109105825\n",
            "solver = sag C = 0.37 iterations = 70 recall = 0.9965986394557823 Acc = 0.9983593109105825\n",
            "solver = sag C = 0.37 iterations = 100 recall = 0.9965986394557823 Acc = 0.9983593109105825\n",
            "solver = sag C = 0.37 iterations = 200 recall = 0.9965986394557823 Acc = 0.9983593109105825\n",
            "solver = sag C = 0.45999999999999996 iterations = 50 recall = 0.9965986394557823 Acc = 0.9983593109105825\n",
            "solver = sag C = 0.45999999999999996 iterations = 70 recall = 0.9965986394557823 Acc = 0.9983593109105825\n",
            "solver = sag C = 0.45999999999999996 iterations = 100 recall = 0.9965986394557823 Acc = 0.9983593109105825\n",
            "solver = sag C = 0.45999999999999996 iterations = 200 recall = 0.9965986394557823 Acc = 0.9983593109105825\n",
            "solver = sag C = 0.5499999999999999 iterations = 50 recall = 1.0 Acc = 1.0\n",
            "solver = sag C = 0.5499999999999999 iterations = 70 recall = 1.0 Acc = 1.0\n",
            "solver = sag C = 0.5499999999999999 iterations = 100 recall = 1.0 Acc = 1.0\n",
            "solver = sag C = 0.5499999999999999 iterations = 200 recall = 1.0 Acc = 1.0\n",
            "solver = sag C = 0.64 iterations = 50 recall = 1.0 Acc = 1.0\n",
            "solver = sag C = 0.64 iterations = 70 recall = 1.0 Acc = 1.0\n",
            "solver = sag C = 0.64 iterations = 100 recall = 1.0 Acc = 1.0\n",
            "solver = sag C = 0.64 iterations = 200 recall = 1.0 Acc = 1.0\n",
            "solver = sag C = 0.73 iterations = 50 recall = 1.0 Acc = 1.0\n",
            "solver = sag C = 0.73 iterations = 70 recall = 1.0 Acc = 1.0\n",
            "solver = sag C = 0.73 iterations = 100 recall = 1.0 Acc = 1.0\n",
            "solver = sag C = 0.73 iterations = 200 recall = 1.0 Acc = 1.0\n"
          ]
        },
        {
          "output_type": "stream",
          "name": "stderr",
          "text": [
            "/usr/local/lib/python3.10/dist-packages/sklearn/linear_model/_sag.py:350: ConvergenceWarning: The max_iter was reached which means the coef_ did not converge\n",
            "  warnings.warn(\n"
          ]
        },
        {
          "output_type": "stream",
          "name": "stdout",
          "text": [
            "solver = sag C = 0.82 iterations = 50 recall = 1.0 Acc = 1.0\n",
            "solver = sag C = 0.82 iterations = 70 recall = 1.0 Acc = 1.0\n",
            "solver = sag C = 0.82 iterations = 100 recall = 1.0 Acc = 1.0\n",
            "solver = sag C = 0.82 iterations = 200 recall = 1.0 Acc = 1.0\n"
          ]
        },
        {
          "output_type": "stream",
          "name": "stderr",
          "text": [
            "/usr/local/lib/python3.10/dist-packages/sklearn/linear_model/_sag.py:350: ConvergenceWarning: The max_iter was reached which means the coef_ did not converge\n",
            "  warnings.warn(\n"
          ]
        },
        {
          "output_type": "stream",
          "name": "stdout",
          "text": [
            "solver = sag C = 0.9099999999999999 iterations = 50 recall = 1.0 Acc = 1.0\n",
            "solver = sag C = 0.9099999999999999 iterations = 70 recall = 1.0 Acc = 1.0\n",
            "solver = sag C = 0.9099999999999999 iterations = 100 recall = 1.0 Acc = 1.0\n",
            "solver = sag C = 0.9099999999999999 iterations = 200 recall = 1.0 Acc = 1.0\n"
          ]
        },
        {
          "output_type": "stream",
          "name": "stderr",
          "text": [
            "/usr/local/lib/python3.10/dist-packages/sklearn/linear_model/_sag.py:350: ConvergenceWarning: The max_iter was reached which means the coef_ did not converge\n",
            "  warnings.warn(\n"
          ]
        },
        {
          "output_type": "stream",
          "name": "stdout",
          "text": [
            "solver = sag C = 1.0 iterations = 50 recall = 1.0 Acc = 1.0\n",
            "solver = sag C = 1.0 iterations = 70 recall = 1.0 Acc = 1.0\n",
            "solver = sag C = 1.0 iterations = 100 recall = 1.0 Acc = 1.0\n",
            "solver = sag C = 1.0 iterations = 200 recall = 1.0 Acc = 1.0\n",
            "solver = saga C = 0.1 iterations = 50 recall = 0.9965986394557823 Acc = 0.9983593109105825\n",
            "solver = saga C = 0.1 iterations = 70 recall = 0.9965986394557823 Acc = 0.9983593109105825\n",
            "solver = saga C = 0.1 iterations = 100 recall = 0.9965986394557823 Acc = 0.9983593109105825\n",
            "solver = saga C = 0.1 iterations = 200 recall = 0.9965986394557823 Acc = 0.9983593109105825\n"
          ]
        },
        {
          "output_type": "stream",
          "name": "stderr",
          "text": [
            "/usr/local/lib/python3.10/dist-packages/sklearn/linear_model/_sag.py:350: ConvergenceWarning: The max_iter was reached which means the coef_ did not converge\n",
            "  warnings.warn(\n"
          ]
        },
        {
          "output_type": "stream",
          "name": "stdout",
          "text": [
            "solver = saga C = 0.19 iterations = 50 recall = 0.9965986394557823 Acc = 0.9983593109105825\n",
            "solver = saga C = 0.19 iterations = 70 recall = 0.9965986394557823 Acc = 0.9983593109105825\n",
            "solver = saga C = 0.19 iterations = 100 recall = 0.9965986394557823 Acc = 0.9983593109105825\n",
            "solver = saga C = 0.19 iterations = 200 recall = 0.9965986394557823 Acc = 0.9983593109105825\n"
          ]
        },
        {
          "output_type": "stream",
          "name": "stderr",
          "text": [
            "/usr/local/lib/python3.10/dist-packages/sklearn/linear_model/_sag.py:350: ConvergenceWarning: The max_iter was reached which means the coef_ did not converge\n",
            "  warnings.warn(\n"
          ]
        },
        {
          "output_type": "stream",
          "name": "stdout",
          "text": [
            "solver = saga C = 0.28 iterations = 50 recall = 0.9965986394557823 Acc = 0.9983593109105825\n"
          ]
        },
        {
          "output_type": "stream",
          "name": "stderr",
          "text": [
            "/usr/local/lib/python3.10/dist-packages/sklearn/linear_model/_sag.py:350: ConvergenceWarning: The max_iter was reached which means the coef_ did not converge\n",
            "  warnings.warn(\n"
          ]
        },
        {
          "output_type": "stream",
          "name": "stdout",
          "text": [
            "solver = saga C = 0.28 iterations = 70 recall = 0.9965986394557823 Acc = 0.9983593109105825\n",
            "solver = saga C = 0.28 iterations = 100 recall = 0.9965986394557823 Acc = 0.9983593109105825\n",
            "solver = saga C = 0.28 iterations = 200 recall = 0.9965986394557823 Acc = 0.9983593109105825\n"
          ]
        },
        {
          "output_type": "stream",
          "name": "stderr",
          "text": [
            "/usr/local/lib/python3.10/dist-packages/sklearn/linear_model/_sag.py:350: ConvergenceWarning: The max_iter was reached which means the coef_ did not converge\n",
            "  warnings.warn(\n"
          ]
        },
        {
          "output_type": "stream",
          "name": "stdout",
          "text": [
            "solver = saga C = 0.37 iterations = 50 recall = 0.9965986394557823 Acc = 0.9983593109105825\n"
          ]
        },
        {
          "output_type": "stream",
          "name": "stderr",
          "text": [
            "/usr/local/lib/python3.10/dist-packages/sklearn/linear_model/_sag.py:350: ConvergenceWarning: The max_iter was reached which means the coef_ did not converge\n",
            "  warnings.warn(\n"
          ]
        },
        {
          "output_type": "stream",
          "name": "stdout",
          "text": [
            "solver = saga C = 0.37 iterations = 70 recall = 0.9965986394557823 Acc = 0.9983593109105825\n",
            "solver = saga C = 0.37 iterations = 100 recall = 0.9965986394557823 Acc = 0.9983593109105825\n",
            "solver = saga C = 0.37 iterations = 200 recall = 0.9965986394557823 Acc = 0.9983593109105825\n"
          ]
        },
        {
          "output_type": "stream",
          "name": "stderr",
          "text": [
            "/usr/local/lib/python3.10/dist-packages/sklearn/linear_model/_sag.py:350: ConvergenceWarning: The max_iter was reached which means the coef_ did not converge\n",
            "  warnings.warn(\n"
          ]
        },
        {
          "output_type": "stream",
          "name": "stdout",
          "text": [
            "solver = saga C = 0.45999999999999996 iterations = 50 recall = 0.9965986394557823 Acc = 0.9983593109105825\n"
          ]
        },
        {
          "output_type": "stream",
          "name": "stderr",
          "text": [
            "/usr/local/lib/python3.10/dist-packages/sklearn/linear_model/_sag.py:350: ConvergenceWarning: The max_iter was reached which means the coef_ did not converge\n",
            "  warnings.warn(\n"
          ]
        },
        {
          "output_type": "stream",
          "name": "stdout",
          "text": [
            "solver = saga C = 0.45999999999999996 iterations = 70 recall = 0.9965986394557823 Acc = 0.9983593109105825\n",
            "solver = saga C = 0.45999999999999996 iterations = 100 recall = 0.9965986394557823 Acc = 0.9983593109105825\n",
            "solver = saga C = 0.45999999999999996 iterations = 200 recall = 0.9965986394557823 Acc = 0.9983593109105825\n"
          ]
        },
        {
          "output_type": "stream",
          "name": "stderr",
          "text": [
            "/usr/local/lib/python3.10/dist-packages/sklearn/linear_model/_sag.py:350: ConvergenceWarning: The max_iter was reached which means the coef_ did not converge\n",
            "  warnings.warn(\n"
          ]
        },
        {
          "output_type": "stream",
          "name": "stdout",
          "text": [
            "solver = saga C = 0.5499999999999999 iterations = 50 recall = 1.0 Acc = 1.0\n"
          ]
        },
        {
          "output_type": "stream",
          "name": "stderr",
          "text": [
            "/usr/local/lib/python3.10/dist-packages/sklearn/linear_model/_sag.py:350: ConvergenceWarning: The max_iter was reached which means the coef_ did not converge\n",
            "  warnings.warn(\n"
          ]
        },
        {
          "output_type": "stream",
          "name": "stdout",
          "text": [
            "solver = saga C = 0.5499999999999999 iterations = 70 recall = 1.0 Acc = 1.0\n"
          ]
        },
        {
          "output_type": "stream",
          "name": "stderr",
          "text": [
            "/usr/local/lib/python3.10/dist-packages/sklearn/linear_model/_sag.py:350: ConvergenceWarning: The max_iter was reached which means the coef_ did not converge\n",
            "  warnings.warn(\n"
          ]
        },
        {
          "output_type": "stream",
          "name": "stdout",
          "text": [
            "solver = saga C = 0.5499999999999999 iterations = 100 recall = 1.0 Acc = 1.0\n",
            "solver = saga C = 0.5499999999999999 iterations = 200 recall = 1.0 Acc = 1.0\n"
          ]
        },
        {
          "output_type": "stream",
          "name": "stderr",
          "text": [
            "/usr/local/lib/python3.10/dist-packages/sklearn/linear_model/_sag.py:350: ConvergenceWarning: The max_iter was reached which means the coef_ did not converge\n",
            "  warnings.warn(\n"
          ]
        },
        {
          "output_type": "stream",
          "name": "stdout",
          "text": [
            "solver = saga C = 0.64 iterations = 50 recall = 1.0 Acc = 1.0\n"
          ]
        },
        {
          "output_type": "stream",
          "name": "stderr",
          "text": [
            "/usr/local/lib/python3.10/dist-packages/sklearn/linear_model/_sag.py:350: ConvergenceWarning: The max_iter was reached which means the coef_ did not converge\n",
            "  warnings.warn(\n"
          ]
        },
        {
          "output_type": "stream",
          "name": "stdout",
          "text": [
            "solver = saga C = 0.64 iterations = 70 recall = 1.0 Acc = 1.0\n"
          ]
        },
        {
          "output_type": "stream",
          "name": "stderr",
          "text": [
            "/usr/local/lib/python3.10/dist-packages/sklearn/linear_model/_sag.py:350: ConvergenceWarning: The max_iter was reached which means the coef_ did not converge\n",
            "  warnings.warn(\n"
          ]
        },
        {
          "output_type": "stream",
          "name": "stdout",
          "text": [
            "solver = saga C = 0.64 iterations = 100 recall = 1.0 Acc = 1.0\n",
            "solver = saga C = 0.64 iterations = 200 recall = 1.0 Acc = 1.0\n"
          ]
        },
        {
          "output_type": "stream",
          "name": "stderr",
          "text": [
            "/usr/local/lib/python3.10/dist-packages/sklearn/linear_model/_sag.py:350: ConvergenceWarning: The max_iter was reached which means the coef_ did not converge\n",
            "  warnings.warn(\n"
          ]
        },
        {
          "output_type": "stream",
          "name": "stdout",
          "text": [
            "solver = saga C = 0.73 iterations = 50 recall = 1.0 Acc = 1.0\n"
          ]
        },
        {
          "output_type": "stream",
          "name": "stderr",
          "text": [
            "/usr/local/lib/python3.10/dist-packages/sklearn/linear_model/_sag.py:350: ConvergenceWarning: The max_iter was reached which means the coef_ did not converge\n",
            "  warnings.warn(\n"
          ]
        },
        {
          "output_type": "stream",
          "name": "stdout",
          "text": [
            "solver = saga C = 0.73 iterations = 70 recall = 1.0 Acc = 1.0\n"
          ]
        },
        {
          "output_type": "stream",
          "name": "stderr",
          "text": [
            "/usr/local/lib/python3.10/dist-packages/sklearn/linear_model/_sag.py:350: ConvergenceWarning: The max_iter was reached which means the coef_ did not converge\n",
            "  warnings.warn(\n"
          ]
        },
        {
          "output_type": "stream",
          "name": "stdout",
          "text": [
            "solver = saga C = 0.73 iterations = 100 recall = 1.0 Acc = 1.0\n",
            "solver = saga C = 0.73 iterations = 200 recall = 1.0 Acc = 1.0\n"
          ]
        },
        {
          "output_type": "stream",
          "name": "stderr",
          "text": [
            "/usr/local/lib/python3.10/dist-packages/sklearn/linear_model/_sag.py:350: ConvergenceWarning: The max_iter was reached which means the coef_ did not converge\n",
            "  warnings.warn(\n"
          ]
        },
        {
          "output_type": "stream",
          "name": "stdout",
          "text": [
            "solver = saga C = 0.82 iterations = 50 recall = 1.0 Acc = 1.0\n"
          ]
        },
        {
          "output_type": "stream",
          "name": "stderr",
          "text": [
            "/usr/local/lib/python3.10/dist-packages/sklearn/linear_model/_sag.py:350: ConvergenceWarning: The max_iter was reached which means the coef_ did not converge\n",
            "  warnings.warn(\n"
          ]
        },
        {
          "output_type": "stream",
          "name": "stdout",
          "text": [
            "solver = saga C = 0.82 iterations = 70 recall = 1.0 Acc = 1.0\n"
          ]
        },
        {
          "output_type": "stream",
          "name": "stderr",
          "text": [
            "/usr/local/lib/python3.10/dist-packages/sklearn/linear_model/_sag.py:350: ConvergenceWarning: The max_iter was reached which means the coef_ did not converge\n",
            "  warnings.warn(\n"
          ]
        },
        {
          "output_type": "stream",
          "name": "stdout",
          "text": [
            "solver = saga C = 0.82 iterations = 100 recall = 1.0 Acc = 1.0\n",
            "solver = saga C = 0.82 iterations = 200 recall = 1.0 Acc = 1.0\n"
          ]
        },
        {
          "output_type": "stream",
          "name": "stderr",
          "text": [
            "/usr/local/lib/python3.10/dist-packages/sklearn/linear_model/_sag.py:350: ConvergenceWarning: The max_iter was reached which means the coef_ did not converge\n",
            "  warnings.warn(\n"
          ]
        },
        {
          "output_type": "stream",
          "name": "stdout",
          "text": [
            "solver = saga C = 0.9099999999999999 iterations = 50 recall = 1.0 Acc = 1.0\n"
          ]
        },
        {
          "output_type": "stream",
          "name": "stderr",
          "text": [
            "/usr/local/lib/python3.10/dist-packages/sklearn/linear_model/_sag.py:350: ConvergenceWarning: The max_iter was reached which means the coef_ did not converge\n",
            "  warnings.warn(\n"
          ]
        },
        {
          "output_type": "stream",
          "name": "stdout",
          "text": [
            "solver = saga C = 0.9099999999999999 iterations = 70 recall = 1.0 Acc = 1.0\n"
          ]
        },
        {
          "output_type": "stream",
          "name": "stderr",
          "text": [
            "/usr/local/lib/python3.10/dist-packages/sklearn/linear_model/_sag.py:350: ConvergenceWarning: The max_iter was reached which means the coef_ did not converge\n",
            "  warnings.warn(\n"
          ]
        },
        {
          "output_type": "stream",
          "name": "stdout",
          "text": [
            "solver = saga C = 0.9099999999999999 iterations = 100 recall = 1.0 Acc = 1.0\n",
            "solver = saga C = 0.9099999999999999 iterations = 200 recall = 1.0 Acc = 1.0\n"
          ]
        },
        {
          "output_type": "stream",
          "name": "stderr",
          "text": [
            "/usr/local/lib/python3.10/dist-packages/sklearn/linear_model/_sag.py:350: ConvergenceWarning: The max_iter was reached which means the coef_ did not converge\n",
            "  warnings.warn(\n"
          ]
        },
        {
          "output_type": "stream",
          "name": "stdout",
          "text": [
            "solver = saga C = 1.0 iterations = 50 recall = 1.0 Acc = 1.0\n"
          ]
        },
        {
          "output_type": "stream",
          "name": "stderr",
          "text": [
            "/usr/local/lib/python3.10/dist-packages/sklearn/linear_model/_sag.py:350: ConvergenceWarning: The max_iter was reached which means the coef_ did not converge\n",
            "  warnings.warn(\n"
          ]
        },
        {
          "output_type": "stream",
          "name": "stdout",
          "text": [
            "solver = saga C = 1.0 iterations = 70 recall = 1.0 Acc = 1.0\n"
          ]
        },
        {
          "output_type": "stream",
          "name": "stderr",
          "text": [
            "/usr/local/lib/python3.10/dist-packages/sklearn/linear_model/_sag.py:350: ConvergenceWarning: The max_iter was reached which means the coef_ did not converge\n",
            "  warnings.warn(\n"
          ]
        },
        {
          "output_type": "stream",
          "name": "stdout",
          "text": [
            "solver = saga C = 1.0 iterations = 100 recall = 1.0 Acc = 1.0\n",
            "solver = saga C = 1.0 iterations = 200 recall = 1.0 Acc = 1.0\n",
            "Best model is:  ['lbfgs', 0.1, 50, 0.9965986394557823, 0.9983593109105825]\n"
          ]
        }
      ]
    },
    {
      "cell_type": "code",
      "source": [
        "from sklearn.ensemble import RandomForestClassifier"
      ],
      "metadata": {
        "id": "UPs0y8VyF3fq"
      },
      "execution_count": 84,
      "outputs": []
    },
    {
      "cell_type": "code",
      "source": [
        "criterias = ['gini', 'entropy', 'log_loss']\n",
        "estimators = [10, 50, 100, 200, 500]\n",
        "depths = range(1, 20)\n",
        "\n",
        "best = [0,0,0,0,0]\n",
        "\n",
        "for criteria in criterias:\n",
        "  for estimator in estimators:\n",
        "    for depth in depths:\n",
        "      dt = RandomForestClassifier(criterion=criteria, n_estimators= estimator, max_depth= depth, random_state = 7)\n",
        "      dt.fit(x_train, y_train)\n",
        "      y_pred = dt.predict(x_test)\n",
        "      rec = recall_score(y_test, y_pred)\n",
        "      acc = accuracy_score(y_test, y_pred)\n",
        "\n",
        "      print(f'Criterion = {criteria} n_estimators = {estimator} max_depth = {depth} rec = {rec} acc = {acc}')\n",
        "\n",
        "\n",
        "      if (rec > best[3] and rec != 1.0):\n",
        "        best = [criteria, estimator, depth, rec, acc]\n",
        "      elif(rec == best[3] and (acc > best[4] and acc != 1.0)):\n",
        "        best = [criteria, estimator, depth, rec, acc]\n",
        "\n",
        "print('Best model is: ', best)\n",
        ""
      ],
      "metadata": {
        "colab": {
          "base_uri": "https://localhost:8080/"
        },
        "id": "RyH37jpbF5HF",
        "outputId": "de72d044-eec2-4c6f-9aaf-2c211cc910c4"
      },
      "execution_count": 86,
      "outputs": [
        {
          "output_type": "stream",
          "name": "stdout",
          "text": [
            "Criterion = gini n_estimators = 10 max_depth = 1 rec = 0.7857142857142857 acc = 0.8785890073831009\n",
            "Criterion = gini n_estimators = 10 max_depth = 2 rec = 0.8197278911564626 acc = 0.9081214109926169\n",
            "Criterion = gini n_estimators = 10 max_depth = 3 rec = 0.9047619047619048 acc = 0.9540607054963085\n",
            "Criterion = gini n_estimators = 10 max_depth = 4 rec = 0.9880952380952381 acc = 0.9942575881870386\n",
            "Criterion = gini n_estimators = 10 max_depth = 5 rec = 0.9846938775510204 acc = 0.992616899097621\n",
            "Criterion = gini n_estimators = 10 max_depth = 6 rec = 0.9846938775510204 acc = 0.992616899097621\n",
            "Criterion = gini n_estimators = 10 max_depth = 7 rec = 0.9931972789115646 acc = 0.9967186218211649\n",
            "Criterion = gini n_estimators = 10 max_depth = 8 rec = 1.0 acc = 1.0\n",
            "Criterion = gini n_estimators = 10 max_depth = 9 rec = 1.0 acc = 1.0\n",
            "Criterion = gini n_estimators = 10 max_depth = 10 rec = 1.0 acc = 1.0\n",
            "Criterion = gini n_estimators = 10 max_depth = 11 rec = 1.0 acc = 1.0\n",
            "Criterion = gini n_estimators = 10 max_depth = 12 rec = 1.0 acc = 1.0\n",
            "Criterion = gini n_estimators = 10 max_depth = 13 rec = 1.0 acc = 1.0\n",
            "Criterion = gini n_estimators = 10 max_depth = 14 rec = 1.0 acc = 1.0\n",
            "Criterion = gini n_estimators = 10 max_depth = 15 rec = 1.0 acc = 1.0\n",
            "Criterion = gini n_estimators = 10 max_depth = 16 rec = 1.0 acc = 1.0\n",
            "Criterion = gini n_estimators = 10 max_depth = 17 rec = 1.0 acc = 1.0\n",
            "Criterion = gini n_estimators = 10 max_depth = 18 rec = 1.0 acc = 1.0\n",
            "Criterion = gini n_estimators = 10 max_depth = 19 rec = 1.0 acc = 1.0\n",
            "Criterion = gini n_estimators = 50 max_depth = 1 rec = 0.8163265306122449 acc = 0.9056603773584906\n",
            "Criterion = gini n_estimators = 50 max_depth = 2 rec = 0.8622448979591837 acc = 0.9327317473338802\n",
            "Criterion = gini n_estimators = 50 max_depth = 3 rec = 0.9795918367346939 acc = 0.9901558654634947\n",
            "Criterion = gini n_estimators = 50 max_depth = 4 rec = 0.9846938775510204 acc = 0.992616899097621\n",
            "Criterion = gini n_estimators = 50 max_depth = 5 rec = 0.9846938775510204 acc = 0.992616899097621\n",
            "Criterion = gini n_estimators = 50 max_depth = 6 rec = 0.9863945578231292 acc = 0.9934372436423298\n",
            "Criterion = gini n_estimators = 50 max_depth = 7 rec = 1.0 acc = 1.0\n",
            "Criterion = gini n_estimators = 50 max_depth = 8 rec = 1.0 acc = 1.0\n",
            "Criterion = gini n_estimators = 50 max_depth = 9 rec = 1.0 acc = 1.0\n",
            "Criterion = gini n_estimators = 50 max_depth = 10 rec = 1.0 acc = 1.0\n",
            "Criterion = gini n_estimators = 50 max_depth = 11 rec = 1.0 acc = 1.0\n",
            "Criterion = gini n_estimators = 50 max_depth = 12 rec = 1.0 acc = 1.0\n",
            "Criterion = gini n_estimators = 50 max_depth = 13 rec = 1.0 acc = 1.0\n",
            "Criterion = gini n_estimators = 50 max_depth = 14 rec = 1.0 acc = 1.0\n",
            "Criterion = gini n_estimators = 50 max_depth = 15 rec = 1.0 acc = 1.0\n",
            "Criterion = gini n_estimators = 50 max_depth = 16 rec = 1.0 acc = 1.0\n",
            "Criterion = gini n_estimators = 50 max_depth = 17 rec = 1.0 acc = 1.0\n",
            "Criterion = gini n_estimators = 50 max_depth = 18 rec = 1.0 acc = 1.0\n",
            "Criterion = gini n_estimators = 50 max_depth = 19 rec = 1.0 acc = 1.0\n",
            "Criterion = gini n_estimators = 100 max_depth = 1 rec = 0.8163265306122449 acc = 0.9056603773584906\n",
            "Criterion = gini n_estimators = 100 max_depth = 2 rec = 0.8860544217687075 acc = 0.9450369155045119\n",
            "Criterion = gini n_estimators = 100 max_depth = 3 rec = 0.9812925170068028 acc = 0.9909762100082035\n",
            "Criterion = gini n_estimators = 100 max_depth = 4 rec = 0.9846938775510204 acc = 0.992616899097621\n",
            "Criterion = gini n_estimators = 100 max_depth = 5 rec = 0.9846938775510204 acc = 0.992616899097621\n",
            "Criterion = gini n_estimators = 100 max_depth = 6 rec = 0.9914965986394558 acc = 0.9958982772764561\n",
            "Criterion = gini n_estimators = 100 max_depth = 7 rec = 1.0 acc = 1.0\n",
            "Criterion = gini n_estimators = 100 max_depth = 8 rec = 1.0 acc = 1.0\n",
            "Criterion = gini n_estimators = 100 max_depth = 9 rec = 1.0 acc = 1.0\n",
            "Criterion = gini n_estimators = 100 max_depth = 10 rec = 1.0 acc = 1.0\n",
            "Criterion = gini n_estimators = 100 max_depth = 11 rec = 1.0 acc = 1.0\n",
            "Criterion = gini n_estimators = 100 max_depth = 12 rec = 1.0 acc = 1.0\n",
            "Criterion = gini n_estimators = 100 max_depth = 13 rec = 1.0 acc = 1.0\n",
            "Criterion = gini n_estimators = 100 max_depth = 14 rec = 1.0 acc = 1.0\n",
            "Criterion = gini n_estimators = 100 max_depth = 15 rec = 1.0 acc = 1.0\n",
            "Criterion = gini n_estimators = 100 max_depth = 16 rec = 1.0 acc = 1.0\n",
            "Criterion = gini n_estimators = 100 max_depth = 17 rec = 1.0 acc = 1.0\n",
            "Criterion = gini n_estimators = 100 max_depth = 18 rec = 1.0 acc = 1.0\n",
            "Criterion = gini n_estimators = 100 max_depth = 19 rec = 1.0 acc = 1.0\n",
            "Criterion = gini n_estimators = 200 max_depth = 1 rec = 0.8044217687074829 acc = 0.8999179655455292\n",
            "Criterion = gini n_estimators = 200 max_depth = 2 rec = 0.8809523809523809 acc = 0.9425758818703855\n",
            "Criterion = gini n_estimators = 200 max_depth = 3 rec = 0.9846938775510204 acc = 0.992616899097621\n",
            "Criterion = gini n_estimators = 200 max_depth = 4 rec = 0.9846938775510204 acc = 0.992616899097621\n",
            "Criterion = gini n_estimators = 200 max_depth = 5 rec = 0.9846938775510204 acc = 0.992616899097621\n",
            "Criterion = gini n_estimators = 200 max_depth = 6 rec = 0.9897959183673469 acc = 0.9950779327317474\n",
            "Criterion = gini n_estimators = 200 max_depth = 7 rec = 1.0 acc = 1.0\n",
            "Criterion = gini n_estimators = 200 max_depth = 8 rec = 1.0 acc = 1.0\n",
            "Criterion = gini n_estimators = 200 max_depth = 9 rec = 1.0 acc = 1.0\n",
            "Criterion = gini n_estimators = 200 max_depth = 10 rec = 1.0 acc = 1.0\n",
            "Criterion = gini n_estimators = 200 max_depth = 11 rec = 1.0 acc = 1.0\n",
            "Criterion = gini n_estimators = 200 max_depth = 12 rec = 1.0 acc = 1.0\n",
            "Criterion = gini n_estimators = 200 max_depth = 13 rec = 1.0 acc = 1.0\n",
            "Criterion = gini n_estimators = 200 max_depth = 14 rec = 1.0 acc = 1.0\n",
            "Criterion = gini n_estimators = 200 max_depth = 15 rec = 1.0 acc = 1.0\n",
            "Criterion = gini n_estimators = 200 max_depth = 16 rec = 1.0 acc = 1.0\n",
            "Criterion = gini n_estimators = 200 max_depth = 17 rec = 1.0 acc = 1.0\n",
            "Criterion = gini n_estimators = 200 max_depth = 18 rec = 1.0 acc = 1.0\n",
            "Criterion = gini n_estimators = 200 max_depth = 19 rec = 1.0 acc = 1.0\n",
            "Criterion = gini n_estimators = 500 max_depth = 1 rec = 0.8044217687074829 acc = 0.9056603773584906\n",
            "Criterion = gini n_estimators = 500 max_depth = 2 rec = 0.8741496598639455 acc = 0.9392945036915504\n",
            "Criterion = gini n_estimators = 500 max_depth = 3 rec = 0.9846938775510204 acc = 0.992616899097621\n",
            "Criterion = gini n_estimators = 500 max_depth = 4 rec = 0.9846938775510204 acc = 0.992616899097621\n",
            "Criterion = gini n_estimators = 500 max_depth = 5 rec = 0.9846938775510204 acc = 0.992616899097621\n",
            "Criterion = gini n_estimators = 500 max_depth = 6 rec = 0.9931972789115646 acc = 0.9967186218211649\n",
            "Criterion = gini n_estimators = 500 max_depth = 7 rec = 1.0 acc = 1.0\n",
            "Criterion = gini n_estimators = 500 max_depth = 8 rec = 1.0 acc = 1.0\n",
            "Criterion = gini n_estimators = 500 max_depth = 9 rec = 1.0 acc = 1.0\n",
            "Criterion = gini n_estimators = 500 max_depth = 10 rec = 1.0 acc = 1.0\n",
            "Criterion = gini n_estimators = 500 max_depth = 11 rec = 1.0 acc = 1.0\n",
            "Criterion = gini n_estimators = 500 max_depth = 12 rec = 1.0 acc = 1.0\n",
            "Criterion = gini n_estimators = 500 max_depth = 13 rec = 1.0 acc = 1.0\n",
            "Criterion = gini n_estimators = 500 max_depth = 14 rec = 1.0 acc = 1.0\n",
            "Criterion = gini n_estimators = 500 max_depth = 15 rec = 1.0 acc = 1.0\n",
            "Criterion = gini n_estimators = 500 max_depth = 16 rec = 1.0 acc = 1.0\n",
            "Criterion = gini n_estimators = 500 max_depth = 17 rec = 1.0 acc = 1.0\n",
            "Criterion = gini n_estimators = 500 max_depth = 18 rec = 1.0 acc = 1.0\n",
            "Criterion = gini n_estimators = 500 max_depth = 19 rec = 1.0 acc = 1.0\n",
            "Criterion = entropy n_estimators = 10 max_depth = 1 rec = 0.7857142857142857 acc = 0.8785890073831009\n",
            "Criterion = entropy n_estimators = 10 max_depth = 2 rec = 0.8044217687074829 acc = 0.9007383100902379\n",
            "Criterion = entropy n_estimators = 10 max_depth = 3 rec = 0.9115646258503401 acc = 0.9573420836751435\n",
            "Criterion = entropy n_estimators = 10 max_depth = 4 rec = 0.9846938775510204 acc = 0.992616899097621\n",
            "Criterion = entropy n_estimators = 10 max_depth = 5 rec = 0.9812925170068028 acc = 0.9909762100082035\n",
            "Criterion = entropy n_estimators = 10 max_depth = 6 rec = 0.9863945578231292 acc = 0.9934372436423298\n",
            "Criterion = entropy n_estimators = 10 max_depth = 7 rec = 0.9880952380952381 acc = 0.9942575881870386\n",
            "Criterion = entropy n_estimators = 10 max_depth = 8 rec = 1.0 acc = 1.0\n",
            "Criterion = entropy n_estimators = 10 max_depth = 9 rec = 1.0 acc = 1.0\n",
            "Criterion = entropy n_estimators = 10 max_depth = 10 rec = 1.0 acc = 1.0\n",
            "Criterion = entropy n_estimators = 10 max_depth = 11 rec = 1.0 acc = 1.0\n",
            "Criterion = entropy n_estimators = 10 max_depth = 12 rec = 1.0 acc = 1.0\n",
            "Criterion = entropy n_estimators = 10 max_depth = 13 rec = 1.0 acc = 1.0\n",
            "Criterion = entropy n_estimators = 10 max_depth = 14 rec = 1.0 acc = 1.0\n",
            "Criterion = entropy n_estimators = 10 max_depth = 15 rec = 1.0 acc = 1.0\n",
            "Criterion = entropy n_estimators = 10 max_depth = 16 rec = 1.0 acc = 1.0\n",
            "Criterion = entropy n_estimators = 10 max_depth = 17 rec = 1.0 acc = 1.0\n",
            "Criterion = entropy n_estimators = 10 max_depth = 18 rec = 1.0 acc = 1.0\n",
            "Criterion = entropy n_estimators = 10 max_depth = 19 rec = 1.0 acc = 1.0\n",
            "Criterion = entropy n_estimators = 50 max_depth = 1 rec = 0.8010204081632653 acc = 0.8982772764561116\n",
            "Criterion = entropy n_estimators = 50 max_depth = 2 rec = 0.8350340136054422 acc = 0.9204265791632485\n",
            "Criterion = entropy n_estimators = 50 max_depth = 3 rec = 0.9574829931972789 acc = 0.9794913863822805\n",
            "Criterion = entropy n_estimators = 50 max_depth = 4 rec = 0.9846938775510204 acc = 0.992616899097621\n",
            "Criterion = entropy n_estimators = 50 max_depth = 5 rec = 0.9846938775510204 acc = 0.992616899097621\n",
            "Criterion = entropy n_estimators = 50 max_depth = 6 rec = 0.9846938775510204 acc = 0.992616899097621\n",
            "Criterion = entropy n_estimators = 50 max_depth = 7 rec = 0.9965986394557823 acc = 0.9983593109105825\n",
            "Criterion = entropy n_estimators = 50 max_depth = 8 rec = 1.0 acc = 1.0\n",
            "Criterion = entropy n_estimators = 50 max_depth = 9 rec = 1.0 acc = 1.0\n",
            "Criterion = entropy n_estimators = 50 max_depth = 10 rec = 1.0 acc = 1.0\n",
            "Criterion = entropy n_estimators = 50 max_depth = 11 rec = 1.0 acc = 1.0\n",
            "Criterion = entropy n_estimators = 50 max_depth = 12 rec = 1.0 acc = 1.0\n",
            "Criterion = entropy n_estimators = 50 max_depth = 13 rec = 1.0 acc = 1.0\n",
            "Criterion = entropy n_estimators = 50 max_depth = 14 rec = 1.0 acc = 1.0\n",
            "Criterion = entropy n_estimators = 50 max_depth = 15 rec = 1.0 acc = 1.0\n",
            "Criterion = entropy n_estimators = 50 max_depth = 16 rec = 1.0 acc = 1.0\n",
            "Criterion = entropy n_estimators = 50 max_depth = 17 rec = 1.0 acc = 1.0\n",
            "Criterion = entropy n_estimators = 50 max_depth = 18 rec = 1.0 acc = 1.0\n",
            "Criterion = entropy n_estimators = 50 max_depth = 19 rec = 1.0 acc = 1.0\n",
            "Criterion = entropy n_estimators = 100 max_depth = 1 rec = 0.8044217687074829 acc = 0.9056603773584906\n",
            "Criterion = entropy n_estimators = 100 max_depth = 2 rec = 0.8741496598639455 acc = 0.9392945036915504\n",
            "Criterion = entropy n_estimators = 100 max_depth = 3 rec = 0.9795918367346939 acc = 0.9901558654634947\n",
            "Criterion = entropy n_estimators = 100 max_depth = 4 rec = 0.9846938775510204 acc = 0.992616899097621\n",
            "Criterion = entropy n_estimators = 100 max_depth = 5 rec = 0.9846938775510204 acc = 0.992616899097621\n",
            "Criterion = entropy n_estimators = 100 max_depth = 6 rec = 0.9863945578231292 acc = 0.9934372436423298\n",
            "Criterion = entropy n_estimators = 100 max_depth = 7 rec = 1.0 acc = 1.0\n",
            "Criterion = entropy n_estimators = 100 max_depth = 8 rec = 1.0 acc = 1.0\n",
            "Criterion = entropy n_estimators = 100 max_depth = 9 rec = 1.0 acc = 1.0\n",
            "Criterion = entropy n_estimators = 100 max_depth = 10 rec = 1.0 acc = 1.0\n",
            "Criterion = entropy n_estimators = 100 max_depth = 11 rec = 1.0 acc = 1.0\n",
            "Criterion = entropy n_estimators = 100 max_depth = 12 rec = 1.0 acc = 1.0\n",
            "Criterion = entropy n_estimators = 100 max_depth = 13 rec = 1.0 acc = 1.0\n",
            "Criterion = entropy n_estimators = 100 max_depth = 14 rec = 1.0 acc = 1.0\n",
            "Criterion = entropy n_estimators = 100 max_depth = 15 rec = 1.0 acc = 1.0\n",
            "Criterion = entropy n_estimators = 100 max_depth = 16 rec = 1.0 acc = 1.0\n",
            "Criterion = entropy n_estimators = 100 max_depth = 17 rec = 1.0 acc = 1.0\n",
            "Criterion = entropy n_estimators = 100 max_depth = 18 rec = 1.0 acc = 1.0\n",
            "Criterion = entropy n_estimators = 100 max_depth = 19 rec = 1.0 acc = 1.0\n",
            "Criterion = entropy n_estimators = 200 max_depth = 1 rec = 0.8044217687074829 acc = 0.904019688269073\n",
            "Criterion = entropy n_estimators = 200 max_depth = 2 rec = 0.8690476190476191 acc = 0.9368334700574241\n",
            "Criterion = entropy n_estimators = 200 max_depth = 3 rec = 0.9846938775510204 acc = 0.992616899097621\n",
            "Criterion = entropy n_estimators = 200 max_depth = 4 rec = 0.9846938775510204 acc = 0.992616899097621\n",
            "Criterion = entropy n_estimators = 200 max_depth = 5 rec = 0.9846938775510204 acc = 0.992616899097621\n",
            "Criterion = entropy n_estimators = 200 max_depth = 6 rec = 0.9863945578231292 acc = 0.9934372436423298\n",
            "Criterion = entropy n_estimators = 200 max_depth = 7 rec = 1.0 acc = 1.0\n",
            "Criterion = entropy n_estimators = 200 max_depth = 8 rec = 1.0 acc = 1.0\n",
            "Criterion = entropy n_estimators = 200 max_depth = 9 rec = 1.0 acc = 1.0\n",
            "Criterion = entropy n_estimators = 200 max_depth = 10 rec = 1.0 acc = 1.0\n",
            "Criterion = entropy n_estimators = 200 max_depth = 11 rec = 1.0 acc = 1.0\n",
            "Criterion = entropy n_estimators = 200 max_depth = 12 rec = 1.0 acc = 1.0\n",
            "Criterion = entropy n_estimators = 200 max_depth = 13 rec = 1.0 acc = 1.0\n",
            "Criterion = entropy n_estimators = 200 max_depth = 14 rec = 1.0 acc = 1.0\n",
            "Criterion = entropy n_estimators = 200 max_depth = 15 rec = 1.0 acc = 1.0\n",
            "Criterion = entropy n_estimators = 200 max_depth = 16 rec = 1.0 acc = 1.0\n",
            "Criterion = entropy n_estimators = 200 max_depth = 17 rec = 1.0 acc = 1.0\n",
            "Criterion = entropy n_estimators = 200 max_depth = 18 rec = 1.0 acc = 1.0\n",
            "Criterion = entropy n_estimators = 200 max_depth = 19 rec = 1.0 acc = 1.0\n",
            "Criterion = entropy n_estimators = 500 max_depth = 1 rec = 0.8180272108843537 acc = 0.9122231337161608\n",
            "Criterion = entropy n_estimators = 500 max_depth = 2 rec = 0.8758503401360545 acc = 0.9401148482362592\n",
            "Criterion = entropy n_estimators = 500 max_depth = 3 rec = 0.9812925170068028 acc = 0.9909762100082035\n",
            "Criterion = entropy n_estimators = 500 max_depth = 4 rec = 0.9846938775510204 acc = 0.992616899097621\n",
            "Criterion = entropy n_estimators = 500 max_depth = 5 rec = 0.9846938775510204 acc = 0.992616899097621\n",
            "Criterion = entropy n_estimators = 500 max_depth = 6 rec = 0.9897959183673469 acc = 0.9950779327317474\n",
            "Criterion = entropy n_estimators = 500 max_depth = 7 rec = 1.0 acc = 1.0\n",
            "Criterion = entropy n_estimators = 500 max_depth = 8 rec = 1.0 acc = 1.0\n",
            "Criterion = entropy n_estimators = 500 max_depth = 9 rec = 1.0 acc = 1.0\n",
            "Criterion = entropy n_estimators = 500 max_depth = 10 rec = 1.0 acc = 1.0\n",
            "Criterion = entropy n_estimators = 500 max_depth = 11 rec = 1.0 acc = 1.0\n",
            "Criterion = entropy n_estimators = 500 max_depth = 12 rec = 1.0 acc = 1.0\n",
            "Criterion = entropy n_estimators = 500 max_depth = 13 rec = 1.0 acc = 1.0\n",
            "Criterion = entropy n_estimators = 500 max_depth = 14 rec = 1.0 acc = 1.0\n",
            "Criterion = entropy n_estimators = 500 max_depth = 15 rec = 1.0 acc = 1.0\n",
            "Criterion = entropy n_estimators = 500 max_depth = 16 rec = 1.0 acc = 1.0\n",
            "Criterion = entropy n_estimators = 500 max_depth = 17 rec = 1.0 acc = 1.0\n",
            "Criterion = entropy n_estimators = 500 max_depth = 18 rec = 1.0 acc = 1.0\n",
            "Criterion = entropy n_estimators = 500 max_depth = 19 rec = 1.0 acc = 1.0\n",
            "Criterion = log_loss n_estimators = 10 max_depth = 1 rec = 0.7857142857142857 acc = 0.8785890073831009\n",
            "Criterion = log_loss n_estimators = 10 max_depth = 2 rec = 0.8044217687074829 acc = 0.9007383100902379\n",
            "Criterion = log_loss n_estimators = 10 max_depth = 3 rec = 0.9115646258503401 acc = 0.9573420836751435\n",
            "Criterion = log_loss n_estimators = 10 max_depth = 4 rec = 0.9846938775510204 acc = 0.992616899097621\n",
            "Criterion = log_loss n_estimators = 10 max_depth = 5 rec = 0.9812925170068028 acc = 0.9909762100082035\n",
            "Criterion = log_loss n_estimators = 10 max_depth = 6 rec = 0.9863945578231292 acc = 0.9934372436423298\n",
            "Criterion = log_loss n_estimators = 10 max_depth = 7 rec = 0.9880952380952381 acc = 0.9942575881870386\n",
            "Criterion = log_loss n_estimators = 10 max_depth = 8 rec = 1.0 acc = 1.0\n",
            "Criterion = log_loss n_estimators = 10 max_depth = 9 rec = 1.0 acc = 1.0\n",
            "Criterion = log_loss n_estimators = 10 max_depth = 10 rec = 1.0 acc = 1.0\n",
            "Criterion = log_loss n_estimators = 10 max_depth = 11 rec = 1.0 acc = 1.0\n",
            "Criterion = log_loss n_estimators = 10 max_depth = 12 rec = 1.0 acc = 1.0\n",
            "Criterion = log_loss n_estimators = 10 max_depth = 13 rec = 1.0 acc = 1.0\n",
            "Criterion = log_loss n_estimators = 10 max_depth = 14 rec = 1.0 acc = 1.0\n",
            "Criterion = log_loss n_estimators = 10 max_depth = 15 rec = 1.0 acc = 1.0\n",
            "Criterion = log_loss n_estimators = 10 max_depth = 16 rec = 1.0 acc = 1.0\n",
            "Criterion = log_loss n_estimators = 10 max_depth = 17 rec = 1.0 acc = 1.0\n",
            "Criterion = log_loss n_estimators = 10 max_depth = 18 rec = 1.0 acc = 1.0\n",
            "Criterion = log_loss n_estimators = 10 max_depth = 19 rec = 1.0 acc = 1.0\n",
            "Criterion = log_loss n_estimators = 50 max_depth = 1 rec = 0.8010204081632653 acc = 0.8982772764561116\n",
            "Criterion = log_loss n_estimators = 50 max_depth = 2 rec = 0.8350340136054422 acc = 0.9204265791632485\n",
            "Criterion = log_loss n_estimators = 50 max_depth = 3 rec = 0.9574829931972789 acc = 0.9794913863822805\n",
            "Criterion = log_loss n_estimators = 50 max_depth = 4 rec = 0.9846938775510204 acc = 0.992616899097621\n",
            "Criterion = log_loss n_estimators = 50 max_depth = 5 rec = 0.9846938775510204 acc = 0.992616899097621\n",
            "Criterion = log_loss n_estimators = 50 max_depth = 6 rec = 0.9846938775510204 acc = 0.992616899097621\n",
            "Criterion = log_loss n_estimators = 50 max_depth = 7 rec = 0.9965986394557823 acc = 0.9983593109105825\n",
            "Criterion = log_loss n_estimators = 50 max_depth = 8 rec = 1.0 acc = 1.0\n",
            "Criterion = log_loss n_estimators = 50 max_depth = 9 rec = 1.0 acc = 1.0\n",
            "Criterion = log_loss n_estimators = 50 max_depth = 10 rec = 1.0 acc = 1.0\n",
            "Criterion = log_loss n_estimators = 50 max_depth = 11 rec = 1.0 acc = 1.0\n",
            "Criterion = log_loss n_estimators = 50 max_depth = 12 rec = 1.0 acc = 1.0\n",
            "Criterion = log_loss n_estimators = 50 max_depth = 13 rec = 1.0 acc = 1.0\n",
            "Criterion = log_loss n_estimators = 50 max_depth = 14 rec = 1.0 acc = 1.0\n",
            "Criterion = log_loss n_estimators = 50 max_depth = 15 rec = 1.0 acc = 1.0\n",
            "Criterion = log_loss n_estimators = 50 max_depth = 16 rec = 1.0 acc = 1.0\n",
            "Criterion = log_loss n_estimators = 50 max_depth = 17 rec = 1.0 acc = 1.0\n",
            "Criterion = log_loss n_estimators = 50 max_depth = 18 rec = 1.0 acc = 1.0\n",
            "Criterion = log_loss n_estimators = 50 max_depth = 19 rec = 1.0 acc = 1.0\n",
            "Criterion = log_loss n_estimators = 100 max_depth = 1 rec = 0.8044217687074829 acc = 0.9056603773584906\n",
            "Criterion = log_loss n_estimators = 100 max_depth = 2 rec = 0.8741496598639455 acc = 0.9392945036915504\n",
            "Criterion = log_loss n_estimators = 100 max_depth = 3 rec = 0.9795918367346939 acc = 0.9901558654634947\n",
            "Criterion = log_loss n_estimators = 100 max_depth = 4 rec = 0.9846938775510204 acc = 0.992616899097621\n",
            "Criterion = log_loss n_estimators = 100 max_depth = 5 rec = 0.9846938775510204 acc = 0.992616899097621\n",
            "Criterion = log_loss n_estimators = 100 max_depth = 6 rec = 0.9863945578231292 acc = 0.9934372436423298\n",
            "Criterion = log_loss n_estimators = 100 max_depth = 7 rec = 1.0 acc = 1.0\n",
            "Criterion = log_loss n_estimators = 100 max_depth = 8 rec = 1.0 acc = 1.0\n",
            "Criterion = log_loss n_estimators = 100 max_depth = 9 rec = 1.0 acc = 1.0\n",
            "Criterion = log_loss n_estimators = 100 max_depth = 10 rec = 1.0 acc = 1.0\n",
            "Criterion = log_loss n_estimators = 100 max_depth = 11 rec = 1.0 acc = 1.0\n",
            "Criterion = log_loss n_estimators = 100 max_depth = 12 rec = 1.0 acc = 1.0\n",
            "Criterion = log_loss n_estimators = 100 max_depth = 13 rec = 1.0 acc = 1.0\n",
            "Criterion = log_loss n_estimators = 100 max_depth = 14 rec = 1.0 acc = 1.0\n",
            "Criterion = log_loss n_estimators = 100 max_depth = 15 rec = 1.0 acc = 1.0\n",
            "Criterion = log_loss n_estimators = 100 max_depth = 16 rec = 1.0 acc = 1.0\n",
            "Criterion = log_loss n_estimators = 100 max_depth = 17 rec = 1.0 acc = 1.0\n",
            "Criterion = log_loss n_estimators = 100 max_depth = 18 rec = 1.0 acc = 1.0\n",
            "Criterion = log_loss n_estimators = 100 max_depth = 19 rec = 1.0 acc = 1.0\n",
            "Criterion = log_loss n_estimators = 200 max_depth = 1 rec = 0.8044217687074829 acc = 0.904019688269073\n",
            "Criterion = log_loss n_estimators = 200 max_depth = 2 rec = 0.8690476190476191 acc = 0.9368334700574241\n",
            "Criterion = log_loss n_estimators = 200 max_depth = 3 rec = 0.9846938775510204 acc = 0.992616899097621\n",
            "Criterion = log_loss n_estimators = 200 max_depth = 4 rec = 0.9846938775510204 acc = 0.992616899097621\n",
            "Criterion = log_loss n_estimators = 200 max_depth = 5 rec = 0.9846938775510204 acc = 0.992616899097621\n",
            "Criterion = log_loss n_estimators = 200 max_depth = 6 rec = 0.9863945578231292 acc = 0.9934372436423298\n",
            "Criterion = log_loss n_estimators = 200 max_depth = 7 rec = 1.0 acc = 1.0\n",
            "Criterion = log_loss n_estimators = 200 max_depth = 8 rec = 1.0 acc = 1.0\n",
            "Criterion = log_loss n_estimators = 200 max_depth = 9 rec = 1.0 acc = 1.0\n",
            "Criterion = log_loss n_estimators = 200 max_depth = 10 rec = 1.0 acc = 1.0\n",
            "Criterion = log_loss n_estimators = 200 max_depth = 11 rec = 1.0 acc = 1.0\n",
            "Criterion = log_loss n_estimators = 200 max_depth = 12 rec = 1.0 acc = 1.0\n",
            "Criterion = log_loss n_estimators = 200 max_depth = 13 rec = 1.0 acc = 1.0\n",
            "Criterion = log_loss n_estimators = 200 max_depth = 14 rec = 1.0 acc = 1.0\n",
            "Criterion = log_loss n_estimators = 200 max_depth = 15 rec = 1.0 acc = 1.0\n",
            "Criterion = log_loss n_estimators = 200 max_depth = 16 rec = 1.0 acc = 1.0\n",
            "Criterion = log_loss n_estimators = 200 max_depth = 17 rec = 1.0 acc = 1.0\n",
            "Criterion = log_loss n_estimators = 200 max_depth = 18 rec = 1.0 acc = 1.0\n",
            "Criterion = log_loss n_estimators = 200 max_depth = 19 rec = 1.0 acc = 1.0\n",
            "Criterion = log_loss n_estimators = 500 max_depth = 1 rec = 0.8180272108843537 acc = 0.9122231337161608\n",
            "Criterion = log_loss n_estimators = 500 max_depth = 2 rec = 0.8758503401360545 acc = 0.9401148482362592\n",
            "Criterion = log_loss n_estimators = 500 max_depth = 3 rec = 0.9812925170068028 acc = 0.9909762100082035\n",
            "Criterion = log_loss n_estimators = 500 max_depth = 4 rec = 0.9846938775510204 acc = 0.992616899097621\n",
            "Criterion = log_loss n_estimators = 500 max_depth = 5 rec = 0.9846938775510204 acc = 0.992616899097621\n",
            "Criterion = log_loss n_estimators = 500 max_depth = 6 rec = 0.9897959183673469 acc = 0.9950779327317474\n",
            "Criterion = log_loss n_estimators = 500 max_depth = 7 rec = 1.0 acc = 1.0\n",
            "Criterion = log_loss n_estimators = 500 max_depth = 8 rec = 1.0 acc = 1.0\n",
            "Criterion = log_loss n_estimators = 500 max_depth = 9 rec = 1.0 acc = 1.0\n",
            "Criterion = log_loss n_estimators = 500 max_depth = 10 rec = 1.0 acc = 1.0\n",
            "Criterion = log_loss n_estimators = 500 max_depth = 11 rec = 1.0 acc = 1.0\n",
            "Criterion = log_loss n_estimators = 500 max_depth = 12 rec = 1.0 acc = 1.0\n",
            "Criterion = log_loss n_estimators = 500 max_depth = 13 rec = 1.0 acc = 1.0\n",
            "Criterion = log_loss n_estimators = 500 max_depth = 14 rec = 1.0 acc = 1.0\n",
            "Criterion = log_loss n_estimators = 500 max_depth = 15 rec = 1.0 acc = 1.0\n",
            "Criterion = log_loss n_estimators = 500 max_depth = 16 rec = 1.0 acc = 1.0\n",
            "Criterion = log_loss n_estimators = 500 max_depth = 17 rec = 1.0 acc = 1.0\n",
            "Criterion = log_loss n_estimators = 500 max_depth = 18 rec = 1.0 acc = 1.0\n",
            "Criterion = log_loss n_estimators = 500 max_depth = 19 rec = 1.0 acc = 1.0\n",
            "Best model is:  ['entropy', 50, 7, 0.9965986394557823, 0.9983593109105825]\n"
          ]
        }
      ]
    },
    {
      "cell_type": "code",
      "source": [
        "import xgboost as xgb"
      ],
      "metadata": {
        "id": "nWNi9aYJH_64"
      },
      "execution_count": 87,
      "outputs": []
    },
    {
      "cell_type": "code",
      "source": [
        "etas = np.linspace(0,1,11)\n",
        "estimators = [10, 50, 100, 200, 500]\n",
        "depths = range(1, 20)\n",
        "best = [0,0,0,0,0]\n",
        "\n",
        "for eta in etas:\n",
        "  for estimator in estimators:\n",
        "    for depth in depths:\n",
        "      model = xgb.XGBClassifier(n_estimators = estimator, max_depth = depth, learning_rate = eta, random_state = 7)\n",
        "      model.fit(x_train, y_train)\n",
        "      y_pred = model.predict(x_test)\n",
        "      rec = recall_score(y_test, y_pred)\n",
        "      acc = accuracy_score(y_test, y_pred)\n",
        "\n",
        "      print(f'ETA = {eta} n_estimators = {estimator} max_depth = {depth} rec = {rec} acc = {acc}')\n",
        "\n",
        "      if (rec > best[3] and rec != 1.0):\n",
        "        best = [eta, estimator, depth, rec, acc]\n",
        "      elif(rec == best[3] and (acc > best[4] and acc != 1.0)):\n",
        "        best = [eta, estimator, depth, rec, acc]\n",
        "\n",
        "print('Best model is: ', best)"
      ],
      "metadata": {
        "colab": {
          "base_uri": "https://localhost:8080/"
        },
        "id": "dIONE8baIHB2",
        "outputId": "cf01361e-2150-4808-959a-c555445fd453"
      },
      "execution_count": 88,
      "outputs": [
        {
          "output_type": "stream",
          "name": "stdout",
          "text": [
            "ETA = 0.0 n_estimators = 10 max_depth = 1 rec = 0.0 acc = 0.5176374077112387\n",
            "ETA = 0.0 n_estimators = 10 max_depth = 2 rec = 0.0 acc = 0.5176374077112387\n",
            "ETA = 0.0 n_estimators = 10 max_depth = 3 rec = 0.0 acc = 0.5176374077112387\n",
            "ETA = 0.0 n_estimators = 10 max_depth = 4 rec = 0.0 acc = 0.5176374077112387\n",
            "ETA = 0.0 n_estimators = 10 max_depth = 5 rec = 0.0 acc = 0.5176374077112387\n",
            "ETA = 0.0 n_estimators = 10 max_depth = 6 rec = 0.0 acc = 0.5176374077112387\n",
            "ETA = 0.0 n_estimators = 10 max_depth = 7 rec = 0.0 acc = 0.5176374077112387\n",
            "ETA = 0.0 n_estimators = 10 max_depth = 8 rec = 0.0 acc = 0.5176374077112387\n",
            "ETA = 0.0 n_estimators = 10 max_depth = 9 rec = 0.0 acc = 0.5176374077112387\n",
            "ETA = 0.0 n_estimators = 10 max_depth = 10 rec = 0.0 acc = 0.5176374077112387\n",
            "ETA = 0.0 n_estimators = 10 max_depth = 11 rec = 0.0 acc = 0.5176374077112387\n",
            "ETA = 0.0 n_estimators = 10 max_depth = 12 rec = 0.0 acc = 0.5176374077112387\n",
            "ETA = 0.0 n_estimators = 10 max_depth = 13 rec = 0.0 acc = 0.5176374077112387\n",
            "ETA = 0.0 n_estimators = 10 max_depth = 14 rec = 0.0 acc = 0.5176374077112387\n",
            "ETA = 0.0 n_estimators = 10 max_depth = 15 rec = 0.0 acc = 0.5176374077112387\n",
            "ETA = 0.0 n_estimators = 10 max_depth = 16 rec = 0.0 acc = 0.5176374077112387\n",
            "ETA = 0.0 n_estimators = 10 max_depth = 17 rec = 0.0 acc = 0.5176374077112387\n",
            "ETA = 0.0 n_estimators = 10 max_depth = 18 rec = 0.0 acc = 0.5176374077112387\n",
            "ETA = 0.0 n_estimators = 10 max_depth = 19 rec = 0.0 acc = 0.5176374077112387\n",
            "ETA = 0.0 n_estimators = 50 max_depth = 1 rec = 0.0 acc = 0.5176374077112387\n",
            "ETA = 0.0 n_estimators = 50 max_depth = 2 rec = 0.0 acc = 0.5176374077112387\n",
            "ETA = 0.0 n_estimators = 50 max_depth = 3 rec = 0.0 acc = 0.5176374077112387\n",
            "ETA = 0.0 n_estimators = 50 max_depth = 4 rec = 0.0 acc = 0.5176374077112387\n",
            "ETA = 0.0 n_estimators = 50 max_depth = 5 rec = 0.0 acc = 0.5176374077112387\n",
            "ETA = 0.0 n_estimators = 50 max_depth = 6 rec = 0.0 acc = 0.5176374077112387\n",
            "ETA = 0.0 n_estimators = 50 max_depth = 7 rec = 0.0 acc = 0.5176374077112387\n",
            "ETA = 0.0 n_estimators = 50 max_depth = 8 rec = 0.0 acc = 0.5176374077112387\n",
            "ETA = 0.0 n_estimators = 50 max_depth = 9 rec = 0.0 acc = 0.5176374077112387\n",
            "ETA = 0.0 n_estimators = 50 max_depth = 10 rec = 0.0 acc = 0.5176374077112387\n",
            "ETA = 0.0 n_estimators = 50 max_depth = 11 rec = 0.0 acc = 0.5176374077112387\n",
            "ETA = 0.0 n_estimators = 50 max_depth = 12 rec = 0.0 acc = 0.5176374077112387\n",
            "ETA = 0.0 n_estimators = 50 max_depth = 13 rec = 0.0 acc = 0.5176374077112387\n",
            "ETA = 0.0 n_estimators = 50 max_depth = 14 rec = 0.0 acc = 0.5176374077112387\n",
            "ETA = 0.0 n_estimators = 50 max_depth = 15 rec = 0.0 acc = 0.5176374077112387\n",
            "ETA = 0.0 n_estimators = 50 max_depth = 16 rec = 0.0 acc = 0.5176374077112387\n",
            "ETA = 0.0 n_estimators = 50 max_depth = 17 rec = 0.0 acc = 0.5176374077112387\n",
            "ETA = 0.0 n_estimators = 50 max_depth = 18 rec = 0.0 acc = 0.5176374077112387\n",
            "ETA = 0.0 n_estimators = 50 max_depth = 19 rec = 0.0 acc = 0.5176374077112387\n",
            "ETA = 0.0 n_estimators = 100 max_depth = 1 rec = 0.0 acc = 0.5176374077112387\n",
            "ETA = 0.0 n_estimators = 100 max_depth = 2 rec = 0.0 acc = 0.5176374077112387\n",
            "ETA = 0.0 n_estimators = 100 max_depth = 3 rec = 0.0 acc = 0.5176374077112387\n",
            "ETA = 0.0 n_estimators = 100 max_depth = 4 rec = 0.0 acc = 0.5176374077112387\n",
            "ETA = 0.0 n_estimators = 100 max_depth = 5 rec = 0.0 acc = 0.5176374077112387\n",
            "ETA = 0.0 n_estimators = 100 max_depth = 6 rec = 0.0 acc = 0.5176374077112387\n",
            "ETA = 0.0 n_estimators = 100 max_depth = 7 rec = 0.0 acc = 0.5176374077112387\n",
            "ETA = 0.0 n_estimators = 100 max_depth = 8 rec = 0.0 acc = 0.5176374077112387\n",
            "ETA = 0.0 n_estimators = 100 max_depth = 9 rec = 0.0 acc = 0.5176374077112387\n",
            "ETA = 0.0 n_estimators = 100 max_depth = 10 rec = 0.0 acc = 0.5176374077112387\n",
            "ETA = 0.0 n_estimators = 100 max_depth = 11 rec = 0.0 acc = 0.5176374077112387\n",
            "ETA = 0.0 n_estimators = 100 max_depth = 12 rec = 0.0 acc = 0.5176374077112387\n",
            "ETA = 0.0 n_estimators = 100 max_depth = 13 rec = 0.0 acc = 0.5176374077112387\n",
            "ETA = 0.0 n_estimators = 100 max_depth = 14 rec = 0.0 acc = 0.5176374077112387\n",
            "ETA = 0.0 n_estimators = 100 max_depth = 15 rec = 0.0 acc = 0.5176374077112387\n",
            "ETA = 0.0 n_estimators = 100 max_depth = 16 rec = 0.0 acc = 0.5176374077112387\n",
            "ETA = 0.0 n_estimators = 100 max_depth = 17 rec = 0.0 acc = 0.5176374077112387\n",
            "ETA = 0.0 n_estimators = 100 max_depth = 18 rec = 0.0 acc = 0.5176374077112387\n",
            "ETA = 0.0 n_estimators = 100 max_depth = 19 rec = 0.0 acc = 0.5176374077112387\n",
            "ETA = 0.0 n_estimators = 200 max_depth = 1 rec = 0.0 acc = 0.5176374077112387\n",
            "ETA = 0.0 n_estimators = 200 max_depth = 2 rec = 0.0 acc = 0.5176374077112387\n",
            "ETA = 0.0 n_estimators = 200 max_depth = 3 rec = 0.0 acc = 0.5176374077112387\n",
            "ETA = 0.0 n_estimators = 200 max_depth = 4 rec = 0.0 acc = 0.5176374077112387\n",
            "ETA = 0.0 n_estimators = 200 max_depth = 5 rec = 0.0 acc = 0.5176374077112387\n",
            "ETA = 0.0 n_estimators = 200 max_depth = 6 rec = 0.0 acc = 0.5176374077112387\n",
            "ETA = 0.0 n_estimators = 200 max_depth = 7 rec = 0.0 acc = 0.5176374077112387\n",
            "ETA = 0.0 n_estimators = 200 max_depth = 8 rec = 0.0 acc = 0.5176374077112387\n",
            "ETA = 0.0 n_estimators = 200 max_depth = 9 rec = 0.0 acc = 0.5176374077112387\n",
            "ETA = 0.0 n_estimators = 200 max_depth = 10 rec = 0.0 acc = 0.5176374077112387\n",
            "ETA = 0.0 n_estimators = 200 max_depth = 11 rec = 0.0 acc = 0.5176374077112387\n",
            "ETA = 0.0 n_estimators = 200 max_depth = 12 rec = 0.0 acc = 0.5176374077112387\n",
            "ETA = 0.0 n_estimators = 200 max_depth = 13 rec = 0.0 acc = 0.5176374077112387\n",
            "ETA = 0.0 n_estimators = 200 max_depth = 14 rec = 0.0 acc = 0.5176374077112387\n",
            "ETA = 0.0 n_estimators = 200 max_depth = 15 rec = 0.0 acc = 0.5176374077112387\n",
            "ETA = 0.0 n_estimators = 200 max_depth = 16 rec = 0.0 acc = 0.5176374077112387\n",
            "ETA = 0.0 n_estimators = 200 max_depth = 17 rec = 0.0 acc = 0.5176374077112387\n",
            "ETA = 0.0 n_estimators = 200 max_depth = 18 rec = 0.0 acc = 0.5176374077112387\n",
            "ETA = 0.0 n_estimators = 200 max_depth = 19 rec = 0.0 acc = 0.5176374077112387\n",
            "ETA = 0.0 n_estimators = 500 max_depth = 1 rec = 0.0 acc = 0.5176374077112387\n",
            "ETA = 0.0 n_estimators = 500 max_depth = 2 rec = 0.0 acc = 0.5176374077112387\n",
            "ETA = 0.0 n_estimators = 500 max_depth = 3 rec = 0.0 acc = 0.5176374077112387\n",
            "ETA = 0.0 n_estimators = 500 max_depth = 4 rec = 0.0 acc = 0.5176374077112387\n",
            "ETA = 0.0 n_estimators = 500 max_depth = 5 rec = 0.0 acc = 0.5176374077112387\n",
            "ETA = 0.0 n_estimators = 500 max_depth = 6 rec = 0.0 acc = 0.5176374077112387\n",
            "ETA = 0.0 n_estimators = 500 max_depth = 7 rec = 0.0 acc = 0.5176374077112387\n",
            "ETA = 0.0 n_estimators = 500 max_depth = 8 rec = 0.0 acc = 0.5176374077112387\n",
            "ETA = 0.0 n_estimators = 500 max_depth = 9 rec = 0.0 acc = 0.5176374077112387\n",
            "ETA = 0.0 n_estimators = 500 max_depth = 10 rec = 0.0 acc = 0.5176374077112387\n",
            "ETA = 0.0 n_estimators = 500 max_depth = 11 rec = 0.0 acc = 0.5176374077112387\n",
            "ETA = 0.0 n_estimators = 500 max_depth = 12 rec = 0.0 acc = 0.5176374077112387\n",
            "ETA = 0.0 n_estimators = 500 max_depth = 13 rec = 0.0 acc = 0.5176374077112387\n",
            "ETA = 0.0 n_estimators = 500 max_depth = 14 rec = 0.0 acc = 0.5176374077112387\n",
            "ETA = 0.0 n_estimators = 500 max_depth = 15 rec = 0.0 acc = 0.5176374077112387\n",
            "ETA = 0.0 n_estimators = 500 max_depth = 16 rec = 0.0 acc = 0.5176374077112387\n",
            "ETA = 0.0 n_estimators = 500 max_depth = 17 rec = 0.0 acc = 0.5176374077112387\n",
            "ETA = 0.0 n_estimators = 500 max_depth = 18 rec = 0.0 acc = 0.5176374077112387\n",
            "ETA = 0.0 n_estimators = 500 max_depth = 19 rec = 0.0 acc = 0.5176374077112387\n",
            "ETA = 0.1 n_estimators = 10 max_depth = 1 rec = 0.9761904761904762 acc = 0.8917145200984413\n",
            "ETA = 0.1 n_estimators = 10 max_depth = 2 rec = 0.9880952380952381 acc = 0.977850697292863\n",
            "ETA = 0.1 n_estimators = 10 max_depth = 3 rec = 0.9948979591836735 acc = 0.9975389663658737\n",
            "ETA = 0.1 n_estimators = 10 max_depth = 4 rec = 0.9965986394557823 acc = 0.9983593109105825\n",
            "ETA = 0.1 n_estimators = 10 max_depth = 5 rec = 0.9965986394557823 acc = 0.9983593109105825\n",
            "ETA = 0.1 n_estimators = 10 max_depth = 6 rec = 0.9965986394557823 acc = 0.9983593109105825\n",
            "ETA = 0.1 n_estimators = 10 max_depth = 7 rec = 0.9965986394557823 acc = 0.9983593109105825\n",
            "ETA = 0.1 n_estimators = 10 max_depth = 8 rec = 0.9965986394557823 acc = 0.9983593109105825\n",
            "ETA = 0.1 n_estimators = 10 max_depth = 9 rec = 0.9965986394557823 acc = 0.9983593109105825\n",
            "ETA = 0.1 n_estimators = 10 max_depth = 10 rec = 0.9965986394557823 acc = 0.9983593109105825\n",
            "ETA = 0.1 n_estimators = 10 max_depth = 11 rec = 0.9965986394557823 acc = 0.9983593109105825\n",
            "ETA = 0.1 n_estimators = 10 max_depth = 12 rec = 0.9965986394557823 acc = 0.9983593109105825\n",
            "ETA = 0.1 n_estimators = 10 max_depth = 13 rec = 0.9965986394557823 acc = 0.9983593109105825\n",
            "ETA = 0.1 n_estimators = 10 max_depth = 14 rec = 0.9965986394557823 acc = 0.9983593109105825\n",
            "ETA = 0.1 n_estimators = 10 max_depth = 15 rec = 0.9965986394557823 acc = 0.9983593109105825\n",
            "ETA = 0.1 n_estimators = 10 max_depth = 16 rec = 0.9965986394557823 acc = 0.9983593109105825\n",
            "ETA = 0.1 n_estimators = 10 max_depth = 17 rec = 0.9965986394557823 acc = 0.9983593109105825\n",
            "ETA = 0.1 n_estimators = 10 max_depth = 18 rec = 0.9965986394557823 acc = 0.9983593109105825\n",
            "ETA = 0.1 n_estimators = 10 max_depth = 19 rec = 0.9965986394557823 acc = 0.9983593109105825\n",
            "ETA = 0.1 n_estimators = 50 max_depth = 1 rec = 0.9761904761904762 acc = 0.9819524200164069\n",
            "ETA = 0.1 n_estimators = 50 max_depth = 2 rec = 0.9965986394557823 acc = 0.9983593109105825\n",
            "ETA = 0.1 n_estimators = 50 max_depth = 3 rec = 0.9965986394557823 acc = 0.9983593109105825\n",
            "ETA = 0.1 n_estimators = 50 max_depth = 4 rec = 1.0 acc = 1.0\n",
            "ETA = 0.1 n_estimators = 50 max_depth = 5 rec = 1.0 acc = 1.0\n",
            "ETA = 0.1 n_estimators = 50 max_depth = 6 rec = 1.0 acc = 1.0\n",
            "ETA = 0.1 n_estimators = 50 max_depth = 7 rec = 1.0 acc = 1.0\n",
            "ETA = 0.1 n_estimators = 50 max_depth = 8 rec = 1.0 acc = 1.0\n",
            "ETA = 0.1 n_estimators = 50 max_depth = 9 rec = 1.0 acc = 1.0\n",
            "ETA = 0.1 n_estimators = 50 max_depth = 10 rec = 1.0 acc = 1.0\n",
            "ETA = 0.1 n_estimators = 50 max_depth = 11 rec = 1.0 acc = 1.0\n",
            "ETA = 0.1 n_estimators = 50 max_depth = 12 rec = 1.0 acc = 1.0\n",
            "ETA = 0.1 n_estimators = 50 max_depth = 13 rec = 1.0 acc = 1.0\n",
            "ETA = 0.1 n_estimators = 50 max_depth = 14 rec = 1.0 acc = 1.0\n",
            "ETA = 0.1 n_estimators = 50 max_depth = 15 rec = 1.0 acc = 1.0\n",
            "ETA = 0.1 n_estimators = 50 max_depth = 16 rec = 1.0 acc = 1.0\n",
            "ETA = 0.1 n_estimators = 50 max_depth = 17 rec = 1.0 acc = 1.0\n",
            "ETA = 0.1 n_estimators = 50 max_depth = 18 rec = 1.0 acc = 1.0\n",
            "ETA = 0.1 n_estimators = 50 max_depth = 19 rec = 1.0 acc = 1.0\n",
            "ETA = 0.1 n_estimators = 100 max_depth = 1 rec = 0.9880952380952381 acc = 0.9942575881870386\n",
            "ETA = 0.1 n_estimators = 100 max_depth = 2 rec = 0.9965986394557823 acc = 0.9983593109105825\n",
            "ETA = 0.1 n_estimators = 100 max_depth = 3 rec = 1.0 acc = 1.0\n",
            "ETA = 0.1 n_estimators = 100 max_depth = 4 rec = 1.0 acc = 1.0\n",
            "ETA = 0.1 n_estimators = 100 max_depth = 5 rec = 1.0 acc = 1.0\n",
            "ETA = 0.1 n_estimators = 100 max_depth = 6 rec = 1.0 acc = 1.0\n",
            "ETA = 0.1 n_estimators = 100 max_depth = 7 rec = 1.0 acc = 1.0\n",
            "ETA = 0.1 n_estimators = 100 max_depth = 8 rec = 1.0 acc = 1.0\n",
            "ETA = 0.1 n_estimators = 100 max_depth = 9 rec = 1.0 acc = 1.0\n",
            "ETA = 0.1 n_estimators = 100 max_depth = 10 rec = 1.0 acc = 1.0\n",
            "ETA = 0.1 n_estimators = 100 max_depth = 11 rec = 1.0 acc = 1.0\n",
            "ETA = 0.1 n_estimators = 100 max_depth = 12 rec = 1.0 acc = 1.0\n",
            "ETA = 0.1 n_estimators = 100 max_depth = 13 rec = 1.0 acc = 1.0\n",
            "ETA = 0.1 n_estimators = 100 max_depth = 14 rec = 1.0 acc = 1.0\n",
            "ETA = 0.1 n_estimators = 100 max_depth = 15 rec = 1.0 acc = 1.0\n",
            "ETA = 0.1 n_estimators = 100 max_depth = 16 rec = 1.0 acc = 1.0\n",
            "ETA = 0.1 n_estimators = 100 max_depth = 17 rec = 1.0 acc = 1.0\n",
            "ETA = 0.1 n_estimators = 100 max_depth = 18 rec = 1.0 acc = 1.0\n",
            "ETA = 0.1 n_estimators = 100 max_depth = 19 rec = 1.0 acc = 1.0\n",
            "ETA = 0.1 n_estimators = 200 max_depth = 1 rec = 0.9897959183673469 acc = 0.9950779327317474\n",
            "ETA = 0.1 n_estimators = 200 max_depth = 2 rec = 1.0 acc = 1.0\n",
            "ETA = 0.1 n_estimators = 200 max_depth = 3 rec = 1.0 acc = 1.0\n",
            "ETA = 0.1 n_estimators = 200 max_depth = 4 rec = 1.0 acc = 1.0\n",
            "ETA = 0.1 n_estimators = 200 max_depth = 5 rec = 1.0 acc = 1.0\n",
            "ETA = 0.1 n_estimators = 200 max_depth = 6 rec = 1.0 acc = 1.0\n",
            "ETA = 0.1 n_estimators = 200 max_depth = 7 rec = 1.0 acc = 1.0\n",
            "ETA = 0.1 n_estimators = 200 max_depth = 8 rec = 1.0 acc = 1.0\n",
            "ETA = 0.1 n_estimators = 200 max_depth = 9 rec = 1.0 acc = 1.0\n",
            "ETA = 0.1 n_estimators = 200 max_depth = 10 rec = 1.0 acc = 1.0\n",
            "ETA = 0.1 n_estimators = 200 max_depth = 11 rec = 1.0 acc = 1.0\n",
            "ETA = 0.1 n_estimators = 200 max_depth = 12 rec = 1.0 acc = 1.0\n",
            "ETA = 0.1 n_estimators = 200 max_depth = 13 rec = 1.0 acc = 1.0\n",
            "ETA = 0.1 n_estimators = 200 max_depth = 14 rec = 1.0 acc = 1.0\n",
            "ETA = 0.1 n_estimators = 200 max_depth = 15 rec = 1.0 acc = 1.0\n",
            "ETA = 0.1 n_estimators = 200 max_depth = 16 rec = 1.0 acc = 1.0\n",
            "ETA = 0.1 n_estimators = 200 max_depth = 17 rec = 1.0 acc = 1.0\n",
            "ETA = 0.1 n_estimators = 200 max_depth = 18 rec = 1.0 acc = 1.0\n",
            "ETA = 0.1 n_estimators = 200 max_depth = 19 rec = 1.0 acc = 1.0\n",
            "ETA = 0.1 n_estimators = 500 max_depth = 1 rec = 0.9965986394557823 acc = 0.9983593109105825\n",
            "ETA = 0.1 n_estimators = 500 max_depth = 2 rec = 1.0 acc = 1.0\n",
            "ETA = 0.1 n_estimators = 500 max_depth = 3 rec = 1.0 acc = 1.0\n",
            "ETA = 0.1 n_estimators = 500 max_depth = 4 rec = 1.0 acc = 1.0\n",
            "ETA = 0.1 n_estimators = 500 max_depth = 5 rec = 1.0 acc = 1.0\n",
            "ETA = 0.1 n_estimators = 500 max_depth = 6 rec = 1.0 acc = 1.0\n",
            "ETA = 0.1 n_estimators = 500 max_depth = 7 rec = 1.0 acc = 1.0\n",
            "ETA = 0.1 n_estimators = 500 max_depth = 8 rec = 1.0 acc = 1.0\n",
            "ETA = 0.1 n_estimators = 500 max_depth = 9 rec = 1.0 acc = 1.0\n",
            "ETA = 0.1 n_estimators = 500 max_depth = 10 rec = 1.0 acc = 1.0\n",
            "ETA = 0.1 n_estimators = 500 max_depth = 11 rec = 1.0 acc = 1.0\n",
            "ETA = 0.1 n_estimators = 500 max_depth = 12 rec = 1.0 acc = 1.0\n",
            "ETA = 0.1 n_estimators = 500 max_depth = 13 rec = 1.0 acc = 1.0\n",
            "ETA = 0.1 n_estimators = 500 max_depth = 14 rec = 1.0 acc = 1.0\n",
            "ETA = 0.1 n_estimators = 500 max_depth = 15 rec = 1.0 acc = 1.0\n",
            "ETA = 0.1 n_estimators = 500 max_depth = 16 rec = 1.0 acc = 1.0\n",
            "ETA = 0.1 n_estimators = 500 max_depth = 17 rec = 1.0 acc = 1.0\n",
            "ETA = 0.1 n_estimators = 500 max_depth = 18 rec = 1.0 acc = 1.0\n",
            "ETA = 0.1 n_estimators = 500 max_depth = 19 rec = 1.0 acc = 1.0\n",
            "ETA = 0.2 n_estimators = 10 max_depth = 1 rec = 0.9761904761904762 acc = 0.8917145200984413\n",
            "ETA = 0.2 n_estimators = 10 max_depth = 2 rec = 0.9846938775510204 acc = 0.9901558654634947\n",
            "ETA = 0.2 n_estimators = 10 max_depth = 3 rec = 0.9965986394557823 acc = 0.9983593109105825\n",
            "ETA = 0.2 n_estimators = 10 max_depth = 4 rec = 0.9965986394557823 acc = 0.9983593109105825\n",
            "ETA = 0.2 n_estimators = 10 max_depth = 5 rec = 1.0 acc = 1.0\n",
            "ETA = 0.2 n_estimators = 10 max_depth = 6 rec = 1.0 acc = 1.0\n",
            "ETA = 0.2 n_estimators = 10 max_depth = 7 rec = 1.0 acc = 1.0\n",
            "ETA = 0.2 n_estimators = 10 max_depth = 8 rec = 1.0 acc = 1.0\n",
            "ETA = 0.2 n_estimators = 10 max_depth = 9 rec = 1.0 acc = 1.0\n",
            "ETA = 0.2 n_estimators = 10 max_depth = 10 rec = 1.0 acc = 1.0\n",
            "ETA = 0.2 n_estimators = 10 max_depth = 11 rec = 1.0 acc = 1.0\n",
            "ETA = 0.2 n_estimators = 10 max_depth = 12 rec = 1.0 acc = 1.0\n",
            "ETA = 0.2 n_estimators = 10 max_depth = 13 rec = 1.0 acc = 1.0\n",
            "ETA = 0.2 n_estimators = 10 max_depth = 14 rec = 1.0 acc = 1.0\n",
            "ETA = 0.2 n_estimators = 10 max_depth = 15 rec = 1.0 acc = 1.0\n",
            "ETA = 0.2 n_estimators = 10 max_depth = 16 rec = 1.0 acc = 1.0\n",
            "ETA = 0.2 n_estimators = 10 max_depth = 17 rec = 1.0 acc = 1.0\n",
            "ETA = 0.2 n_estimators = 10 max_depth = 18 rec = 1.0 acc = 1.0\n",
            "ETA = 0.2 n_estimators = 10 max_depth = 19 rec = 1.0 acc = 1.0\n",
            "ETA = 0.2 n_estimators = 50 max_depth = 1 rec = 0.9761904761904762 acc = 0.9885151763740772\n",
            "ETA = 0.2 n_estimators = 50 max_depth = 2 rec = 0.9965986394557823 acc = 0.9983593109105825\n",
            "ETA = 0.2 n_estimators = 50 max_depth = 3 rec = 1.0 acc = 1.0\n",
            "ETA = 0.2 n_estimators = 50 max_depth = 4 rec = 1.0 acc = 1.0\n",
            "ETA = 0.2 n_estimators = 50 max_depth = 5 rec = 1.0 acc = 1.0\n",
            "ETA = 0.2 n_estimators = 50 max_depth = 6 rec = 1.0 acc = 1.0\n",
            "ETA = 0.2 n_estimators = 50 max_depth = 7 rec = 1.0 acc = 1.0\n",
            "ETA = 0.2 n_estimators = 50 max_depth = 8 rec = 1.0 acc = 1.0\n",
            "ETA = 0.2 n_estimators = 50 max_depth = 9 rec = 1.0 acc = 1.0\n",
            "ETA = 0.2 n_estimators = 50 max_depth = 10 rec = 1.0 acc = 1.0\n",
            "ETA = 0.2 n_estimators = 50 max_depth = 11 rec = 1.0 acc = 1.0\n",
            "ETA = 0.2 n_estimators = 50 max_depth = 12 rec = 1.0 acc = 1.0\n",
            "ETA = 0.2 n_estimators = 50 max_depth = 13 rec = 1.0 acc = 1.0\n",
            "ETA = 0.2 n_estimators = 50 max_depth = 14 rec = 1.0 acc = 1.0\n",
            "ETA = 0.2 n_estimators = 50 max_depth = 15 rec = 1.0 acc = 1.0\n",
            "ETA = 0.2 n_estimators = 50 max_depth = 16 rec = 1.0 acc = 1.0\n",
            "ETA = 0.2 n_estimators = 50 max_depth = 17 rec = 1.0 acc = 1.0\n",
            "ETA = 0.2 n_estimators = 50 max_depth = 18 rec = 1.0 acc = 1.0\n",
            "ETA = 0.2 n_estimators = 50 max_depth = 19 rec = 1.0 acc = 1.0\n",
            "ETA = 0.2 n_estimators = 100 max_depth = 1 rec = 0.9897959183673469 acc = 0.9950779327317474\n",
            "ETA = 0.2 n_estimators = 100 max_depth = 2 rec = 1.0 acc = 1.0\n",
            "ETA = 0.2 n_estimators = 100 max_depth = 3 rec = 1.0 acc = 1.0\n",
            "ETA = 0.2 n_estimators = 100 max_depth = 4 rec = 1.0 acc = 1.0\n",
            "ETA = 0.2 n_estimators = 100 max_depth = 5 rec = 1.0 acc = 1.0\n",
            "ETA = 0.2 n_estimators = 100 max_depth = 6 rec = 1.0 acc = 1.0\n",
            "ETA = 0.2 n_estimators = 100 max_depth = 7 rec = 1.0 acc = 1.0\n",
            "ETA = 0.2 n_estimators = 100 max_depth = 8 rec = 1.0 acc = 1.0\n",
            "ETA = 0.2 n_estimators = 100 max_depth = 9 rec = 1.0 acc = 1.0\n",
            "ETA = 0.2 n_estimators = 100 max_depth = 10 rec = 1.0 acc = 1.0\n",
            "ETA = 0.2 n_estimators = 100 max_depth = 11 rec = 1.0 acc = 1.0\n",
            "ETA = 0.2 n_estimators = 100 max_depth = 12 rec = 1.0 acc = 1.0\n",
            "ETA = 0.2 n_estimators = 100 max_depth = 13 rec = 1.0 acc = 1.0\n",
            "ETA = 0.2 n_estimators = 100 max_depth = 14 rec = 1.0 acc = 1.0\n",
            "ETA = 0.2 n_estimators = 100 max_depth = 15 rec = 1.0 acc = 1.0\n",
            "ETA = 0.2 n_estimators = 100 max_depth = 16 rec = 1.0 acc = 1.0\n",
            "ETA = 0.2 n_estimators = 100 max_depth = 17 rec = 1.0 acc = 1.0\n",
            "ETA = 0.2 n_estimators = 100 max_depth = 18 rec = 1.0 acc = 1.0\n",
            "ETA = 0.2 n_estimators = 100 max_depth = 19 rec = 1.0 acc = 1.0\n",
            "ETA = 0.2 n_estimators = 200 max_depth = 1 rec = 0.9965986394557823 acc = 0.9983593109105825\n",
            "ETA = 0.2 n_estimators = 200 max_depth = 2 rec = 1.0 acc = 1.0\n",
            "ETA = 0.2 n_estimators = 200 max_depth = 3 rec = 1.0 acc = 1.0\n",
            "ETA = 0.2 n_estimators = 200 max_depth = 4 rec = 1.0 acc = 1.0\n",
            "ETA = 0.2 n_estimators = 200 max_depth = 5 rec = 1.0 acc = 1.0\n",
            "ETA = 0.2 n_estimators = 200 max_depth = 6 rec = 1.0 acc = 1.0\n",
            "ETA = 0.2 n_estimators = 200 max_depth = 7 rec = 1.0 acc = 1.0\n",
            "ETA = 0.2 n_estimators = 200 max_depth = 8 rec = 1.0 acc = 1.0\n",
            "ETA = 0.2 n_estimators = 200 max_depth = 9 rec = 1.0 acc = 1.0\n",
            "ETA = 0.2 n_estimators = 200 max_depth = 10 rec = 1.0 acc = 1.0\n",
            "ETA = 0.2 n_estimators = 200 max_depth = 11 rec = 1.0 acc = 1.0\n",
            "ETA = 0.2 n_estimators = 200 max_depth = 12 rec = 1.0 acc = 1.0\n",
            "ETA = 0.2 n_estimators = 200 max_depth = 13 rec = 1.0 acc = 1.0\n",
            "ETA = 0.2 n_estimators = 200 max_depth = 14 rec = 1.0 acc = 1.0\n",
            "ETA = 0.2 n_estimators = 200 max_depth = 15 rec = 1.0 acc = 1.0\n",
            "ETA = 0.2 n_estimators = 200 max_depth = 16 rec = 1.0 acc = 1.0\n",
            "ETA = 0.2 n_estimators = 200 max_depth = 17 rec = 1.0 acc = 1.0\n",
            "ETA = 0.2 n_estimators = 200 max_depth = 18 rec = 1.0 acc = 1.0\n",
            "ETA = 0.2 n_estimators = 200 max_depth = 19 rec = 1.0 acc = 1.0\n",
            "ETA = 0.2 n_estimators = 500 max_depth = 1 rec = 1.0 acc = 1.0\n",
            "ETA = 0.2 n_estimators = 500 max_depth = 2 rec = 1.0 acc = 1.0\n",
            "ETA = 0.2 n_estimators = 500 max_depth = 3 rec = 1.0 acc = 1.0\n",
            "ETA = 0.2 n_estimators = 500 max_depth = 4 rec = 1.0 acc = 1.0\n",
            "ETA = 0.2 n_estimators = 500 max_depth = 5 rec = 1.0 acc = 1.0\n",
            "ETA = 0.2 n_estimators = 500 max_depth = 6 rec = 1.0 acc = 1.0\n",
            "ETA = 0.2 n_estimators = 500 max_depth = 7 rec = 1.0 acc = 1.0\n",
            "ETA = 0.2 n_estimators = 500 max_depth = 8 rec = 1.0 acc = 1.0\n",
            "ETA = 0.2 n_estimators = 500 max_depth = 9 rec = 1.0 acc = 1.0\n",
            "ETA = 0.2 n_estimators = 500 max_depth = 10 rec = 1.0 acc = 1.0\n",
            "ETA = 0.2 n_estimators = 500 max_depth = 11 rec = 1.0 acc = 1.0\n",
            "ETA = 0.2 n_estimators = 500 max_depth = 12 rec = 1.0 acc = 1.0\n",
            "ETA = 0.2 n_estimators = 500 max_depth = 13 rec = 1.0 acc = 1.0\n",
            "ETA = 0.2 n_estimators = 500 max_depth = 14 rec = 1.0 acc = 1.0\n",
            "ETA = 0.2 n_estimators = 500 max_depth = 15 rec = 1.0 acc = 1.0\n",
            "ETA = 0.2 n_estimators = 500 max_depth = 16 rec = 1.0 acc = 1.0\n",
            "ETA = 0.2 n_estimators = 500 max_depth = 17 rec = 1.0 acc = 1.0\n",
            "ETA = 0.2 n_estimators = 500 max_depth = 18 rec = 1.0 acc = 1.0\n",
            "ETA = 0.2 n_estimators = 500 max_depth = 19 rec = 1.0 acc = 1.0\n",
            "ETA = 0.30000000000000004 n_estimators = 10 max_depth = 1 rec = 0.9880952380952381 acc = 0.9876948318293683\n",
            "ETA = 0.30000000000000004 n_estimators = 10 max_depth = 2 rec = 0.9965986394557823 acc = 0.9917965545529123\n",
            "ETA = 0.30000000000000004 n_estimators = 10 max_depth = 3 rec = 0.9965986394557823 acc = 0.9983593109105825\n",
            "ETA = 0.30000000000000004 n_estimators = 10 max_depth = 4 rec = 0.9965986394557823 acc = 0.9983593109105825\n",
            "ETA = 0.30000000000000004 n_estimators = 10 max_depth = 5 rec = 1.0 acc = 1.0\n",
            "ETA = 0.30000000000000004 n_estimators = 10 max_depth = 6 rec = 1.0 acc = 1.0\n",
            "ETA = 0.30000000000000004 n_estimators = 10 max_depth = 7 rec = 1.0 acc = 1.0\n",
            "ETA = 0.30000000000000004 n_estimators = 10 max_depth = 8 rec = 1.0 acc = 1.0\n",
            "ETA = 0.30000000000000004 n_estimators = 10 max_depth = 9 rec = 1.0 acc = 1.0\n",
            "ETA = 0.30000000000000004 n_estimators = 10 max_depth = 10 rec = 1.0 acc = 1.0\n",
            "ETA = 0.30000000000000004 n_estimators = 10 max_depth = 11 rec = 1.0 acc = 1.0\n",
            "ETA = 0.30000000000000004 n_estimators = 10 max_depth = 12 rec = 1.0 acc = 1.0\n",
            "ETA = 0.30000000000000004 n_estimators = 10 max_depth = 13 rec = 1.0 acc = 1.0\n",
            "ETA = 0.30000000000000004 n_estimators = 10 max_depth = 14 rec = 1.0 acc = 1.0\n",
            "ETA = 0.30000000000000004 n_estimators = 10 max_depth = 15 rec = 1.0 acc = 1.0\n",
            "ETA = 0.30000000000000004 n_estimators = 10 max_depth = 16 rec = 1.0 acc = 1.0\n",
            "ETA = 0.30000000000000004 n_estimators = 10 max_depth = 17 rec = 1.0 acc = 1.0\n",
            "ETA = 0.30000000000000004 n_estimators = 10 max_depth = 18 rec = 1.0 acc = 1.0\n",
            "ETA = 0.30000000000000004 n_estimators = 10 max_depth = 19 rec = 1.0 acc = 1.0\n",
            "ETA = 0.30000000000000004 n_estimators = 50 max_depth = 1 rec = 0.9897959183673469 acc = 0.9950779327317474\n",
            "ETA = 0.30000000000000004 n_estimators = 50 max_depth = 2 rec = 1.0 acc = 1.0\n",
            "ETA = 0.30000000000000004 n_estimators = 50 max_depth = 3 rec = 1.0 acc = 1.0\n",
            "ETA = 0.30000000000000004 n_estimators = 50 max_depth = 4 rec = 1.0 acc = 1.0\n",
            "ETA = 0.30000000000000004 n_estimators = 50 max_depth = 5 rec = 1.0 acc = 1.0\n",
            "ETA = 0.30000000000000004 n_estimators = 50 max_depth = 6 rec = 1.0 acc = 1.0\n",
            "ETA = 0.30000000000000004 n_estimators = 50 max_depth = 7 rec = 1.0 acc = 1.0\n",
            "ETA = 0.30000000000000004 n_estimators = 50 max_depth = 8 rec = 1.0 acc = 1.0\n",
            "ETA = 0.30000000000000004 n_estimators = 50 max_depth = 9 rec = 1.0 acc = 1.0\n",
            "ETA = 0.30000000000000004 n_estimators = 50 max_depth = 10 rec = 1.0 acc = 1.0\n",
            "ETA = 0.30000000000000004 n_estimators = 50 max_depth = 11 rec = 1.0 acc = 1.0\n",
            "ETA = 0.30000000000000004 n_estimators = 50 max_depth = 12 rec = 1.0 acc = 1.0\n",
            "ETA = 0.30000000000000004 n_estimators = 50 max_depth = 13 rec = 1.0 acc = 1.0\n",
            "ETA = 0.30000000000000004 n_estimators = 50 max_depth = 14 rec = 1.0 acc = 1.0\n",
            "ETA = 0.30000000000000004 n_estimators = 50 max_depth = 15 rec = 1.0 acc = 1.0\n",
            "ETA = 0.30000000000000004 n_estimators = 50 max_depth = 16 rec = 1.0 acc = 1.0\n",
            "ETA = 0.30000000000000004 n_estimators = 50 max_depth = 17 rec = 1.0 acc = 1.0\n",
            "ETA = 0.30000000000000004 n_estimators = 50 max_depth = 18 rec = 1.0 acc = 1.0\n",
            "ETA = 0.30000000000000004 n_estimators = 50 max_depth = 19 rec = 1.0 acc = 1.0\n",
            "ETA = 0.30000000000000004 n_estimators = 100 max_depth = 1 rec = 0.9965986394557823 acc = 0.9983593109105825\n",
            "ETA = 0.30000000000000004 n_estimators = 100 max_depth = 2 rec = 1.0 acc = 1.0\n",
            "ETA = 0.30000000000000004 n_estimators = 100 max_depth = 3 rec = 1.0 acc = 1.0\n",
            "ETA = 0.30000000000000004 n_estimators = 100 max_depth = 4 rec = 1.0 acc = 1.0\n",
            "ETA = 0.30000000000000004 n_estimators = 100 max_depth = 5 rec = 1.0 acc = 1.0\n",
            "ETA = 0.30000000000000004 n_estimators = 100 max_depth = 6 rec = 1.0 acc = 1.0\n",
            "ETA = 0.30000000000000004 n_estimators = 100 max_depth = 7 rec = 1.0 acc = 1.0\n",
            "ETA = 0.30000000000000004 n_estimators = 100 max_depth = 8 rec = 1.0 acc = 1.0\n",
            "ETA = 0.30000000000000004 n_estimators = 100 max_depth = 9 rec = 1.0 acc = 1.0\n",
            "ETA = 0.30000000000000004 n_estimators = 100 max_depth = 10 rec = 1.0 acc = 1.0\n",
            "ETA = 0.30000000000000004 n_estimators = 100 max_depth = 11 rec = 1.0 acc = 1.0\n",
            "ETA = 0.30000000000000004 n_estimators = 100 max_depth = 12 rec = 1.0 acc = 1.0\n",
            "ETA = 0.30000000000000004 n_estimators = 100 max_depth = 13 rec = 1.0 acc = 1.0\n",
            "ETA = 0.30000000000000004 n_estimators = 100 max_depth = 14 rec = 1.0 acc = 1.0\n",
            "ETA = 0.30000000000000004 n_estimators = 100 max_depth = 15 rec = 1.0 acc = 1.0\n",
            "ETA = 0.30000000000000004 n_estimators = 100 max_depth = 16 rec = 1.0 acc = 1.0\n",
            "ETA = 0.30000000000000004 n_estimators = 100 max_depth = 17 rec = 1.0 acc = 1.0\n",
            "ETA = 0.30000000000000004 n_estimators = 100 max_depth = 18 rec = 1.0 acc = 1.0\n",
            "ETA = 0.30000000000000004 n_estimators = 100 max_depth = 19 rec = 1.0 acc = 1.0\n",
            "ETA = 0.30000000000000004 n_estimators = 200 max_depth = 1 rec = 0.9965986394557823 acc = 0.9983593109105825\n",
            "ETA = 0.30000000000000004 n_estimators = 200 max_depth = 2 rec = 1.0 acc = 1.0\n",
            "ETA = 0.30000000000000004 n_estimators = 200 max_depth = 3 rec = 1.0 acc = 1.0\n",
            "ETA = 0.30000000000000004 n_estimators = 200 max_depth = 4 rec = 1.0 acc = 1.0\n",
            "ETA = 0.30000000000000004 n_estimators = 200 max_depth = 5 rec = 1.0 acc = 1.0\n",
            "ETA = 0.30000000000000004 n_estimators = 200 max_depth = 6 rec = 1.0 acc = 1.0\n",
            "ETA = 0.30000000000000004 n_estimators = 200 max_depth = 7 rec = 1.0 acc = 1.0\n",
            "ETA = 0.30000000000000004 n_estimators = 200 max_depth = 8 rec = 1.0 acc = 1.0\n",
            "ETA = 0.30000000000000004 n_estimators = 200 max_depth = 9 rec = 1.0 acc = 1.0\n",
            "ETA = 0.30000000000000004 n_estimators = 200 max_depth = 10 rec = 1.0 acc = 1.0\n",
            "ETA = 0.30000000000000004 n_estimators = 200 max_depth = 11 rec = 1.0 acc = 1.0\n",
            "ETA = 0.30000000000000004 n_estimators = 200 max_depth = 12 rec = 1.0 acc = 1.0\n",
            "ETA = 0.30000000000000004 n_estimators = 200 max_depth = 13 rec = 1.0 acc = 1.0\n",
            "ETA = 0.30000000000000004 n_estimators = 200 max_depth = 14 rec = 1.0 acc = 1.0\n",
            "ETA = 0.30000000000000004 n_estimators = 200 max_depth = 15 rec = 1.0 acc = 1.0\n",
            "ETA = 0.30000000000000004 n_estimators = 200 max_depth = 16 rec = 1.0 acc = 1.0\n",
            "ETA = 0.30000000000000004 n_estimators = 200 max_depth = 17 rec = 1.0 acc = 1.0\n",
            "ETA = 0.30000000000000004 n_estimators = 200 max_depth = 18 rec = 1.0 acc = 1.0\n",
            "ETA = 0.30000000000000004 n_estimators = 200 max_depth = 19 rec = 1.0 acc = 1.0\n",
            "ETA = 0.30000000000000004 n_estimators = 500 max_depth = 1 rec = 1.0 acc = 1.0\n",
            "ETA = 0.30000000000000004 n_estimators = 500 max_depth = 2 rec = 1.0 acc = 1.0\n",
            "ETA = 0.30000000000000004 n_estimators = 500 max_depth = 3 rec = 1.0 acc = 1.0\n",
            "ETA = 0.30000000000000004 n_estimators = 500 max_depth = 4 rec = 1.0 acc = 1.0\n",
            "ETA = 0.30000000000000004 n_estimators = 500 max_depth = 5 rec = 1.0 acc = 1.0\n",
            "ETA = 0.30000000000000004 n_estimators = 500 max_depth = 6 rec = 1.0 acc = 1.0\n",
            "ETA = 0.30000000000000004 n_estimators = 500 max_depth = 7 rec = 1.0 acc = 1.0\n",
            "ETA = 0.30000000000000004 n_estimators = 500 max_depth = 8 rec = 1.0 acc = 1.0\n",
            "ETA = 0.30000000000000004 n_estimators = 500 max_depth = 9 rec = 1.0 acc = 1.0\n",
            "ETA = 0.30000000000000004 n_estimators = 500 max_depth = 10 rec = 1.0 acc = 1.0\n",
            "ETA = 0.30000000000000004 n_estimators = 500 max_depth = 11 rec = 1.0 acc = 1.0\n",
            "ETA = 0.30000000000000004 n_estimators = 500 max_depth = 12 rec = 1.0 acc = 1.0\n",
            "ETA = 0.30000000000000004 n_estimators = 500 max_depth = 13 rec = 1.0 acc = 1.0\n",
            "ETA = 0.30000000000000004 n_estimators = 500 max_depth = 14 rec = 1.0 acc = 1.0\n",
            "ETA = 0.30000000000000004 n_estimators = 500 max_depth = 15 rec = 1.0 acc = 1.0\n",
            "ETA = 0.30000000000000004 n_estimators = 500 max_depth = 16 rec = 1.0 acc = 1.0\n",
            "ETA = 0.30000000000000004 n_estimators = 500 max_depth = 17 rec = 1.0 acc = 1.0\n",
            "ETA = 0.30000000000000004 n_estimators = 500 max_depth = 18 rec = 1.0 acc = 1.0\n",
            "ETA = 0.30000000000000004 n_estimators = 500 max_depth = 19 rec = 1.0 acc = 1.0\n",
            "ETA = 0.4 n_estimators = 10 max_depth = 1 rec = 0.9880952380952381 acc = 0.9876948318293683\n",
            "ETA = 0.4 n_estimators = 10 max_depth = 2 rec = 0.9965986394557823 acc = 0.9983593109105825\n",
            "ETA = 0.4 n_estimators = 10 max_depth = 3 rec = 0.9965986394557823 acc = 0.9983593109105825\n",
            "ETA = 0.4 n_estimators = 10 max_depth = 4 rec = 1.0 acc = 1.0\n",
            "ETA = 0.4 n_estimators = 10 max_depth = 5 rec = 1.0 acc = 1.0\n",
            "ETA = 0.4 n_estimators = 10 max_depth = 6 rec = 1.0 acc = 1.0\n",
            "ETA = 0.4 n_estimators = 10 max_depth = 7 rec = 1.0 acc = 1.0\n",
            "ETA = 0.4 n_estimators = 10 max_depth = 8 rec = 1.0 acc = 1.0\n",
            "ETA = 0.4 n_estimators = 10 max_depth = 9 rec = 1.0 acc = 1.0\n",
            "ETA = 0.4 n_estimators = 10 max_depth = 10 rec = 1.0 acc = 1.0\n",
            "ETA = 0.4 n_estimators = 10 max_depth = 11 rec = 1.0 acc = 1.0\n",
            "ETA = 0.4 n_estimators = 10 max_depth = 12 rec = 1.0 acc = 1.0\n",
            "ETA = 0.4 n_estimators = 10 max_depth = 13 rec = 1.0 acc = 1.0\n",
            "ETA = 0.4 n_estimators = 10 max_depth = 14 rec = 1.0 acc = 1.0\n",
            "ETA = 0.4 n_estimators = 10 max_depth = 15 rec = 1.0 acc = 1.0\n",
            "ETA = 0.4 n_estimators = 10 max_depth = 16 rec = 1.0 acc = 1.0\n",
            "ETA = 0.4 n_estimators = 10 max_depth = 17 rec = 1.0 acc = 1.0\n",
            "ETA = 0.4 n_estimators = 10 max_depth = 18 rec = 1.0 acc = 1.0\n",
            "ETA = 0.4 n_estimators = 10 max_depth = 19 rec = 1.0 acc = 1.0\n",
            "ETA = 0.4 n_estimators = 50 max_depth = 1 rec = 0.9965986394557823 acc = 0.9983593109105825\n",
            "ETA = 0.4 n_estimators = 50 max_depth = 2 rec = 1.0 acc = 1.0\n",
            "ETA = 0.4 n_estimators = 50 max_depth = 3 rec = 1.0 acc = 1.0\n",
            "ETA = 0.4 n_estimators = 50 max_depth = 4 rec = 1.0 acc = 1.0\n",
            "ETA = 0.4 n_estimators = 50 max_depth = 5 rec = 1.0 acc = 1.0\n",
            "ETA = 0.4 n_estimators = 50 max_depth = 6 rec = 1.0 acc = 1.0\n",
            "ETA = 0.4 n_estimators = 50 max_depth = 7 rec = 1.0 acc = 1.0\n",
            "ETA = 0.4 n_estimators = 50 max_depth = 8 rec = 1.0 acc = 1.0\n",
            "ETA = 0.4 n_estimators = 50 max_depth = 9 rec = 1.0 acc = 1.0\n",
            "ETA = 0.4 n_estimators = 50 max_depth = 10 rec = 1.0 acc = 1.0\n",
            "ETA = 0.4 n_estimators = 50 max_depth = 11 rec = 1.0 acc = 1.0\n",
            "ETA = 0.4 n_estimators = 50 max_depth = 12 rec = 1.0 acc = 1.0\n",
            "ETA = 0.4 n_estimators = 50 max_depth = 13 rec = 1.0 acc = 1.0\n",
            "ETA = 0.4 n_estimators = 50 max_depth = 14 rec = 1.0 acc = 1.0\n",
            "ETA = 0.4 n_estimators = 50 max_depth = 15 rec = 1.0 acc = 1.0\n",
            "ETA = 0.4 n_estimators = 50 max_depth = 16 rec = 1.0 acc = 1.0\n",
            "ETA = 0.4 n_estimators = 50 max_depth = 17 rec = 1.0 acc = 1.0\n",
            "ETA = 0.4 n_estimators = 50 max_depth = 18 rec = 1.0 acc = 1.0\n",
            "ETA = 0.4 n_estimators = 50 max_depth = 19 rec = 1.0 acc = 1.0\n",
            "ETA = 0.4 n_estimators = 100 max_depth = 1 rec = 0.9965986394557823 acc = 0.9983593109105825\n",
            "ETA = 0.4 n_estimators = 100 max_depth = 2 rec = 1.0 acc = 1.0\n",
            "ETA = 0.4 n_estimators = 100 max_depth = 3 rec = 1.0 acc = 1.0\n",
            "ETA = 0.4 n_estimators = 100 max_depth = 4 rec = 1.0 acc = 1.0\n",
            "ETA = 0.4 n_estimators = 100 max_depth = 5 rec = 1.0 acc = 1.0\n",
            "ETA = 0.4 n_estimators = 100 max_depth = 6 rec = 1.0 acc = 1.0\n",
            "ETA = 0.4 n_estimators = 100 max_depth = 7 rec = 1.0 acc = 1.0\n",
            "ETA = 0.4 n_estimators = 100 max_depth = 8 rec = 1.0 acc = 1.0\n",
            "ETA = 0.4 n_estimators = 100 max_depth = 9 rec = 1.0 acc = 1.0\n",
            "ETA = 0.4 n_estimators = 100 max_depth = 10 rec = 1.0 acc = 1.0\n",
            "ETA = 0.4 n_estimators = 100 max_depth = 11 rec = 1.0 acc = 1.0\n",
            "ETA = 0.4 n_estimators = 100 max_depth = 12 rec = 1.0 acc = 1.0\n",
            "ETA = 0.4 n_estimators = 100 max_depth = 13 rec = 1.0 acc = 1.0\n",
            "ETA = 0.4 n_estimators = 100 max_depth = 14 rec = 1.0 acc = 1.0\n",
            "ETA = 0.4 n_estimators = 100 max_depth = 15 rec = 1.0 acc = 1.0\n",
            "ETA = 0.4 n_estimators = 100 max_depth = 16 rec = 1.0 acc = 1.0\n",
            "ETA = 0.4 n_estimators = 100 max_depth = 17 rec = 1.0 acc = 1.0\n",
            "ETA = 0.4 n_estimators = 100 max_depth = 18 rec = 1.0 acc = 1.0\n",
            "ETA = 0.4 n_estimators = 100 max_depth = 19 rec = 1.0 acc = 1.0\n",
            "ETA = 0.4 n_estimators = 200 max_depth = 1 rec = 1.0 acc = 1.0\n",
            "ETA = 0.4 n_estimators = 200 max_depth = 2 rec = 1.0 acc = 1.0\n",
            "ETA = 0.4 n_estimators = 200 max_depth = 3 rec = 1.0 acc = 1.0\n",
            "ETA = 0.4 n_estimators = 200 max_depth = 4 rec = 1.0 acc = 1.0\n",
            "ETA = 0.4 n_estimators = 200 max_depth = 5 rec = 1.0 acc = 1.0\n",
            "ETA = 0.4 n_estimators = 200 max_depth = 6 rec = 1.0 acc = 1.0\n",
            "ETA = 0.4 n_estimators = 200 max_depth = 7 rec = 1.0 acc = 1.0\n",
            "ETA = 0.4 n_estimators = 200 max_depth = 8 rec = 1.0 acc = 1.0\n",
            "ETA = 0.4 n_estimators = 200 max_depth = 9 rec = 1.0 acc = 1.0\n",
            "ETA = 0.4 n_estimators = 200 max_depth = 10 rec = 1.0 acc = 1.0\n",
            "ETA = 0.4 n_estimators = 200 max_depth = 11 rec = 1.0 acc = 1.0\n",
            "ETA = 0.4 n_estimators = 200 max_depth = 12 rec = 1.0 acc = 1.0\n",
            "ETA = 0.4 n_estimators = 200 max_depth = 13 rec = 1.0 acc = 1.0\n",
            "ETA = 0.4 n_estimators = 200 max_depth = 14 rec = 1.0 acc = 1.0\n",
            "ETA = 0.4 n_estimators = 200 max_depth = 15 rec = 1.0 acc = 1.0\n",
            "ETA = 0.4 n_estimators = 200 max_depth = 16 rec = 1.0 acc = 1.0\n",
            "ETA = 0.4 n_estimators = 200 max_depth = 17 rec = 1.0 acc = 1.0\n",
            "ETA = 0.4 n_estimators = 200 max_depth = 18 rec = 1.0 acc = 1.0\n",
            "ETA = 0.4 n_estimators = 200 max_depth = 19 rec = 1.0 acc = 1.0\n",
            "ETA = 0.4 n_estimators = 500 max_depth = 1 rec = 1.0 acc = 1.0\n",
            "ETA = 0.4 n_estimators = 500 max_depth = 2 rec = 1.0 acc = 1.0\n",
            "ETA = 0.4 n_estimators = 500 max_depth = 3 rec = 1.0 acc = 1.0\n",
            "ETA = 0.4 n_estimators = 500 max_depth = 4 rec = 1.0 acc = 1.0\n",
            "ETA = 0.4 n_estimators = 500 max_depth = 5 rec = 1.0 acc = 1.0\n",
            "ETA = 0.4 n_estimators = 500 max_depth = 6 rec = 1.0 acc = 1.0\n",
            "ETA = 0.4 n_estimators = 500 max_depth = 7 rec = 1.0 acc = 1.0\n",
            "ETA = 0.4 n_estimators = 500 max_depth = 8 rec = 1.0 acc = 1.0\n",
            "ETA = 0.4 n_estimators = 500 max_depth = 9 rec = 1.0 acc = 1.0\n",
            "ETA = 0.4 n_estimators = 500 max_depth = 10 rec = 1.0 acc = 1.0\n",
            "ETA = 0.4 n_estimators = 500 max_depth = 11 rec = 1.0 acc = 1.0\n",
            "ETA = 0.4 n_estimators = 500 max_depth = 12 rec = 1.0 acc = 1.0\n",
            "ETA = 0.4 n_estimators = 500 max_depth = 13 rec = 1.0 acc = 1.0\n",
            "ETA = 0.4 n_estimators = 500 max_depth = 14 rec = 1.0 acc = 1.0\n",
            "ETA = 0.4 n_estimators = 500 max_depth = 15 rec = 1.0 acc = 1.0\n",
            "ETA = 0.4 n_estimators = 500 max_depth = 16 rec = 1.0 acc = 1.0\n",
            "ETA = 0.4 n_estimators = 500 max_depth = 17 rec = 1.0 acc = 1.0\n",
            "ETA = 0.4 n_estimators = 500 max_depth = 18 rec = 1.0 acc = 1.0\n",
            "ETA = 0.4 n_estimators = 500 max_depth = 19 rec = 1.0 acc = 1.0\n",
            "ETA = 0.5 n_estimators = 10 max_depth = 1 rec = 0.9965986394557823 acc = 0.9917965545529123\n",
            "ETA = 0.5 n_estimators = 10 max_depth = 2 rec = 0.9965986394557823 acc = 0.9983593109105825\n",
            "ETA = 0.5 n_estimators = 10 max_depth = 3 rec = 1.0 acc = 1.0\n",
            "ETA = 0.5 n_estimators = 10 max_depth = 4 rec = 1.0 acc = 1.0\n",
            "ETA = 0.5 n_estimators = 10 max_depth = 5 rec = 1.0 acc = 1.0\n",
            "ETA = 0.5 n_estimators = 10 max_depth = 6 rec = 1.0 acc = 1.0\n",
            "ETA = 0.5 n_estimators = 10 max_depth = 7 rec = 1.0 acc = 1.0\n",
            "ETA = 0.5 n_estimators = 10 max_depth = 8 rec = 1.0 acc = 1.0\n",
            "ETA = 0.5 n_estimators = 10 max_depth = 9 rec = 1.0 acc = 1.0\n",
            "ETA = 0.5 n_estimators = 10 max_depth = 10 rec = 1.0 acc = 1.0\n",
            "ETA = 0.5 n_estimators = 10 max_depth = 11 rec = 1.0 acc = 1.0\n",
            "ETA = 0.5 n_estimators = 10 max_depth = 12 rec = 1.0 acc = 1.0\n",
            "ETA = 0.5 n_estimators = 10 max_depth = 13 rec = 1.0 acc = 1.0\n",
            "ETA = 0.5 n_estimators = 10 max_depth = 14 rec = 1.0 acc = 1.0\n",
            "ETA = 0.5 n_estimators = 10 max_depth = 15 rec = 1.0 acc = 1.0\n",
            "ETA = 0.5 n_estimators = 10 max_depth = 16 rec = 1.0 acc = 1.0\n",
            "ETA = 0.5 n_estimators = 10 max_depth = 17 rec = 1.0 acc = 1.0\n",
            "ETA = 0.5 n_estimators = 10 max_depth = 18 rec = 1.0 acc = 1.0\n",
            "ETA = 0.5 n_estimators = 10 max_depth = 19 rec = 1.0 acc = 1.0\n",
            "ETA = 0.5 n_estimators = 50 max_depth = 1 rec = 0.9965986394557823 acc = 0.9983593109105825\n",
            "ETA = 0.5 n_estimators = 50 max_depth = 2 rec = 1.0 acc = 1.0\n",
            "ETA = 0.5 n_estimators = 50 max_depth = 3 rec = 1.0 acc = 1.0\n",
            "ETA = 0.5 n_estimators = 50 max_depth = 4 rec = 1.0 acc = 1.0\n",
            "ETA = 0.5 n_estimators = 50 max_depth = 5 rec = 1.0 acc = 1.0\n",
            "ETA = 0.5 n_estimators = 50 max_depth = 6 rec = 1.0 acc = 1.0\n",
            "ETA = 0.5 n_estimators = 50 max_depth = 7 rec = 1.0 acc = 1.0\n",
            "ETA = 0.5 n_estimators = 50 max_depth = 8 rec = 1.0 acc = 1.0\n",
            "ETA = 0.5 n_estimators = 50 max_depth = 9 rec = 1.0 acc = 1.0\n",
            "ETA = 0.5 n_estimators = 50 max_depth = 10 rec = 1.0 acc = 1.0\n",
            "ETA = 0.5 n_estimators = 50 max_depth = 11 rec = 1.0 acc = 1.0\n",
            "ETA = 0.5 n_estimators = 50 max_depth = 12 rec = 1.0 acc = 1.0\n",
            "ETA = 0.5 n_estimators = 50 max_depth = 13 rec = 1.0 acc = 1.0\n",
            "ETA = 0.5 n_estimators = 50 max_depth = 14 rec = 1.0 acc = 1.0\n",
            "ETA = 0.5 n_estimators = 50 max_depth = 15 rec = 1.0 acc = 1.0\n",
            "ETA = 0.5 n_estimators = 50 max_depth = 16 rec = 1.0 acc = 1.0\n",
            "ETA = 0.5 n_estimators = 50 max_depth = 17 rec = 1.0 acc = 1.0\n",
            "ETA = 0.5 n_estimators = 50 max_depth = 18 rec = 1.0 acc = 1.0\n",
            "ETA = 0.5 n_estimators = 50 max_depth = 19 rec = 1.0 acc = 1.0\n",
            "ETA = 0.5 n_estimators = 100 max_depth = 1 rec = 0.9965986394557823 acc = 0.9983593109105825\n",
            "ETA = 0.5 n_estimators = 100 max_depth = 2 rec = 1.0 acc = 1.0\n",
            "ETA = 0.5 n_estimators = 100 max_depth = 3 rec = 1.0 acc = 1.0\n",
            "ETA = 0.5 n_estimators = 100 max_depth = 4 rec = 1.0 acc = 1.0\n",
            "ETA = 0.5 n_estimators = 100 max_depth = 5 rec = 1.0 acc = 1.0\n",
            "ETA = 0.5 n_estimators = 100 max_depth = 6 rec = 1.0 acc = 1.0\n",
            "ETA = 0.5 n_estimators = 100 max_depth = 7 rec = 1.0 acc = 1.0\n",
            "ETA = 0.5 n_estimators = 100 max_depth = 8 rec = 1.0 acc = 1.0\n",
            "ETA = 0.5 n_estimators = 100 max_depth = 9 rec = 1.0 acc = 1.0\n",
            "ETA = 0.5 n_estimators = 100 max_depth = 10 rec = 1.0 acc = 1.0\n",
            "ETA = 0.5 n_estimators = 100 max_depth = 11 rec = 1.0 acc = 1.0\n",
            "ETA = 0.5 n_estimators = 100 max_depth = 12 rec = 1.0 acc = 1.0\n",
            "ETA = 0.5 n_estimators = 100 max_depth = 13 rec = 1.0 acc = 1.0\n",
            "ETA = 0.5 n_estimators = 100 max_depth = 14 rec = 1.0 acc = 1.0\n",
            "ETA = 0.5 n_estimators = 100 max_depth = 15 rec = 1.0 acc = 1.0\n",
            "ETA = 0.5 n_estimators = 100 max_depth = 16 rec = 1.0 acc = 1.0\n",
            "ETA = 0.5 n_estimators = 100 max_depth = 17 rec = 1.0 acc = 1.0\n",
            "ETA = 0.5 n_estimators = 100 max_depth = 18 rec = 1.0 acc = 1.0\n",
            "ETA = 0.5 n_estimators = 100 max_depth = 19 rec = 1.0 acc = 1.0\n",
            "ETA = 0.5 n_estimators = 200 max_depth = 1 rec = 1.0 acc = 1.0\n",
            "ETA = 0.5 n_estimators = 200 max_depth = 2 rec = 1.0 acc = 1.0\n",
            "ETA = 0.5 n_estimators = 200 max_depth = 3 rec = 1.0 acc = 1.0\n",
            "ETA = 0.5 n_estimators = 200 max_depth = 4 rec = 1.0 acc = 1.0\n",
            "ETA = 0.5 n_estimators = 200 max_depth = 5 rec = 1.0 acc = 1.0\n",
            "ETA = 0.5 n_estimators = 200 max_depth = 6 rec = 1.0 acc = 1.0\n",
            "ETA = 0.5 n_estimators = 200 max_depth = 7 rec = 1.0 acc = 1.0\n",
            "ETA = 0.5 n_estimators = 200 max_depth = 8 rec = 1.0 acc = 1.0\n",
            "ETA = 0.5 n_estimators = 200 max_depth = 9 rec = 1.0 acc = 1.0\n",
            "ETA = 0.5 n_estimators = 200 max_depth = 10 rec = 1.0 acc = 1.0\n",
            "ETA = 0.5 n_estimators = 200 max_depth = 11 rec = 1.0 acc = 1.0\n",
            "ETA = 0.5 n_estimators = 200 max_depth = 12 rec = 1.0 acc = 1.0\n",
            "ETA = 0.5 n_estimators = 200 max_depth = 13 rec = 1.0 acc = 1.0\n",
            "ETA = 0.5 n_estimators = 200 max_depth = 14 rec = 1.0 acc = 1.0\n",
            "ETA = 0.5 n_estimators = 200 max_depth = 15 rec = 1.0 acc = 1.0\n",
            "ETA = 0.5 n_estimators = 200 max_depth = 16 rec = 1.0 acc = 1.0\n",
            "ETA = 0.5 n_estimators = 200 max_depth = 17 rec = 1.0 acc = 1.0\n",
            "ETA = 0.5 n_estimators = 200 max_depth = 18 rec = 1.0 acc = 1.0\n",
            "ETA = 0.5 n_estimators = 200 max_depth = 19 rec = 1.0 acc = 1.0\n",
            "ETA = 0.5 n_estimators = 500 max_depth = 1 rec = 1.0 acc = 1.0\n",
            "ETA = 0.5 n_estimators = 500 max_depth = 2 rec = 1.0 acc = 1.0\n",
            "ETA = 0.5 n_estimators = 500 max_depth = 3 rec = 1.0 acc = 1.0\n",
            "ETA = 0.5 n_estimators = 500 max_depth = 4 rec = 1.0 acc = 1.0\n",
            "ETA = 0.5 n_estimators = 500 max_depth = 5 rec = 1.0 acc = 1.0\n",
            "ETA = 0.5 n_estimators = 500 max_depth = 6 rec = 1.0 acc = 1.0\n",
            "ETA = 0.5 n_estimators = 500 max_depth = 7 rec = 1.0 acc = 1.0\n",
            "ETA = 0.5 n_estimators = 500 max_depth = 8 rec = 1.0 acc = 1.0\n",
            "ETA = 0.5 n_estimators = 500 max_depth = 9 rec = 1.0 acc = 1.0\n",
            "ETA = 0.5 n_estimators = 500 max_depth = 10 rec = 1.0 acc = 1.0\n",
            "ETA = 0.5 n_estimators = 500 max_depth = 11 rec = 1.0 acc = 1.0\n",
            "ETA = 0.5 n_estimators = 500 max_depth = 12 rec = 1.0 acc = 1.0\n",
            "ETA = 0.5 n_estimators = 500 max_depth = 13 rec = 1.0 acc = 1.0\n",
            "ETA = 0.5 n_estimators = 500 max_depth = 14 rec = 1.0 acc = 1.0\n",
            "ETA = 0.5 n_estimators = 500 max_depth = 15 rec = 1.0 acc = 1.0\n",
            "ETA = 0.5 n_estimators = 500 max_depth = 16 rec = 1.0 acc = 1.0\n",
            "ETA = 0.5 n_estimators = 500 max_depth = 17 rec = 1.0 acc = 1.0\n",
            "ETA = 0.5 n_estimators = 500 max_depth = 18 rec = 1.0 acc = 1.0\n",
            "ETA = 0.5 n_estimators = 500 max_depth = 19 rec = 1.0 acc = 1.0\n",
            "ETA = 0.6000000000000001 n_estimators = 10 max_depth = 1 rec = 0.9965986394557823 acc = 0.9942575881870386\n",
            "ETA = 0.6000000000000001 n_estimators = 10 max_depth = 2 rec = 0.9965986394557823 acc = 0.9983593109105825\n",
            "ETA = 0.6000000000000001 n_estimators = 10 max_depth = 3 rec = 1.0 acc = 1.0\n",
            "ETA = 0.6000000000000001 n_estimators = 10 max_depth = 4 rec = 1.0 acc = 1.0\n",
            "ETA = 0.6000000000000001 n_estimators = 10 max_depth = 5 rec = 1.0 acc = 1.0\n",
            "ETA = 0.6000000000000001 n_estimators = 10 max_depth = 6 rec = 1.0 acc = 1.0\n",
            "ETA = 0.6000000000000001 n_estimators = 10 max_depth = 7 rec = 1.0 acc = 1.0\n",
            "ETA = 0.6000000000000001 n_estimators = 10 max_depth = 8 rec = 1.0 acc = 1.0\n",
            "ETA = 0.6000000000000001 n_estimators = 10 max_depth = 9 rec = 1.0 acc = 1.0\n",
            "ETA = 0.6000000000000001 n_estimators = 10 max_depth = 10 rec = 1.0 acc = 1.0\n",
            "ETA = 0.6000000000000001 n_estimators = 10 max_depth = 11 rec = 1.0 acc = 1.0\n",
            "ETA = 0.6000000000000001 n_estimators = 10 max_depth = 12 rec = 1.0 acc = 1.0\n",
            "ETA = 0.6000000000000001 n_estimators = 10 max_depth = 13 rec = 1.0 acc = 1.0\n",
            "ETA = 0.6000000000000001 n_estimators = 10 max_depth = 14 rec = 1.0 acc = 1.0\n",
            "ETA = 0.6000000000000001 n_estimators = 10 max_depth = 15 rec = 1.0 acc = 1.0\n",
            "ETA = 0.6000000000000001 n_estimators = 10 max_depth = 16 rec = 1.0 acc = 1.0\n",
            "ETA = 0.6000000000000001 n_estimators = 10 max_depth = 17 rec = 1.0 acc = 1.0\n",
            "ETA = 0.6000000000000001 n_estimators = 10 max_depth = 18 rec = 1.0 acc = 1.0\n",
            "ETA = 0.6000000000000001 n_estimators = 10 max_depth = 19 rec = 1.0 acc = 1.0\n",
            "ETA = 0.6000000000000001 n_estimators = 50 max_depth = 1 rec = 0.9965986394557823 acc = 0.9983593109105825\n",
            "ETA = 0.6000000000000001 n_estimators = 50 max_depth = 2 rec = 1.0 acc = 1.0\n",
            "ETA = 0.6000000000000001 n_estimators = 50 max_depth = 3 rec = 1.0 acc = 1.0\n",
            "ETA = 0.6000000000000001 n_estimators = 50 max_depth = 4 rec = 1.0 acc = 1.0\n",
            "ETA = 0.6000000000000001 n_estimators = 50 max_depth = 5 rec = 1.0 acc = 1.0\n",
            "ETA = 0.6000000000000001 n_estimators = 50 max_depth = 6 rec = 1.0 acc = 1.0\n",
            "ETA = 0.6000000000000001 n_estimators = 50 max_depth = 7 rec = 1.0 acc = 1.0\n",
            "ETA = 0.6000000000000001 n_estimators = 50 max_depth = 8 rec = 1.0 acc = 1.0\n",
            "ETA = 0.6000000000000001 n_estimators = 50 max_depth = 9 rec = 1.0 acc = 1.0\n",
            "ETA = 0.6000000000000001 n_estimators = 50 max_depth = 10 rec = 1.0 acc = 1.0\n",
            "ETA = 0.6000000000000001 n_estimators = 50 max_depth = 11 rec = 1.0 acc = 1.0\n",
            "ETA = 0.6000000000000001 n_estimators = 50 max_depth = 12 rec = 1.0 acc = 1.0\n",
            "ETA = 0.6000000000000001 n_estimators = 50 max_depth = 13 rec = 1.0 acc = 1.0\n",
            "ETA = 0.6000000000000001 n_estimators = 50 max_depth = 14 rec = 1.0 acc = 1.0\n",
            "ETA = 0.6000000000000001 n_estimators = 50 max_depth = 15 rec = 1.0 acc = 1.0\n",
            "ETA = 0.6000000000000001 n_estimators = 50 max_depth = 16 rec = 1.0 acc = 1.0\n",
            "ETA = 0.6000000000000001 n_estimators = 50 max_depth = 17 rec = 1.0 acc = 1.0\n",
            "ETA = 0.6000000000000001 n_estimators = 50 max_depth = 18 rec = 1.0 acc = 1.0\n",
            "ETA = 0.6000000000000001 n_estimators = 50 max_depth = 19 rec = 1.0 acc = 1.0\n",
            "ETA = 0.6000000000000001 n_estimators = 100 max_depth = 1 rec = 1.0 acc = 1.0\n",
            "ETA = 0.6000000000000001 n_estimators = 100 max_depth = 2 rec = 1.0 acc = 1.0\n",
            "ETA = 0.6000000000000001 n_estimators = 100 max_depth = 3 rec = 1.0 acc = 1.0\n",
            "ETA = 0.6000000000000001 n_estimators = 100 max_depth = 4 rec = 1.0 acc = 1.0\n",
            "ETA = 0.6000000000000001 n_estimators = 100 max_depth = 5 rec = 1.0 acc = 1.0\n",
            "ETA = 0.6000000000000001 n_estimators = 100 max_depth = 6 rec = 1.0 acc = 1.0\n",
            "ETA = 0.6000000000000001 n_estimators = 100 max_depth = 7 rec = 1.0 acc = 1.0\n",
            "ETA = 0.6000000000000001 n_estimators = 100 max_depth = 8 rec = 1.0 acc = 1.0\n",
            "ETA = 0.6000000000000001 n_estimators = 100 max_depth = 9 rec = 1.0 acc = 1.0\n",
            "ETA = 0.6000000000000001 n_estimators = 100 max_depth = 10 rec = 1.0 acc = 1.0\n",
            "ETA = 0.6000000000000001 n_estimators = 100 max_depth = 11 rec = 1.0 acc = 1.0\n",
            "ETA = 0.6000000000000001 n_estimators = 100 max_depth = 12 rec = 1.0 acc = 1.0\n",
            "ETA = 0.6000000000000001 n_estimators = 100 max_depth = 13 rec = 1.0 acc = 1.0\n",
            "ETA = 0.6000000000000001 n_estimators = 100 max_depth = 14 rec = 1.0 acc = 1.0\n",
            "ETA = 0.6000000000000001 n_estimators = 100 max_depth = 15 rec = 1.0 acc = 1.0\n",
            "ETA = 0.6000000000000001 n_estimators = 100 max_depth = 16 rec = 1.0 acc = 1.0\n",
            "ETA = 0.6000000000000001 n_estimators = 100 max_depth = 17 rec = 1.0 acc = 1.0\n",
            "ETA = 0.6000000000000001 n_estimators = 100 max_depth = 18 rec = 1.0 acc = 1.0\n",
            "ETA = 0.6000000000000001 n_estimators = 100 max_depth = 19 rec = 1.0 acc = 1.0\n",
            "ETA = 0.6000000000000001 n_estimators = 200 max_depth = 1 rec = 1.0 acc = 1.0\n",
            "ETA = 0.6000000000000001 n_estimators = 200 max_depth = 2 rec = 1.0 acc = 1.0\n",
            "ETA = 0.6000000000000001 n_estimators = 200 max_depth = 3 rec = 1.0 acc = 1.0\n",
            "ETA = 0.6000000000000001 n_estimators = 200 max_depth = 4 rec = 1.0 acc = 1.0\n",
            "ETA = 0.6000000000000001 n_estimators = 200 max_depth = 5 rec = 1.0 acc = 1.0\n",
            "ETA = 0.6000000000000001 n_estimators = 200 max_depth = 6 rec = 1.0 acc = 1.0\n",
            "ETA = 0.6000000000000001 n_estimators = 200 max_depth = 7 rec = 1.0 acc = 1.0\n",
            "ETA = 0.6000000000000001 n_estimators = 200 max_depth = 8 rec = 1.0 acc = 1.0\n",
            "ETA = 0.6000000000000001 n_estimators = 200 max_depth = 9 rec = 1.0 acc = 1.0\n",
            "ETA = 0.6000000000000001 n_estimators = 200 max_depth = 10 rec = 1.0 acc = 1.0\n",
            "ETA = 0.6000000000000001 n_estimators = 200 max_depth = 11 rec = 1.0 acc = 1.0\n",
            "ETA = 0.6000000000000001 n_estimators = 200 max_depth = 12 rec = 1.0 acc = 1.0\n",
            "ETA = 0.6000000000000001 n_estimators = 200 max_depth = 13 rec = 1.0 acc = 1.0\n",
            "ETA = 0.6000000000000001 n_estimators = 200 max_depth = 14 rec = 1.0 acc = 1.0\n",
            "ETA = 0.6000000000000001 n_estimators = 200 max_depth = 15 rec = 1.0 acc = 1.0\n",
            "ETA = 0.6000000000000001 n_estimators = 200 max_depth = 16 rec = 1.0 acc = 1.0\n",
            "ETA = 0.6000000000000001 n_estimators = 200 max_depth = 17 rec = 1.0 acc = 1.0\n",
            "ETA = 0.6000000000000001 n_estimators = 200 max_depth = 18 rec = 1.0 acc = 1.0\n",
            "ETA = 0.6000000000000001 n_estimators = 200 max_depth = 19 rec = 1.0 acc = 1.0\n",
            "ETA = 0.6000000000000001 n_estimators = 500 max_depth = 1 rec = 1.0 acc = 1.0\n",
            "ETA = 0.6000000000000001 n_estimators = 500 max_depth = 2 rec = 1.0 acc = 1.0\n",
            "ETA = 0.6000000000000001 n_estimators = 500 max_depth = 3 rec = 1.0 acc = 1.0\n",
            "ETA = 0.6000000000000001 n_estimators = 500 max_depth = 4 rec = 1.0 acc = 1.0\n",
            "ETA = 0.6000000000000001 n_estimators = 500 max_depth = 5 rec = 1.0 acc = 1.0\n",
            "ETA = 0.6000000000000001 n_estimators = 500 max_depth = 6 rec = 1.0 acc = 1.0\n",
            "ETA = 0.6000000000000001 n_estimators = 500 max_depth = 7 rec = 1.0 acc = 1.0\n",
            "ETA = 0.6000000000000001 n_estimators = 500 max_depth = 8 rec = 1.0 acc = 1.0\n",
            "ETA = 0.6000000000000001 n_estimators = 500 max_depth = 9 rec = 1.0 acc = 1.0\n",
            "ETA = 0.6000000000000001 n_estimators = 500 max_depth = 10 rec = 1.0 acc = 1.0\n",
            "ETA = 0.6000000000000001 n_estimators = 500 max_depth = 11 rec = 1.0 acc = 1.0\n",
            "ETA = 0.6000000000000001 n_estimators = 500 max_depth = 12 rec = 1.0 acc = 1.0\n",
            "ETA = 0.6000000000000001 n_estimators = 500 max_depth = 13 rec = 1.0 acc = 1.0\n",
            "ETA = 0.6000000000000001 n_estimators = 500 max_depth = 14 rec = 1.0 acc = 1.0\n",
            "ETA = 0.6000000000000001 n_estimators = 500 max_depth = 15 rec = 1.0 acc = 1.0\n",
            "ETA = 0.6000000000000001 n_estimators = 500 max_depth = 16 rec = 1.0 acc = 1.0\n",
            "ETA = 0.6000000000000001 n_estimators = 500 max_depth = 17 rec = 1.0 acc = 1.0\n",
            "ETA = 0.6000000000000001 n_estimators = 500 max_depth = 18 rec = 1.0 acc = 1.0\n",
            "ETA = 0.6000000000000001 n_estimators = 500 max_depth = 19 rec = 1.0 acc = 1.0\n",
            "ETA = 0.7000000000000001 n_estimators = 10 max_depth = 1 rec = 0.9880952380952381 acc = 0.9876948318293683\n",
            "ETA = 0.7000000000000001 n_estimators = 10 max_depth = 2 rec = 0.9965986394557823 acc = 0.9983593109105825\n",
            "ETA = 0.7000000000000001 n_estimators = 10 max_depth = 3 rec = 1.0 acc = 1.0\n",
            "ETA = 0.7000000000000001 n_estimators = 10 max_depth = 4 rec = 1.0 acc = 1.0\n",
            "ETA = 0.7000000000000001 n_estimators = 10 max_depth = 5 rec = 1.0 acc = 1.0\n",
            "ETA = 0.7000000000000001 n_estimators = 10 max_depth = 6 rec = 1.0 acc = 1.0\n",
            "ETA = 0.7000000000000001 n_estimators = 10 max_depth = 7 rec = 1.0 acc = 1.0\n",
            "ETA = 0.7000000000000001 n_estimators = 10 max_depth = 8 rec = 1.0 acc = 1.0\n",
            "ETA = 0.7000000000000001 n_estimators = 10 max_depth = 9 rec = 1.0 acc = 1.0\n",
            "ETA = 0.7000000000000001 n_estimators = 10 max_depth = 10 rec = 1.0 acc = 1.0\n",
            "ETA = 0.7000000000000001 n_estimators = 10 max_depth = 11 rec = 1.0 acc = 1.0\n",
            "ETA = 0.7000000000000001 n_estimators = 10 max_depth = 12 rec = 1.0 acc = 1.0\n",
            "ETA = 0.7000000000000001 n_estimators = 10 max_depth = 13 rec = 1.0 acc = 1.0\n",
            "ETA = 0.7000000000000001 n_estimators = 10 max_depth = 14 rec = 1.0 acc = 1.0\n",
            "ETA = 0.7000000000000001 n_estimators = 10 max_depth = 15 rec = 1.0 acc = 1.0\n",
            "ETA = 0.7000000000000001 n_estimators = 10 max_depth = 16 rec = 1.0 acc = 1.0\n",
            "ETA = 0.7000000000000001 n_estimators = 10 max_depth = 17 rec = 1.0 acc = 1.0\n",
            "ETA = 0.7000000000000001 n_estimators = 10 max_depth = 18 rec = 1.0 acc = 1.0\n",
            "ETA = 0.7000000000000001 n_estimators = 10 max_depth = 19 rec = 1.0 acc = 1.0\n",
            "ETA = 0.7000000000000001 n_estimators = 50 max_depth = 1 rec = 0.9965986394557823 acc = 0.9983593109105825\n",
            "ETA = 0.7000000000000001 n_estimators = 50 max_depth = 2 rec = 1.0 acc = 1.0\n",
            "ETA = 0.7000000000000001 n_estimators = 50 max_depth = 3 rec = 1.0 acc = 1.0\n",
            "ETA = 0.7000000000000001 n_estimators = 50 max_depth = 4 rec = 1.0 acc = 1.0\n",
            "ETA = 0.7000000000000001 n_estimators = 50 max_depth = 5 rec = 1.0 acc = 1.0\n",
            "ETA = 0.7000000000000001 n_estimators = 50 max_depth = 6 rec = 1.0 acc = 1.0\n",
            "ETA = 0.7000000000000001 n_estimators = 50 max_depth = 7 rec = 1.0 acc = 1.0\n",
            "ETA = 0.7000000000000001 n_estimators = 50 max_depth = 8 rec = 1.0 acc = 1.0\n",
            "ETA = 0.7000000000000001 n_estimators = 50 max_depth = 9 rec = 1.0 acc = 1.0\n",
            "ETA = 0.7000000000000001 n_estimators = 50 max_depth = 10 rec = 1.0 acc = 1.0\n",
            "ETA = 0.7000000000000001 n_estimators = 50 max_depth = 11 rec = 1.0 acc = 1.0\n",
            "ETA = 0.7000000000000001 n_estimators = 50 max_depth = 12 rec = 1.0 acc = 1.0\n",
            "ETA = 0.7000000000000001 n_estimators = 50 max_depth = 13 rec = 1.0 acc = 1.0\n",
            "ETA = 0.7000000000000001 n_estimators = 50 max_depth = 14 rec = 1.0 acc = 1.0\n",
            "ETA = 0.7000000000000001 n_estimators = 50 max_depth = 15 rec = 1.0 acc = 1.0\n",
            "ETA = 0.7000000000000001 n_estimators = 50 max_depth = 16 rec = 1.0 acc = 1.0\n",
            "ETA = 0.7000000000000001 n_estimators = 50 max_depth = 17 rec = 1.0 acc = 1.0\n",
            "ETA = 0.7000000000000001 n_estimators = 50 max_depth = 18 rec = 1.0 acc = 1.0\n",
            "ETA = 0.7000000000000001 n_estimators = 50 max_depth = 19 rec = 1.0 acc = 1.0\n",
            "ETA = 0.7000000000000001 n_estimators = 100 max_depth = 1 rec = 1.0 acc = 1.0\n",
            "ETA = 0.7000000000000001 n_estimators = 100 max_depth = 2 rec = 1.0 acc = 1.0\n",
            "ETA = 0.7000000000000001 n_estimators = 100 max_depth = 3 rec = 1.0 acc = 1.0\n",
            "ETA = 0.7000000000000001 n_estimators = 100 max_depth = 4 rec = 1.0 acc = 1.0\n",
            "ETA = 0.7000000000000001 n_estimators = 100 max_depth = 5 rec = 1.0 acc = 1.0\n",
            "ETA = 0.7000000000000001 n_estimators = 100 max_depth = 6 rec = 1.0 acc = 1.0\n",
            "ETA = 0.7000000000000001 n_estimators = 100 max_depth = 7 rec = 1.0 acc = 1.0\n",
            "ETA = 0.7000000000000001 n_estimators = 100 max_depth = 8 rec = 1.0 acc = 1.0\n",
            "ETA = 0.7000000000000001 n_estimators = 100 max_depth = 9 rec = 1.0 acc = 1.0\n",
            "ETA = 0.7000000000000001 n_estimators = 100 max_depth = 10 rec = 1.0 acc = 1.0\n",
            "ETA = 0.7000000000000001 n_estimators = 100 max_depth = 11 rec = 1.0 acc = 1.0\n",
            "ETA = 0.7000000000000001 n_estimators = 100 max_depth = 12 rec = 1.0 acc = 1.0\n",
            "ETA = 0.7000000000000001 n_estimators = 100 max_depth = 13 rec = 1.0 acc = 1.0\n",
            "ETA = 0.7000000000000001 n_estimators = 100 max_depth = 14 rec = 1.0 acc = 1.0\n",
            "ETA = 0.7000000000000001 n_estimators = 100 max_depth = 15 rec = 1.0 acc = 1.0\n",
            "ETA = 0.7000000000000001 n_estimators = 100 max_depth = 16 rec = 1.0 acc = 1.0\n",
            "ETA = 0.7000000000000001 n_estimators = 100 max_depth = 17 rec = 1.0 acc = 1.0\n",
            "ETA = 0.7000000000000001 n_estimators = 100 max_depth = 18 rec = 1.0 acc = 1.0\n",
            "ETA = 0.7000000000000001 n_estimators = 100 max_depth = 19 rec = 1.0 acc = 1.0\n",
            "ETA = 0.7000000000000001 n_estimators = 200 max_depth = 1 rec = 1.0 acc = 1.0\n",
            "ETA = 0.7000000000000001 n_estimators = 200 max_depth = 2 rec = 1.0 acc = 1.0\n",
            "ETA = 0.7000000000000001 n_estimators = 200 max_depth = 3 rec = 1.0 acc = 1.0\n",
            "ETA = 0.7000000000000001 n_estimators = 200 max_depth = 4 rec = 1.0 acc = 1.0\n",
            "ETA = 0.7000000000000001 n_estimators = 200 max_depth = 5 rec = 1.0 acc = 1.0\n",
            "ETA = 0.7000000000000001 n_estimators = 200 max_depth = 6 rec = 1.0 acc = 1.0\n",
            "ETA = 0.7000000000000001 n_estimators = 200 max_depth = 7 rec = 1.0 acc = 1.0\n",
            "ETA = 0.7000000000000001 n_estimators = 200 max_depth = 8 rec = 1.0 acc = 1.0\n",
            "ETA = 0.7000000000000001 n_estimators = 200 max_depth = 9 rec = 1.0 acc = 1.0\n",
            "ETA = 0.7000000000000001 n_estimators = 200 max_depth = 10 rec = 1.0 acc = 1.0\n",
            "ETA = 0.7000000000000001 n_estimators = 200 max_depth = 11 rec = 1.0 acc = 1.0\n",
            "ETA = 0.7000000000000001 n_estimators = 200 max_depth = 12 rec = 1.0 acc = 1.0\n",
            "ETA = 0.7000000000000001 n_estimators = 200 max_depth = 13 rec = 1.0 acc = 1.0\n",
            "ETA = 0.7000000000000001 n_estimators = 200 max_depth = 14 rec = 1.0 acc = 1.0\n",
            "ETA = 0.7000000000000001 n_estimators = 200 max_depth = 15 rec = 1.0 acc = 1.0\n",
            "ETA = 0.7000000000000001 n_estimators = 200 max_depth = 16 rec = 1.0 acc = 1.0\n",
            "ETA = 0.7000000000000001 n_estimators = 200 max_depth = 17 rec = 1.0 acc = 1.0\n",
            "ETA = 0.7000000000000001 n_estimators = 200 max_depth = 18 rec = 1.0 acc = 1.0\n",
            "ETA = 0.7000000000000001 n_estimators = 200 max_depth = 19 rec = 1.0 acc = 1.0\n",
            "ETA = 0.7000000000000001 n_estimators = 500 max_depth = 1 rec = 1.0 acc = 1.0\n",
            "ETA = 0.7000000000000001 n_estimators = 500 max_depth = 2 rec = 1.0 acc = 1.0\n",
            "ETA = 0.7000000000000001 n_estimators = 500 max_depth = 3 rec = 1.0 acc = 1.0\n",
            "ETA = 0.7000000000000001 n_estimators = 500 max_depth = 4 rec = 1.0 acc = 1.0\n",
            "ETA = 0.7000000000000001 n_estimators = 500 max_depth = 5 rec = 1.0 acc = 1.0\n",
            "ETA = 0.7000000000000001 n_estimators = 500 max_depth = 6 rec = 1.0 acc = 1.0\n",
            "ETA = 0.7000000000000001 n_estimators = 500 max_depth = 7 rec = 1.0 acc = 1.0\n",
            "ETA = 0.7000000000000001 n_estimators = 500 max_depth = 8 rec = 1.0 acc = 1.0\n",
            "ETA = 0.7000000000000001 n_estimators = 500 max_depth = 9 rec = 1.0 acc = 1.0\n",
            "ETA = 0.7000000000000001 n_estimators = 500 max_depth = 10 rec = 1.0 acc = 1.0\n",
            "ETA = 0.7000000000000001 n_estimators = 500 max_depth = 11 rec = 1.0 acc = 1.0\n",
            "ETA = 0.7000000000000001 n_estimators = 500 max_depth = 12 rec = 1.0 acc = 1.0\n",
            "ETA = 0.7000000000000001 n_estimators = 500 max_depth = 13 rec = 1.0 acc = 1.0\n",
            "ETA = 0.7000000000000001 n_estimators = 500 max_depth = 14 rec = 1.0 acc = 1.0\n",
            "ETA = 0.7000000000000001 n_estimators = 500 max_depth = 15 rec = 1.0 acc = 1.0\n",
            "ETA = 0.7000000000000001 n_estimators = 500 max_depth = 16 rec = 1.0 acc = 1.0\n",
            "ETA = 0.7000000000000001 n_estimators = 500 max_depth = 17 rec = 1.0 acc = 1.0\n",
            "ETA = 0.7000000000000001 n_estimators = 500 max_depth = 18 rec = 1.0 acc = 1.0\n",
            "ETA = 0.7000000000000001 n_estimators = 500 max_depth = 19 rec = 1.0 acc = 1.0\n",
            "ETA = 0.8 n_estimators = 10 max_depth = 1 rec = 0.9880952380952381 acc = 0.9876948318293683\n",
            "ETA = 0.8 n_estimators = 10 max_depth = 2 rec = 0.9965986394557823 acc = 0.9983593109105825\n",
            "ETA = 0.8 n_estimators = 10 max_depth = 3 rec = 1.0 acc = 1.0\n",
            "ETA = 0.8 n_estimators = 10 max_depth = 4 rec = 1.0 acc = 1.0\n",
            "ETA = 0.8 n_estimators = 10 max_depth = 5 rec = 1.0 acc = 1.0\n",
            "ETA = 0.8 n_estimators = 10 max_depth = 6 rec = 1.0 acc = 1.0\n",
            "ETA = 0.8 n_estimators = 10 max_depth = 7 rec = 1.0 acc = 1.0\n",
            "ETA = 0.8 n_estimators = 10 max_depth = 8 rec = 1.0 acc = 1.0\n",
            "ETA = 0.8 n_estimators = 10 max_depth = 9 rec = 1.0 acc = 1.0\n",
            "ETA = 0.8 n_estimators = 10 max_depth = 10 rec = 1.0 acc = 1.0\n",
            "ETA = 0.8 n_estimators = 10 max_depth = 11 rec = 1.0 acc = 1.0\n",
            "ETA = 0.8 n_estimators = 10 max_depth = 12 rec = 1.0 acc = 1.0\n",
            "ETA = 0.8 n_estimators = 10 max_depth = 13 rec = 1.0 acc = 1.0\n",
            "ETA = 0.8 n_estimators = 10 max_depth = 14 rec = 1.0 acc = 1.0\n",
            "ETA = 0.8 n_estimators = 10 max_depth = 15 rec = 1.0 acc = 1.0\n",
            "ETA = 0.8 n_estimators = 10 max_depth = 16 rec = 1.0 acc = 1.0\n",
            "ETA = 0.8 n_estimators = 10 max_depth = 17 rec = 1.0 acc = 1.0\n",
            "ETA = 0.8 n_estimators = 10 max_depth = 18 rec = 1.0 acc = 1.0\n",
            "ETA = 0.8 n_estimators = 10 max_depth = 19 rec = 1.0 acc = 1.0\n",
            "ETA = 0.8 n_estimators = 50 max_depth = 1 rec = 0.9965986394557823 acc = 0.9983593109105825\n",
            "ETA = 0.8 n_estimators = 50 max_depth = 2 rec = 1.0 acc = 1.0\n",
            "ETA = 0.8 n_estimators = 50 max_depth = 3 rec = 1.0 acc = 1.0\n",
            "ETA = 0.8 n_estimators = 50 max_depth = 4 rec = 1.0 acc = 1.0\n",
            "ETA = 0.8 n_estimators = 50 max_depth = 5 rec = 1.0 acc = 1.0\n",
            "ETA = 0.8 n_estimators = 50 max_depth = 6 rec = 1.0 acc = 1.0\n",
            "ETA = 0.8 n_estimators = 50 max_depth = 7 rec = 1.0 acc = 1.0\n",
            "ETA = 0.8 n_estimators = 50 max_depth = 8 rec = 1.0 acc = 1.0\n",
            "ETA = 0.8 n_estimators = 50 max_depth = 9 rec = 1.0 acc = 1.0\n",
            "ETA = 0.8 n_estimators = 50 max_depth = 10 rec = 1.0 acc = 1.0\n",
            "ETA = 0.8 n_estimators = 50 max_depth = 11 rec = 1.0 acc = 1.0\n",
            "ETA = 0.8 n_estimators = 50 max_depth = 12 rec = 1.0 acc = 1.0\n",
            "ETA = 0.8 n_estimators = 50 max_depth = 13 rec = 1.0 acc = 1.0\n",
            "ETA = 0.8 n_estimators = 50 max_depth = 14 rec = 1.0 acc = 1.0\n",
            "ETA = 0.8 n_estimators = 50 max_depth = 15 rec = 1.0 acc = 1.0\n",
            "ETA = 0.8 n_estimators = 50 max_depth = 16 rec = 1.0 acc = 1.0\n",
            "ETA = 0.8 n_estimators = 50 max_depth = 17 rec = 1.0 acc = 1.0\n",
            "ETA = 0.8 n_estimators = 50 max_depth = 18 rec = 1.0 acc = 1.0\n",
            "ETA = 0.8 n_estimators = 50 max_depth = 19 rec = 1.0 acc = 1.0\n",
            "ETA = 0.8 n_estimators = 100 max_depth = 1 rec = 1.0 acc = 1.0\n",
            "ETA = 0.8 n_estimators = 100 max_depth = 2 rec = 1.0 acc = 1.0\n",
            "ETA = 0.8 n_estimators = 100 max_depth = 3 rec = 1.0 acc = 1.0\n",
            "ETA = 0.8 n_estimators = 100 max_depth = 4 rec = 1.0 acc = 1.0\n",
            "ETA = 0.8 n_estimators = 100 max_depth = 5 rec = 1.0 acc = 1.0\n",
            "ETA = 0.8 n_estimators = 100 max_depth = 6 rec = 1.0 acc = 1.0\n",
            "ETA = 0.8 n_estimators = 100 max_depth = 7 rec = 1.0 acc = 1.0\n",
            "ETA = 0.8 n_estimators = 100 max_depth = 8 rec = 1.0 acc = 1.0\n",
            "ETA = 0.8 n_estimators = 100 max_depth = 9 rec = 1.0 acc = 1.0\n",
            "ETA = 0.8 n_estimators = 100 max_depth = 10 rec = 1.0 acc = 1.0\n",
            "ETA = 0.8 n_estimators = 100 max_depth = 11 rec = 1.0 acc = 1.0\n",
            "ETA = 0.8 n_estimators = 100 max_depth = 12 rec = 1.0 acc = 1.0\n",
            "ETA = 0.8 n_estimators = 100 max_depth = 13 rec = 1.0 acc = 1.0\n",
            "ETA = 0.8 n_estimators = 100 max_depth = 14 rec = 1.0 acc = 1.0\n",
            "ETA = 0.8 n_estimators = 100 max_depth = 15 rec = 1.0 acc = 1.0\n",
            "ETA = 0.8 n_estimators = 100 max_depth = 16 rec = 1.0 acc = 1.0\n",
            "ETA = 0.8 n_estimators = 100 max_depth = 17 rec = 1.0 acc = 1.0\n",
            "ETA = 0.8 n_estimators = 100 max_depth = 18 rec = 1.0 acc = 1.0\n",
            "ETA = 0.8 n_estimators = 100 max_depth = 19 rec = 1.0 acc = 1.0\n",
            "ETA = 0.8 n_estimators = 200 max_depth = 1 rec = 1.0 acc = 1.0\n",
            "ETA = 0.8 n_estimators = 200 max_depth = 2 rec = 1.0 acc = 1.0\n",
            "ETA = 0.8 n_estimators = 200 max_depth = 3 rec = 1.0 acc = 1.0\n",
            "ETA = 0.8 n_estimators = 200 max_depth = 4 rec = 1.0 acc = 1.0\n",
            "ETA = 0.8 n_estimators = 200 max_depth = 5 rec = 1.0 acc = 1.0\n",
            "ETA = 0.8 n_estimators = 200 max_depth = 6 rec = 1.0 acc = 1.0\n",
            "ETA = 0.8 n_estimators = 200 max_depth = 7 rec = 1.0 acc = 1.0\n",
            "ETA = 0.8 n_estimators = 200 max_depth = 8 rec = 1.0 acc = 1.0\n",
            "ETA = 0.8 n_estimators = 200 max_depth = 9 rec = 1.0 acc = 1.0\n",
            "ETA = 0.8 n_estimators = 200 max_depth = 10 rec = 1.0 acc = 1.0\n",
            "ETA = 0.8 n_estimators = 200 max_depth = 11 rec = 1.0 acc = 1.0\n",
            "ETA = 0.8 n_estimators = 200 max_depth = 12 rec = 1.0 acc = 1.0\n",
            "ETA = 0.8 n_estimators = 200 max_depth = 13 rec = 1.0 acc = 1.0\n",
            "ETA = 0.8 n_estimators = 200 max_depth = 14 rec = 1.0 acc = 1.0\n",
            "ETA = 0.8 n_estimators = 200 max_depth = 15 rec = 1.0 acc = 1.0\n",
            "ETA = 0.8 n_estimators = 200 max_depth = 16 rec = 1.0 acc = 1.0\n",
            "ETA = 0.8 n_estimators = 200 max_depth = 17 rec = 1.0 acc = 1.0\n",
            "ETA = 0.8 n_estimators = 200 max_depth = 18 rec = 1.0 acc = 1.0\n",
            "ETA = 0.8 n_estimators = 200 max_depth = 19 rec = 1.0 acc = 1.0\n",
            "ETA = 0.8 n_estimators = 500 max_depth = 1 rec = 1.0 acc = 1.0\n",
            "ETA = 0.8 n_estimators = 500 max_depth = 2 rec = 1.0 acc = 1.0\n",
            "ETA = 0.8 n_estimators = 500 max_depth = 3 rec = 1.0 acc = 1.0\n",
            "ETA = 0.8 n_estimators = 500 max_depth = 4 rec = 1.0 acc = 1.0\n",
            "ETA = 0.8 n_estimators = 500 max_depth = 5 rec = 1.0 acc = 1.0\n",
            "ETA = 0.8 n_estimators = 500 max_depth = 6 rec = 1.0 acc = 1.0\n",
            "ETA = 0.8 n_estimators = 500 max_depth = 7 rec = 1.0 acc = 1.0\n",
            "ETA = 0.8 n_estimators = 500 max_depth = 8 rec = 1.0 acc = 1.0\n",
            "ETA = 0.8 n_estimators = 500 max_depth = 9 rec = 1.0 acc = 1.0\n",
            "ETA = 0.8 n_estimators = 500 max_depth = 10 rec = 1.0 acc = 1.0\n",
            "ETA = 0.8 n_estimators = 500 max_depth = 11 rec = 1.0 acc = 1.0\n",
            "ETA = 0.8 n_estimators = 500 max_depth = 12 rec = 1.0 acc = 1.0\n",
            "ETA = 0.8 n_estimators = 500 max_depth = 13 rec = 1.0 acc = 1.0\n",
            "ETA = 0.8 n_estimators = 500 max_depth = 14 rec = 1.0 acc = 1.0\n",
            "ETA = 0.8 n_estimators = 500 max_depth = 15 rec = 1.0 acc = 1.0\n",
            "ETA = 0.8 n_estimators = 500 max_depth = 16 rec = 1.0 acc = 1.0\n",
            "ETA = 0.8 n_estimators = 500 max_depth = 17 rec = 1.0 acc = 1.0\n",
            "ETA = 0.8 n_estimators = 500 max_depth = 18 rec = 1.0 acc = 1.0\n",
            "ETA = 0.8 n_estimators = 500 max_depth = 19 rec = 1.0 acc = 1.0\n",
            "ETA = 0.9 n_estimators = 10 max_depth = 1 rec = 0.9880952380952381 acc = 0.9942575881870386\n",
            "ETA = 0.9 n_estimators = 10 max_depth = 2 rec = 1.0 acc = 1.0\n",
            "ETA = 0.9 n_estimators = 10 max_depth = 3 rec = 1.0 acc = 1.0\n",
            "ETA = 0.9 n_estimators = 10 max_depth = 4 rec = 1.0 acc = 1.0\n",
            "ETA = 0.9 n_estimators = 10 max_depth = 5 rec = 1.0 acc = 1.0\n",
            "ETA = 0.9 n_estimators = 10 max_depth = 6 rec = 1.0 acc = 1.0\n",
            "ETA = 0.9 n_estimators = 10 max_depth = 7 rec = 1.0 acc = 1.0\n",
            "ETA = 0.9 n_estimators = 10 max_depth = 8 rec = 1.0 acc = 1.0\n",
            "ETA = 0.9 n_estimators = 10 max_depth = 9 rec = 1.0 acc = 1.0\n",
            "ETA = 0.9 n_estimators = 10 max_depth = 10 rec = 1.0 acc = 1.0\n",
            "ETA = 0.9 n_estimators = 10 max_depth = 11 rec = 1.0 acc = 1.0\n",
            "ETA = 0.9 n_estimators = 10 max_depth = 12 rec = 1.0 acc = 1.0\n",
            "ETA = 0.9 n_estimators = 10 max_depth = 13 rec = 1.0 acc = 1.0\n",
            "ETA = 0.9 n_estimators = 10 max_depth = 14 rec = 1.0 acc = 1.0\n",
            "ETA = 0.9 n_estimators = 10 max_depth = 15 rec = 1.0 acc = 1.0\n",
            "ETA = 0.9 n_estimators = 10 max_depth = 16 rec = 1.0 acc = 1.0\n",
            "ETA = 0.9 n_estimators = 10 max_depth = 17 rec = 1.0 acc = 1.0\n",
            "ETA = 0.9 n_estimators = 10 max_depth = 18 rec = 1.0 acc = 1.0\n",
            "ETA = 0.9 n_estimators = 10 max_depth = 19 rec = 1.0 acc = 1.0\n",
            "ETA = 0.9 n_estimators = 50 max_depth = 1 rec = 1.0 acc = 1.0\n",
            "ETA = 0.9 n_estimators = 50 max_depth = 2 rec = 1.0 acc = 1.0\n",
            "ETA = 0.9 n_estimators = 50 max_depth = 3 rec = 1.0 acc = 1.0\n",
            "ETA = 0.9 n_estimators = 50 max_depth = 4 rec = 1.0 acc = 1.0\n",
            "ETA = 0.9 n_estimators = 50 max_depth = 5 rec = 1.0 acc = 1.0\n",
            "ETA = 0.9 n_estimators = 50 max_depth = 6 rec = 1.0 acc = 1.0\n",
            "ETA = 0.9 n_estimators = 50 max_depth = 7 rec = 1.0 acc = 1.0\n",
            "ETA = 0.9 n_estimators = 50 max_depth = 8 rec = 1.0 acc = 1.0\n",
            "ETA = 0.9 n_estimators = 50 max_depth = 9 rec = 1.0 acc = 1.0\n",
            "ETA = 0.9 n_estimators = 50 max_depth = 10 rec = 1.0 acc = 1.0\n",
            "ETA = 0.9 n_estimators = 50 max_depth = 11 rec = 1.0 acc = 1.0\n",
            "ETA = 0.9 n_estimators = 50 max_depth = 12 rec = 1.0 acc = 1.0\n",
            "ETA = 0.9 n_estimators = 50 max_depth = 13 rec = 1.0 acc = 1.0\n",
            "ETA = 0.9 n_estimators = 50 max_depth = 14 rec = 1.0 acc = 1.0\n",
            "ETA = 0.9 n_estimators = 50 max_depth = 15 rec = 1.0 acc = 1.0\n",
            "ETA = 0.9 n_estimators = 50 max_depth = 16 rec = 1.0 acc = 1.0\n",
            "ETA = 0.9 n_estimators = 50 max_depth = 17 rec = 1.0 acc = 1.0\n",
            "ETA = 0.9 n_estimators = 50 max_depth = 18 rec = 1.0 acc = 1.0\n",
            "ETA = 0.9 n_estimators = 50 max_depth = 19 rec = 1.0 acc = 1.0\n",
            "ETA = 0.9 n_estimators = 100 max_depth = 1 rec = 1.0 acc = 1.0\n",
            "ETA = 0.9 n_estimators = 100 max_depth = 2 rec = 1.0 acc = 1.0\n",
            "ETA = 0.9 n_estimators = 100 max_depth = 3 rec = 1.0 acc = 1.0\n",
            "ETA = 0.9 n_estimators = 100 max_depth = 4 rec = 1.0 acc = 1.0\n",
            "ETA = 0.9 n_estimators = 100 max_depth = 5 rec = 1.0 acc = 1.0\n",
            "ETA = 0.9 n_estimators = 100 max_depth = 6 rec = 1.0 acc = 1.0\n",
            "ETA = 0.9 n_estimators = 100 max_depth = 7 rec = 1.0 acc = 1.0\n",
            "ETA = 0.9 n_estimators = 100 max_depth = 8 rec = 1.0 acc = 1.0\n",
            "ETA = 0.9 n_estimators = 100 max_depth = 9 rec = 1.0 acc = 1.0\n",
            "ETA = 0.9 n_estimators = 100 max_depth = 10 rec = 1.0 acc = 1.0\n",
            "ETA = 0.9 n_estimators = 100 max_depth = 11 rec = 1.0 acc = 1.0\n",
            "ETA = 0.9 n_estimators = 100 max_depth = 12 rec = 1.0 acc = 1.0\n",
            "ETA = 0.9 n_estimators = 100 max_depth = 13 rec = 1.0 acc = 1.0\n",
            "ETA = 0.9 n_estimators = 100 max_depth = 14 rec = 1.0 acc = 1.0\n",
            "ETA = 0.9 n_estimators = 100 max_depth = 15 rec = 1.0 acc = 1.0\n",
            "ETA = 0.9 n_estimators = 100 max_depth = 16 rec = 1.0 acc = 1.0\n",
            "ETA = 0.9 n_estimators = 100 max_depth = 17 rec = 1.0 acc = 1.0\n",
            "ETA = 0.9 n_estimators = 100 max_depth = 18 rec = 1.0 acc = 1.0\n",
            "ETA = 0.9 n_estimators = 100 max_depth = 19 rec = 1.0 acc = 1.0\n",
            "ETA = 0.9 n_estimators = 200 max_depth = 1 rec = 1.0 acc = 1.0\n",
            "ETA = 0.9 n_estimators = 200 max_depth = 2 rec = 1.0 acc = 1.0\n",
            "ETA = 0.9 n_estimators = 200 max_depth = 3 rec = 1.0 acc = 1.0\n",
            "ETA = 0.9 n_estimators = 200 max_depth = 4 rec = 1.0 acc = 1.0\n",
            "ETA = 0.9 n_estimators = 200 max_depth = 5 rec = 1.0 acc = 1.0\n",
            "ETA = 0.9 n_estimators = 200 max_depth = 6 rec = 1.0 acc = 1.0\n",
            "ETA = 0.9 n_estimators = 200 max_depth = 7 rec = 1.0 acc = 1.0\n",
            "ETA = 0.9 n_estimators = 200 max_depth = 8 rec = 1.0 acc = 1.0\n",
            "ETA = 0.9 n_estimators = 200 max_depth = 9 rec = 1.0 acc = 1.0\n",
            "ETA = 0.9 n_estimators = 200 max_depth = 10 rec = 1.0 acc = 1.0\n",
            "ETA = 0.9 n_estimators = 200 max_depth = 11 rec = 1.0 acc = 1.0\n",
            "ETA = 0.9 n_estimators = 200 max_depth = 12 rec = 1.0 acc = 1.0\n",
            "ETA = 0.9 n_estimators = 200 max_depth = 13 rec = 1.0 acc = 1.0\n",
            "ETA = 0.9 n_estimators = 200 max_depth = 14 rec = 1.0 acc = 1.0\n",
            "ETA = 0.9 n_estimators = 200 max_depth = 15 rec = 1.0 acc = 1.0\n",
            "ETA = 0.9 n_estimators = 200 max_depth = 16 rec = 1.0 acc = 1.0\n",
            "ETA = 0.9 n_estimators = 200 max_depth = 17 rec = 1.0 acc = 1.0\n",
            "ETA = 0.9 n_estimators = 200 max_depth = 18 rec = 1.0 acc = 1.0\n",
            "ETA = 0.9 n_estimators = 200 max_depth = 19 rec = 1.0 acc = 1.0\n",
            "ETA = 0.9 n_estimators = 500 max_depth = 1 rec = 1.0 acc = 1.0\n",
            "ETA = 0.9 n_estimators = 500 max_depth = 2 rec = 1.0 acc = 1.0\n",
            "ETA = 0.9 n_estimators = 500 max_depth = 3 rec = 1.0 acc = 1.0\n",
            "ETA = 0.9 n_estimators = 500 max_depth = 4 rec = 1.0 acc = 1.0\n",
            "ETA = 0.9 n_estimators = 500 max_depth = 5 rec = 1.0 acc = 1.0\n",
            "ETA = 0.9 n_estimators = 500 max_depth = 6 rec = 1.0 acc = 1.0\n",
            "ETA = 0.9 n_estimators = 500 max_depth = 7 rec = 1.0 acc = 1.0\n",
            "ETA = 0.9 n_estimators = 500 max_depth = 8 rec = 1.0 acc = 1.0\n",
            "ETA = 0.9 n_estimators = 500 max_depth = 9 rec = 1.0 acc = 1.0\n",
            "ETA = 0.9 n_estimators = 500 max_depth = 10 rec = 1.0 acc = 1.0\n",
            "ETA = 0.9 n_estimators = 500 max_depth = 11 rec = 1.0 acc = 1.0\n",
            "ETA = 0.9 n_estimators = 500 max_depth = 12 rec = 1.0 acc = 1.0\n",
            "ETA = 0.9 n_estimators = 500 max_depth = 13 rec = 1.0 acc = 1.0\n",
            "ETA = 0.9 n_estimators = 500 max_depth = 14 rec = 1.0 acc = 1.0\n",
            "ETA = 0.9 n_estimators = 500 max_depth = 15 rec = 1.0 acc = 1.0\n",
            "ETA = 0.9 n_estimators = 500 max_depth = 16 rec = 1.0 acc = 1.0\n",
            "ETA = 0.9 n_estimators = 500 max_depth = 17 rec = 1.0 acc = 1.0\n",
            "ETA = 0.9 n_estimators = 500 max_depth = 18 rec = 1.0 acc = 1.0\n",
            "ETA = 0.9 n_estimators = 500 max_depth = 19 rec = 1.0 acc = 1.0\n",
            "ETA = 1.0 n_estimators = 10 max_depth = 1 rec = 0.9880952380952381 acc = 0.9901558654634947\n",
            "ETA = 1.0 n_estimators = 10 max_depth = 2 rec = 0.9965986394557823 acc = 0.9983593109105825\n",
            "ETA = 1.0 n_estimators = 10 max_depth = 3 rec = 1.0 acc = 1.0\n",
            "ETA = 1.0 n_estimators = 10 max_depth = 4 rec = 1.0 acc = 1.0\n",
            "ETA = 1.0 n_estimators = 10 max_depth = 5 rec = 1.0 acc = 1.0\n",
            "ETA = 1.0 n_estimators = 10 max_depth = 6 rec = 1.0 acc = 1.0\n",
            "ETA = 1.0 n_estimators = 10 max_depth = 7 rec = 1.0 acc = 1.0\n",
            "ETA = 1.0 n_estimators = 10 max_depth = 8 rec = 1.0 acc = 1.0\n",
            "ETA = 1.0 n_estimators = 10 max_depth = 9 rec = 1.0 acc = 1.0\n",
            "ETA = 1.0 n_estimators = 10 max_depth = 10 rec = 1.0 acc = 1.0\n",
            "ETA = 1.0 n_estimators = 10 max_depth = 11 rec = 1.0 acc = 1.0\n",
            "ETA = 1.0 n_estimators = 10 max_depth = 12 rec = 1.0 acc = 1.0\n",
            "ETA = 1.0 n_estimators = 10 max_depth = 13 rec = 1.0 acc = 1.0\n",
            "ETA = 1.0 n_estimators = 10 max_depth = 14 rec = 1.0 acc = 1.0\n",
            "ETA = 1.0 n_estimators = 10 max_depth = 15 rec = 1.0 acc = 1.0\n",
            "ETA = 1.0 n_estimators = 10 max_depth = 16 rec = 1.0 acc = 1.0\n",
            "ETA = 1.0 n_estimators = 10 max_depth = 17 rec = 1.0 acc = 1.0\n",
            "ETA = 1.0 n_estimators = 10 max_depth = 18 rec = 1.0 acc = 1.0\n",
            "ETA = 1.0 n_estimators = 10 max_depth = 19 rec = 1.0 acc = 1.0\n",
            "ETA = 1.0 n_estimators = 50 max_depth = 1 rec = 1.0 acc = 1.0\n",
            "ETA = 1.0 n_estimators = 50 max_depth = 2 rec = 1.0 acc = 1.0\n",
            "ETA = 1.0 n_estimators = 50 max_depth = 3 rec = 1.0 acc = 1.0\n",
            "ETA = 1.0 n_estimators = 50 max_depth = 4 rec = 1.0 acc = 1.0\n",
            "ETA = 1.0 n_estimators = 50 max_depth = 5 rec = 1.0 acc = 1.0\n",
            "ETA = 1.0 n_estimators = 50 max_depth = 6 rec = 1.0 acc = 1.0\n",
            "ETA = 1.0 n_estimators = 50 max_depth = 7 rec = 1.0 acc = 1.0\n",
            "ETA = 1.0 n_estimators = 50 max_depth = 8 rec = 1.0 acc = 1.0\n",
            "ETA = 1.0 n_estimators = 50 max_depth = 9 rec = 1.0 acc = 1.0\n",
            "ETA = 1.0 n_estimators = 50 max_depth = 10 rec = 1.0 acc = 1.0\n",
            "ETA = 1.0 n_estimators = 50 max_depth = 11 rec = 1.0 acc = 1.0\n",
            "ETA = 1.0 n_estimators = 50 max_depth = 12 rec = 1.0 acc = 1.0\n",
            "ETA = 1.0 n_estimators = 50 max_depth = 13 rec = 1.0 acc = 1.0\n",
            "ETA = 1.0 n_estimators = 50 max_depth = 14 rec = 1.0 acc = 1.0\n",
            "ETA = 1.0 n_estimators = 50 max_depth = 15 rec = 1.0 acc = 1.0\n",
            "ETA = 1.0 n_estimators = 50 max_depth = 16 rec = 1.0 acc = 1.0\n",
            "ETA = 1.0 n_estimators = 50 max_depth = 17 rec = 1.0 acc = 1.0\n",
            "ETA = 1.0 n_estimators = 50 max_depth = 18 rec = 1.0 acc = 1.0\n",
            "ETA = 1.0 n_estimators = 50 max_depth = 19 rec = 1.0 acc = 1.0\n",
            "ETA = 1.0 n_estimators = 100 max_depth = 1 rec = 1.0 acc = 1.0\n",
            "ETA = 1.0 n_estimators = 100 max_depth = 2 rec = 1.0 acc = 1.0\n",
            "ETA = 1.0 n_estimators = 100 max_depth = 3 rec = 1.0 acc = 1.0\n",
            "ETA = 1.0 n_estimators = 100 max_depth = 4 rec = 1.0 acc = 1.0\n",
            "ETA = 1.0 n_estimators = 100 max_depth = 5 rec = 1.0 acc = 1.0\n",
            "ETA = 1.0 n_estimators = 100 max_depth = 6 rec = 1.0 acc = 1.0\n",
            "ETA = 1.0 n_estimators = 100 max_depth = 7 rec = 1.0 acc = 1.0\n",
            "ETA = 1.0 n_estimators = 100 max_depth = 8 rec = 1.0 acc = 1.0\n",
            "ETA = 1.0 n_estimators = 100 max_depth = 9 rec = 1.0 acc = 1.0\n",
            "ETA = 1.0 n_estimators = 100 max_depth = 10 rec = 1.0 acc = 1.0\n",
            "ETA = 1.0 n_estimators = 100 max_depth = 11 rec = 1.0 acc = 1.0\n",
            "ETA = 1.0 n_estimators = 100 max_depth = 12 rec = 1.0 acc = 1.0\n",
            "ETA = 1.0 n_estimators = 100 max_depth = 13 rec = 1.0 acc = 1.0\n",
            "ETA = 1.0 n_estimators = 100 max_depth = 14 rec = 1.0 acc = 1.0\n",
            "ETA = 1.0 n_estimators = 100 max_depth = 15 rec = 1.0 acc = 1.0\n",
            "ETA = 1.0 n_estimators = 100 max_depth = 16 rec = 1.0 acc = 1.0\n",
            "ETA = 1.0 n_estimators = 100 max_depth = 17 rec = 1.0 acc = 1.0\n",
            "ETA = 1.0 n_estimators = 100 max_depth = 18 rec = 1.0 acc = 1.0\n",
            "ETA = 1.0 n_estimators = 100 max_depth = 19 rec = 1.0 acc = 1.0\n",
            "ETA = 1.0 n_estimators = 200 max_depth = 1 rec = 1.0 acc = 1.0\n",
            "ETA = 1.0 n_estimators = 200 max_depth = 2 rec = 1.0 acc = 1.0\n",
            "ETA = 1.0 n_estimators = 200 max_depth = 3 rec = 1.0 acc = 1.0\n",
            "ETA = 1.0 n_estimators = 200 max_depth = 4 rec = 1.0 acc = 1.0\n",
            "ETA = 1.0 n_estimators = 200 max_depth = 5 rec = 1.0 acc = 1.0\n",
            "ETA = 1.0 n_estimators = 200 max_depth = 6 rec = 1.0 acc = 1.0\n",
            "ETA = 1.0 n_estimators = 200 max_depth = 7 rec = 1.0 acc = 1.0\n",
            "ETA = 1.0 n_estimators = 200 max_depth = 8 rec = 1.0 acc = 1.0\n",
            "ETA = 1.0 n_estimators = 200 max_depth = 9 rec = 1.0 acc = 1.0\n",
            "ETA = 1.0 n_estimators = 200 max_depth = 10 rec = 1.0 acc = 1.0\n",
            "ETA = 1.0 n_estimators = 200 max_depth = 11 rec = 1.0 acc = 1.0\n",
            "ETA = 1.0 n_estimators = 200 max_depth = 12 rec = 1.0 acc = 1.0\n",
            "ETA = 1.0 n_estimators = 200 max_depth = 13 rec = 1.0 acc = 1.0\n",
            "ETA = 1.0 n_estimators = 200 max_depth = 14 rec = 1.0 acc = 1.0\n",
            "ETA = 1.0 n_estimators = 200 max_depth = 15 rec = 1.0 acc = 1.0\n",
            "ETA = 1.0 n_estimators = 200 max_depth = 16 rec = 1.0 acc = 1.0\n",
            "ETA = 1.0 n_estimators = 200 max_depth = 17 rec = 1.0 acc = 1.0\n",
            "ETA = 1.0 n_estimators = 200 max_depth = 18 rec = 1.0 acc = 1.0\n",
            "ETA = 1.0 n_estimators = 200 max_depth = 19 rec = 1.0 acc = 1.0\n",
            "ETA = 1.0 n_estimators = 500 max_depth = 1 rec = 1.0 acc = 1.0\n",
            "ETA = 1.0 n_estimators = 500 max_depth = 2 rec = 1.0 acc = 1.0\n",
            "ETA = 1.0 n_estimators = 500 max_depth = 3 rec = 1.0 acc = 1.0\n",
            "ETA = 1.0 n_estimators = 500 max_depth = 4 rec = 1.0 acc = 1.0\n",
            "ETA = 1.0 n_estimators = 500 max_depth = 5 rec = 1.0 acc = 1.0\n",
            "ETA = 1.0 n_estimators = 500 max_depth = 6 rec = 1.0 acc = 1.0\n",
            "ETA = 1.0 n_estimators = 500 max_depth = 7 rec = 1.0 acc = 1.0\n",
            "ETA = 1.0 n_estimators = 500 max_depth = 8 rec = 1.0 acc = 1.0\n",
            "ETA = 1.0 n_estimators = 500 max_depth = 9 rec = 1.0 acc = 1.0\n",
            "ETA = 1.0 n_estimators = 500 max_depth = 10 rec = 1.0 acc = 1.0\n",
            "ETA = 1.0 n_estimators = 500 max_depth = 11 rec = 1.0 acc = 1.0\n",
            "ETA = 1.0 n_estimators = 500 max_depth = 12 rec = 1.0 acc = 1.0\n",
            "ETA = 1.0 n_estimators = 500 max_depth = 13 rec = 1.0 acc = 1.0\n",
            "ETA = 1.0 n_estimators = 500 max_depth = 14 rec = 1.0 acc = 1.0\n",
            "ETA = 1.0 n_estimators = 500 max_depth = 15 rec = 1.0 acc = 1.0\n",
            "ETA = 1.0 n_estimators = 500 max_depth = 16 rec = 1.0 acc = 1.0\n",
            "ETA = 1.0 n_estimators = 500 max_depth = 17 rec = 1.0 acc = 1.0\n",
            "ETA = 1.0 n_estimators = 500 max_depth = 18 rec = 1.0 acc = 1.0\n",
            "ETA = 1.0 n_estimators = 500 max_depth = 19 rec = 1.0 acc = 1.0\n",
            "Best model is:  [0.1, 10, 4, 0.9965986394557823, 0.9983593109105825]\n"
          ]
        }
      ]
    },
    {
      "cell_type": "code",
      "source": [
        "from sklearn.neural_network import MLPClassifier"
      ],
      "metadata": {
        "id": "vfXhNFTKK3WO"
      },
      "execution_count": 89,
      "outputs": []
    },
    {
      "cell_type": "code",
      "source": [
        "hidden_layers = [50, 100, 200, 500]\n",
        "solvers = ['lbfgs', 'sgd', 'adam']\n",
        "alphas = [0.0001, 0.001, 0.01, 0.1, 10, 100]\n",
        "best = [0,0,0,0,0]\n",
        "\n",
        "for solver in solvers:\n",
        "  for hidden_layer in hidden_layers:\n",
        "    for alpha in alphas:\n",
        "      model = MLPClassifier(hidden_layer_sizes=(hidden_layer,), solver=solver, alpha = alpha, random_state=7)\n",
        "      model.fit(x_train, y_train)\n",
        "      y_pred = model.predict(x_test)\n",
        "      rec = recall_score(y_test, y_pred)\n",
        "      acc = accuracy_score(y_test, y_pred)\n",
        "\n",
        "      print(f'Solver = {solver} hidden_layer_size = {hidden_layer} alpha = {alpha} rec = {rec} acc = {acc}')\n",
        "\n",
        "      if (rec > best[3] and rec != 1.0):\n",
        "        best = [solver, hidden_layer, alpha, rec, acc]\n",
        "      elif(rec == best[3] and (acc > best[4] and acc != 1.0)):\n",
        "        best = [solver, hidden_layer, alpha, rec, acc]\n",
        "\n",
        "print('Best is: ', best)"
      ],
      "metadata": {
        "colab": {
          "base_uri": "https://localhost:8080/"
        },
        "id": "br5_3VxgK-A-",
        "outputId": "c8f511cc-6808-46d3-d3dc-61a991d3dd7a"
      },
      "execution_count": 90,
      "outputs": [
        {
          "output_type": "stream",
          "name": "stdout",
          "text": [
            "Solver = lbfgs hidden_layer_size = 50 alpha = 0.0001 rec = 1.0 acc = 1.0\n",
            "Solver = lbfgs hidden_layer_size = 50 alpha = 0.001 rec = 1.0 acc = 1.0\n",
            "Solver = lbfgs hidden_layer_size = 50 alpha = 0.01 rec = 1.0 acc = 1.0\n",
            "Solver = lbfgs hidden_layer_size = 50 alpha = 0.1 rec = 1.0 acc = 1.0\n",
            "Solver = lbfgs hidden_layer_size = 50 alpha = 10 rec = 1.0 acc = 1.0\n",
            "Solver = lbfgs hidden_layer_size = 50 alpha = 100 rec = 0.9965986394557823 acc = 0.9983593109105825\n",
            "Solver = lbfgs hidden_layer_size = 100 alpha = 0.0001 rec = 1.0 acc = 1.0\n",
            "Solver = lbfgs hidden_layer_size = 100 alpha = 0.001 rec = 1.0 acc = 1.0\n",
            "Solver = lbfgs hidden_layer_size = 100 alpha = 0.01 rec = 1.0 acc = 1.0\n",
            "Solver = lbfgs hidden_layer_size = 100 alpha = 0.1 rec = 1.0 acc = 1.0\n",
            "Solver = lbfgs hidden_layer_size = 100 alpha = 10 rec = 1.0 acc = 1.0\n",
            "Solver = lbfgs hidden_layer_size = 100 alpha = 100 rec = 0.9965986394557823 acc = 0.9983593109105825\n",
            "Solver = lbfgs hidden_layer_size = 200 alpha = 0.0001 rec = 1.0 acc = 1.0\n",
            "Solver = lbfgs hidden_layer_size = 200 alpha = 0.001 rec = 1.0 acc = 1.0\n",
            "Solver = lbfgs hidden_layer_size = 200 alpha = 0.01 rec = 1.0 acc = 1.0\n",
            "Solver = lbfgs hidden_layer_size = 200 alpha = 0.1 rec = 1.0 acc = 1.0\n",
            "Solver = lbfgs hidden_layer_size = 200 alpha = 10 rec = 1.0 acc = 1.0\n",
            "Solver = lbfgs hidden_layer_size = 200 alpha = 100 rec = 0.9965986394557823 acc = 0.9983593109105825\n",
            "Solver = lbfgs hidden_layer_size = 500 alpha = 0.0001 rec = 1.0 acc = 1.0\n",
            "Solver = lbfgs hidden_layer_size = 500 alpha = 0.001 rec = 1.0 acc = 1.0\n",
            "Solver = lbfgs hidden_layer_size = 500 alpha = 0.01 rec = 1.0 acc = 1.0\n",
            "Solver = lbfgs hidden_layer_size = 500 alpha = 0.1 rec = 1.0 acc = 1.0\n",
            "Solver = lbfgs hidden_layer_size = 500 alpha = 10 rec = 1.0 acc = 1.0\n",
            "Solver = lbfgs hidden_layer_size = 500 alpha = 100 rec = 0.9965986394557823 acc = 0.9983593109105825\n",
            "Solver = sgd hidden_layer_size = 50 alpha = 0.0001 rec = 0.9965986394557823 acc = 0.9983593109105825\n",
            "Solver = sgd hidden_layer_size = 50 alpha = 0.001 rec = 0.9965986394557823 acc = 0.9983593109105825\n",
            "Solver = sgd hidden_layer_size = 50 alpha = 0.01 rec = 0.9965986394557823 acc = 0.9983593109105825\n",
            "Solver = sgd hidden_layer_size = 50 alpha = 0.1 rec = 0.9965986394557823 acc = 0.9983593109105825\n",
            "Solver = sgd hidden_layer_size = 50 alpha = 10 rec = 0.9795918367346939 acc = 0.9885151763740772\n",
            "Solver = sgd hidden_layer_size = 50 alpha = 100 rec = 0.8044217687074829 acc = 0.9056603773584906\n",
            "Solver = sgd hidden_layer_size = 100 alpha = 0.0001 rec = 0.9965986394557823 acc = 0.9983593109105825\n",
            "Solver = sgd hidden_layer_size = 100 alpha = 0.001 rec = 0.9965986394557823 acc = 0.9983593109105825\n",
            "Solver = sgd hidden_layer_size = 100 alpha = 0.01 rec = 0.9965986394557823 acc = 0.9983593109105825\n",
            "Solver = sgd hidden_layer_size = 100 alpha = 0.1 rec = 0.9965986394557823 acc = 0.9983593109105825\n"
          ]
        },
        {
          "output_type": "stream",
          "name": "stderr",
          "text": [
            "/usr/local/lib/python3.10/dist-packages/sklearn/neural_network/_multilayer_perceptron.py:686: ConvergenceWarning: Stochastic Optimizer: Maximum iterations (200) reached and the optimization hasn't converged yet.\n",
            "  warnings.warn(\n"
          ]
        },
        {
          "output_type": "stream",
          "name": "stdout",
          "text": [
            "Solver = sgd hidden_layer_size = 100 alpha = 10 rec = 0.9778911564625851 acc = 0.9876948318293683\n",
            "Solver = sgd hidden_layer_size = 100 alpha = 100 rec = 0.79421768707483 acc = 0.9007383100902379\n",
            "Solver = sgd hidden_layer_size = 200 alpha = 0.0001 rec = 0.9965986394557823 acc = 0.9983593109105825\n",
            "Solver = sgd hidden_layer_size = 200 alpha = 0.001 rec = 0.9965986394557823 acc = 0.9983593109105825\n",
            "Solver = sgd hidden_layer_size = 200 alpha = 0.01 rec = 0.9965986394557823 acc = 0.9983593109105825\n",
            "Solver = sgd hidden_layer_size = 200 alpha = 0.1 rec = 0.9965986394557823 acc = 0.9983593109105825\n"
          ]
        },
        {
          "output_type": "stream",
          "name": "stderr",
          "text": [
            "/usr/local/lib/python3.10/dist-packages/sklearn/neural_network/_multilayer_perceptron.py:686: ConvergenceWarning: Stochastic Optimizer: Maximum iterations (200) reached and the optimization hasn't converged yet.\n",
            "  warnings.warn(\n"
          ]
        },
        {
          "output_type": "stream",
          "name": "stdout",
          "text": [
            "Solver = sgd hidden_layer_size = 200 alpha = 10 rec = 0.9795918367346939 acc = 0.9885151763740772\n",
            "Solver = sgd hidden_layer_size = 200 alpha = 100 rec = 0.79421768707483 acc = 0.9007383100902379\n",
            "Solver = sgd hidden_layer_size = 500 alpha = 0.0001 rec = 0.9965986394557823 acc = 0.9983593109105825\n",
            "Solver = sgd hidden_layer_size = 500 alpha = 0.001 rec = 0.9965986394557823 acc = 0.9983593109105825\n",
            "Solver = sgd hidden_layer_size = 500 alpha = 0.01 rec = 0.9965986394557823 acc = 0.9983593109105825\n",
            "Solver = sgd hidden_layer_size = 500 alpha = 0.1 rec = 0.9965986394557823 acc = 0.9983593109105825\n"
          ]
        },
        {
          "output_type": "stream",
          "name": "stderr",
          "text": [
            "/usr/local/lib/python3.10/dist-packages/sklearn/neural_network/_multilayer_perceptron.py:686: ConvergenceWarning: Stochastic Optimizer: Maximum iterations (200) reached and the optimization hasn't converged yet.\n",
            "  warnings.warn(\n"
          ]
        },
        {
          "output_type": "stream",
          "name": "stdout",
          "text": [
            "Solver = sgd hidden_layer_size = 500 alpha = 10 rec = 0.9795918367346939 acc = 0.9885151763740772\n",
            "Solver = sgd hidden_layer_size = 500 alpha = 100 rec = 0.7976190476190477 acc = 0.9023789991796555\n",
            "Solver = adam hidden_layer_size = 50 alpha = 0.0001 rec = 1.0 acc = 1.0\n",
            "Solver = adam hidden_layer_size = 50 alpha = 0.001 rec = 1.0 acc = 1.0\n",
            "Solver = adam hidden_layer_size = 50 alpha = 0.01 rec = 1.0 acc = 1.0\n",
            "Solver = adam hidden_layer_size = 50 alpha = 0.1 rec = 1.0 acc = 1.0\n",
            "Solver = adam hidden_layer_size = 50 alpha = 10 rec = 0.9829931972789115 acc = 0.9893355209187858\n",
            "Solver = adam hidden_layer_size = 50 alpha = 100 rec = 0.79421768707483 acc = 0.9007383100902379\n",
            "Solver = adam hidden_layer_size = 100 alpha = 0.0001 rec = 1.0 acc = 1.0\n",
            "Solver = adam hidden_layer_size = 100 alpha = 0.001 rec = 1.0 acc = 1.0\n",
            "Solver = adam hidden_layer_size = 100 alpha = 0.01 rec = 1.0 acc = 1.0\n",
            "Solver = adam hidden_layer_size = 100 alpha = 0.1 rec = 1.0 acc = 1.0\n",
            "Solver = adam hidden_layer_size = 100 alpha = 10 rec = 0.9795918367346939 acc = 0.9876948318293683\n",
            "Solver = adam hidden_layer_size = 100 alpha = 100 rec = 0.8044217687074829 acc = 0.9048400328137818\n",
            "Solver = adam hidden_layer_size = 200 alpha = 0.0001 rec = 1.0 acc = 1.0\n",
            "Solver = adam hidden_layer_size = 200 alpha = 0.001 rec = 1.0 acc = 1.0\n",
            "Solver = adam hidden_layer_size = 200 alpha = 0.01 rec = 1.0 acc = 1.0\n",
            "Solver = adam hidden_layer_size = 200 alpha = 0.1 rec = 1.0 acc = 1.0\n",
            "Solver = adam hidden_layer_size = 200 alpha = 10 rec = 0.9795918367346939 acc = 0.9876948318293683\n",
            "Solver = adam hidden_layer_size = 200 alpha = 100 rec = 0.7993197278911565 acc = 0.9031993437243643\n",
            "Solver = adam hidden_layer_size = 500 alpha = 0.0001 rec = 1.0 acc = 1.0\n",
            "Solver = adam hidden_layer_size = 500 alpha = 0.001 rec = 1.0 acc = 1.0\n",
            "Solver = adam hidden_layer_size = 500 alpha = 0.01 rec = 1.0 acc = 1.0\n",
            "Solver = adam hidden_layer_size = 500 alpha = 0.1 rec = 1.0 acc = 1.0\n",
            "Solver = adam hidden_layer_size = 500 alpha = 10 rec = 0.9778911564625851 acc = 0.9876948318293683\n",
            "Solver = adam hidden_layer_size = 500 alpha = 100 rec = 0.7976190476190477 acc = 0.9023789991796555\n",
            "Best is:  ['lbfgs', 50, 100, 0.9965986394557823, 0.9983593109105825]\n"
          ]
        }
      ]
    },
    {
      "cell_type": "markdown",
      "source": [
        "Considering the models and parameters provided, all the models reached the same level of recall and accuracy, threfore we will use the simpler one, therefore the Logistic Regression"
      ],
      "metadata": {
        "id": "8q_jRnXjQNga"
      }
    }
  ]
}